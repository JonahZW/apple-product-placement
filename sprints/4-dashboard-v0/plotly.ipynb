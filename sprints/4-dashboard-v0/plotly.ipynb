{
 "cells": [
  {
   "cell_type": "code",
   "execution_count": 1,
   "metadata": {},
   "outputs": [],
   "source": [
    "import pandas as pd\n",
    "import numpy as np\n",
    "import plotly.express as px\n",
    "import plotly.graph_objs as go\n"
   ]
  },
  {
   "cell_type": "code",
   "execution_count": 29,
   "metadata": {},
   "outputs": [
    {
     "data": {
      "text/html": [
       "<div>\n",
       "<style scoped>\n",
       "    .dataframe tbody tr th:only-of-type {\n",
       "        vertical-align: middle;\n",
       "    }\n",
       "\n",
       "    .dataframe tbody tr th {\n",
       "        vertical-align: top;\n",
       "    }\n",
       "\n",
       "    .dataframe thead th {\n",
       "        text-align: right;\n",
       "    }\n",
       "</style>\n",
       "<table border=\"1\" class=\"dataframe\">\n",
       "  <thead>\n",
       "    <tr style=\"text-align: right;\">\n",
       "      <th></th>\n",
       "      <th>tconst</th>\n",
       "      <th>Title</th>\n",
       "      <th>Season</th>\n",
       "      <th>Episode</th>\n",
       "      <th>imgCount</th>\n",
       "      <th>averageRating</th>\n",
       "      <th>numVotes</th>\n",
       "      <th>startYear</th>\n",
       "      <th>Media</th>\n",
       "      <th>Device</th>\n",
       "    </tr>\n",
       "  </thead>\n",
       "  <tbody>\n",
       "    <tr>\n",
       "      <th>0</th>\n",
       "      <td>tt7991508</td>\n",
       "      <td>Finestkind (2023)</td>\n",
       "      <td>-1.0</td>\n",
       "      <td>-1.0</td>\n",
       "      <td>18</td>\n",
       "      <td>6.4</td>\n",
       "      <td>173</td>\n",
       "      <td>2023</td>\n",
       "      <td>Movie</td>\n",
       "      <td>iPhone</td>\n",
       "    </tr>\n",
       "    <tr>\n",
       "      <th>1</th>\n",
       "      <td>tt6722400</td>\n",
       "      <td>Fast Charlie (2023)</td>\n",
       "      <td>-1.0</td>\n",
       "      <td>-1.0</td>\n",
       "      <td>11</td>\n",
       "      <td>9.4</td>\n",
       "      <td>96</td>\n",
       "      <td>2023</td>\n",
       "      <td>Movie</td>\n",
       "      <td>iPhone</td>\n",
       "    </tr>\n",
       "    <tr>\n",
       "      <th>2</th>\n",
       "      <td>tt13651794</td>\n",
       "      <td>May December (2023)</td>\n",
       "      <td>-1.0</td>\n",
       "      <td>-1.0</td>\n",
       "      <td>9</td>\n",
       "      <td>7.4</td>\n",
       "      <td>1345</td>\n",
       "      <td>2023</td>\n",
       "      <td>Movie</td>\n",
       "      <td>iPhone</td>\n",
       "    </tr>\n",
       "    <tr>\n",
       "      <th>3</th>\n",
       "      <td>tt19890316</td>\n",
       "      <td>What Happens Later (2023)</td>\n",
       "      <td>-1.0</td>\n",
       "      <td>-1.0</td>\n",
       "      <td>25</td>\n",
       "      <td>7.6</td>\n",
       "      <td>14</td>\n",
       "      <td>2023</td>\n",
       "      <td>Movie</td>\n",
       "      <td>iPhone</td>\n",
       "    </tr>\n",
       "    <tr>\n",
       "      <th>4</th>\n",
       "      <td>tt15744298</td>\n",
       "      <td>Freelance (2023)</td>\n",
       "      <td>-1.0</td>\n",
       "      <td>-1.0</td>\n",
       "      <td>106</td>\n",
       "      <td>5.3</td>\n",
       "      <td>374</td>\n",
       "      <td>2023</td>\n",
       "      <td>Movie</td>\n",
       "      <td>iPhone</td>\n",
       "    </tr>\n",
       "  </tbody>\n",
       "</table>\n",
       "</div>"
      ],
      "text/plain": [
       "       tconst                      Title  Season  Episode  imgCount  \\\n",
       "0   tt7991508          Finestkind (2023)    -1.0     -1.0        18   \n",
       "1   tt6722400        Fast Charlie (2023)    -1.0     -1.0        11   \n",
       "2  tt13651794        May December (2023)    -1.0     -1.0         9   \n",
       "3  tt19890316  What Happens Later (2023)    -1.0     -1.0        25   \n",
       "4  tt15744298           Freelance (2023)    -1.0     -1.0       106   \n",
       "\n",
       "   averageRating  numVotes  startYear  Media  Device  \n",
       "0            6.4       173       2023  Movie  iPhone  \n",
       "1            9.4        96       2023  Movie  iPhone  \n",
       "2            7.4      1345       2023  Movie  iPhone  \n",
       "3            7.6        14       2023  Movie  iPhone  \n",
       "4            5.3       374       2023  Movie  iPhone  "
      ]
     },
     "execution_count": 29,
     "metadata": {},
     "output_type": "execute_result"
    }
   ],
   "source": [
    "df = pd.read_csv('../data.csv', low_memory=False)\n",
    "df.head()"
   ]
  },
  {
   "cell_type": "code",
   "execution_count": 3,
   "metadata": {},
   "outputs": [
    {
     "name": "stdout",
     "output_type": "stream",
     "text": [
      "total titles: 619\n",
      "titles (2020 or later): 486\n",
      "titles (2020 or later w/ more than 2+ placements): 334\n"
     ]
    }
   ],
   "source": [
    "same_cols = ['tconst', 'Title', 'numVotes', 'startYear','Media']\n",
    "agg_dict = {\n",
    "    'Device':'count',\n",
    "    'averageRating':'mean',\n",
    "    'Season':'count',\n",
    "    'Episode':'count',\n",
    "    'imgCount':'mean' \n",
    "}\n",
    "resolved_data = df.groupby(same_cols).agg(agg_dict).drop(columns=['Season','Device']).reset_index()\n",
    "print('total titles:',resolved_data.shape[0])\n",
    "resolved_data = resolved_data[resolved_data['startYear'] > 2019]\n",
    "print('titles (2020 or later):',resolved_data.shape[0])\n",
    "resolved_data = resolved_data[resolved_data['imgCount'] > 1]\n",
    "print('titles (2020 or later w/ more than 2+ placements):',resolved_data.shape[0])\n",
    "resolved_data['year'] = resolved_data['startYear'].astype('string')\n",
    "#resolved_data.head(50)"
   ]
  },
  {
   "cell_type": "code",
   "execution_count": 4,
   "metadata": {},
   "outputs": [
    {
     "data": {
      "application/vnd.plotly.v1+json": {
       "config": {
        "plotlyServerURL": "https://plot.ly"
       },
       "data": [
        {
         "marker": {
          "color": [
           2020,
           2021,
           2023,
           2022,
           2023,
           2022,
           2020,
           2020,
           2021,
           2021,
           2021,
           2021,
           2022,
           2021,
           2020,
           2021,
           2021,
           2023,
           2022,
           2021,
           2021,
           2021,
           2021,
           2020,
           2020,
           2022,
           2021,
           2021,
           2021,
           2021,
           2022,
           2022,
           2022,
           2022,
           2021,
           2022,
           2021,
           2022,
           2023,
           2022,
           2022,
           2021,
           2023,
           2022,
           2022,
           2022,
           2021,
           2021,
           2021,
           2021,
           2021,
           2021,
           2021,
           2022,
           2020,
           2021,
           2021,
           2021,
           2022,
           2023,
           2022,
           2023,
           2021,
           2023,
           2023,
           2021,
           2022,
           2022,
           2022,
           2022,
           2023,
           2021,
           2020,
           2021,
           2022,
           2022,
           2020,
           2022,
           2021,
           2022,
           2022,
           2021,
           2023,
           2022,
           2022,
           2023,
           2023,
           2021,
           2021,
           2023,
           2022,
           2023,
           2022,
           2022,
           2023,
           2022,
           2022,
           2020,
           2023,
           2022,
           2021,
           2023,
           2022,
           2022,
           2022,
           2023,
           2021,
           2022,
           2023,
           2021,
           2021,
           2022,
           2021,
           2023,
           2022,
           2022,
           2023,
           2023,
           2023,
           2023,
           2021,
           2022,
           2022,
           2022,
           2023,
           2023,
           2023,
           2022,
           2022,
           2022,
           2022,
           2022,
           2022,
           2022,
           2022,
           2021,
           2022,
           2021,
           2022,
           2022,
           2021,
           2022,
           2022,
           2022,
           2023,
           2023,
           2022,
           2022,
           2023,
           2021,
           2022,
           2021,
           2023,
           2022,
           2022,
           2023,
           2023,
           2023,
           2022,
           2022,
           2023,
           2023,
           2023,
           2022,
           2022,
           2023,
           2022,
           2022,
           2022,
           2023,
           2022,
           2023,
           2023,
           2023,
           2021,
           2023,
           2023,
           2022,
           2023,
           2023,
           2022,
           2022,
           2023,
           2023,
           2023,
           2022,
           2022,
           2022,
           2023,
           2023,
           2022,
           2023,
           2023,
           2023,
           2023,
           2023,
           2022,
           2022,
           2022,
           2023,
           2023,
           2023,
           2022,
           2023,
           2023,
           2023,
           2023,
           2022,
           2023,
           2023,
           2023,
           2022,
           2023,
           2023,
           2023,
           2022,
           2021,
           2023,
           2023,
           2023,
           2023,
           2023,
           2023,
           2023,
           2023,
           2023,
           2023,
           2022,
           2023,
           2022,
           2023,
           2023,
           2023,
           2023,
           2020,
           2023,
           2022,
           2023,
           2023,
           2023,
           2022,
           2021,
           2023,
           2023,
           2023,
           2023,
           2023,
           2023,
           2023,
           2020,
           2021,
           2021,
           2022,
           2022,
           2021,
           2022,
           2023,
           2021,
           2022,
           2022,
           2023,
           2021,
           2023,
           2020,
           2022,
           2023,
           2023,
           2020,
           2021,
           2023,
           2020,
           2022,
           2021,
           2022,
           2021,
           2023,
           2022,
           2023,
           2020,
           2020,
           2022,
           2022,
           2020,
           2023,
           2021,
           2022,
           2021,
           2020,
           2023,
           2020,
           2021,
           2022,
           2022,
           2020,
           2020,
           2021,
           2020,
           2023,
           2020,
           2020,
           2023,
           2020,
           2021,
           2022,
           2021,
           2020,
           2020,
           2022,
           2021,
           2020,
           2020,
           2022,
           2023,
           2020,
           2023,
           2022,
           2021,
           2020,
           2020,
           2021,
           2021,
           2022,
           2023,
           2020,
           2023,
           2020,
           2020,
           2020,
           2022,
           2021,
           2021,
           2021,
           2022,
           2020
          ]
         },
         "mode": "markers",
         "text": [
          "Gentefied",
          "False Positive (2021)",
          "Shazam! Fury of the Gods (2023)",
          "The Dropout",
          "Red, White & Royal Blue (2023)",
          "Marry Me (2022)",
          "Fatman (2020)",
          "9-1-1: Lone Star",
          "Best Sellers (2021)",
          "CODA (2021)",
          "Mr. Mayor",
          "To All the Boys: Always and Forever (2021)",
          "Don't Worry Darling (2022)",
          "The Premise",
          "Power Book II: Ghost",
          "Ginny & Georgia",
          "Sex/Life",
          "Missing (2023)",
          "She-Hulk: Attorney at Law",
          "Spider-Man: No Way Home (2021)",
          "Here Today (2021)",
          "The Upshaws",
          "The Crew",
          "Trying",
          "Ted Lasso",
          "Spirited (2022)",
          "Walker",
          "Rutherford Falls",
          "Call Your Mother",
          "The Map of Tiny Perfect Things (2021)",
          "Press Play (2022)",
          "Super Pumped",
          "She Said (2022)",
          "Rap Sh!t",
          "The Sex Lives of College Girls",
          "Reasonable Doubt",
          "Big Shot",
          "From Scratch",
          "The Out-Laws (2023)",
          "Rescued by Ruby (2022)",
          "Joe vs. Carole",
          "Together Together (2021)",
          "The Killer (2023)",
          "Wedding Season (2022)",
          "Anything's Possible (2022)",
          "Fleishman Is in Trouble",
          "Silent Night (2021)",
          "Girls5eva",
          "Only Murders in the Building",
          "Mayor of Kingstown",
          "American Auto",
          "Grand Crew",
          "Run the World",
          "Power Book IV: Force",
          "Big Sky",
          "Schmigadoon!",
          "Hacks",
          "The Chair",
          "The Resort",
          "The Kill Room (2023)",
          "Hocus Pocus 2 (2022)",
          "Love in Taipei (2023)",
          "The Shrink Next Door",
          "The Other Zoey (2023)",
          "Who Are You People (2023)",
          "SurrealEstate",
          "Vengeance (2022)",
          "Watcher (2022)",
          "WeCrashed",
          "Suspicion",
          "The Re-Education of Molly Singer (2023)",
          "Doogie Kameāloha M.D.",
          "Unbreakable Kimmy Schmidt: Kimmy vs the Reverend (2020)",
          "American Horror Stories",
          "Sonic the Hedgehog 2 (2022)",
          "As We See It",
          "Songbird (2020)",
          "The Afterparty",
          "Law & Order: Organized Crime",
          "Confess, Fletch (2022)",
          "Echo 3",
          "The Kissing Booth 3 (2021)",
          "Your Place or Mine (2023)",
          "Bel-Air",
          "Mr. Harrigan's Phone (2022)",
          "The List (2023)",
          "Dead Ringers",
          "Resort to Love (2021)",
          "Locked Down (2021)",
          "FUBAR",
          "Pretty Little Liars: Original Sin",
          "High Desert",
          "Peacemaker",
          "Family Squares (2022)",
          "Gen V",
          "The Kings of Napa",
          "The First Lady",
          "Operation Christmas Drop (2020)",
          "Past Lives (2023)",
          "Father of the Bride (2022)",
          "Flatbush Misdemeanors",
          "Reptile (2023)",
          "First Kill",
          "Slumberland (2022)",
          "Archive 81",
          "Platonic",
          "The White Lotus",
          "Wednesday",
          "Love at First Sight (2023)",
          "A Perfect Match (2021)",
          "Acapulco",
          "The Bubble (2022)",
          "Tom and Jerry (2021)",
          "The Curse",
          "Naomi",
          "Irma Vep",
          "I'm a Virgo",
          "If You Were the Last (2023)",
          "May December (2023)",
          "The Last Thing He Told Me",
          "And Just Like That...",
          "The Lincoln Lawyer",
          "Men (2022)",
          "God's Favorite Idiot",
          "On a Wing and a Prayer (2023)",
          "Dumb Money (2023)",
          "Spy Kids: Armageddon (2023)",
          "Secret Headquarters (2022)",
          "The Summer I Turned Pretty",
          "Blacklight (2022)",
          "Boo, Bitch",
          "Somewhere in Queens (2022)",
          "Hollywood Stargirl (2022)",
          "Keep Breathing",
          "Kimi (2022)",
          "Abbott Elementary",
          "Loot",
          "Joe Pickett",
          "Look Both Ways (2022)",
          "Let the Right One In",
          "Pretty Smart",
          "Kindred",
          "The Bear",
          "About Fate (2022)",
          "Shortcomings (2023)",
          "XO, Kitty",
          "How I Met Your Father",
          "Along for the Ride (2022)",
          "Florida Man",
          "National Champions (2021)",
          "Alone Together (2022)",
          "A Christmas Number One (2021)",
          "Cat Person (2023)",
          "Better Nate Than Ever (2022)",
          "Poker Face (2022)",
          "The Big Door Prize",
          "One True Loves (2023)",
          "The Retirement Plan (2023)",
          "The Watcher",
          "Lopez vs. Lopez",
          "At Midnight (2023)",
          "The Idol",
          "City on Fire",
          "Fantasy Football (2022)",
          "My Fake Boyfriend (2022)",
          "Barbie (2023)",
          "Reboot",
          "A Perfect Pairing (2022)",
          "Fire Island (2022)",
          "Murder Mystery 2 (2023)",
          "Emily the Criminal (2022)",
          "Pain Hustlers (2023)",
          "Joy Ride (2023)",
          "Full Circle",
          "American Rust",
          "Ghosted (2023)",
          "Somebody I Used to Know (2023)",
          "Raymond & Ray (2022)",
          "Dog Gone (2023)",
          "Vacation Friends 2 (2023)",
          "Partner Track",
          "Alaska Daily",
          "The Watchful Eye",
          "Jules (2023)",
          "Kaleidoscope",
          "Love in the Villa (2022)",
          "Uncoupled",
          "Pitch Perfect: Bumper in Berlin",
          "Harlan Coben's Shelter",
          "Freeridge",
          "Love & Gelato (2022)",
          "American Born Chinese",
          "The Fall of the House of Usher",
          "No Hard Feelings (2023)",
          "Shrinking",
          "Freelance (2023)",
          "The Calling",
          "Christmas with You (2022)",
          "Blockbuster",
          "Magic Mike's Last Dance (2023)",
          "The Irrational",
          "Fair Play (2023)",
          "Honor Society (2022)",
          "Haunted Mansion (2023)",
          "The Beanie Bubble (2023)",
          "The Equalizer",
          "The Equalizer 3 (2023)",
          "Quantum Leap",
          "Prom Pact (2023)",
          "Up Here",
          "Dear Edward",
          "The Rookie: Feds",
          "Not Dead Yet",
          "Old Dads (2023)",
          "The Muppets Mayhem",
          "So Help Me Todd",
          "The Last Letter from Your Lover (2021)",
          "The Puppetman (2023)",
          "Unstable",
          "Glamorous",
          "Lucky Hank",
          "Bupkis",
          "What Happens Later (2023)",
          "A Tourist's Guide to Love (2023)",
          "Promised Land",
          "Book Club: The Next Chapter (2023)",
          "Tiny Beautiful Things",
          "Wicked City",
          "My Big Fat Greek Wedding 3 (2023)",
          "Love in the Limelight (2022)",
          "Theater Camp (2023)",
          "You Are So Not Invited to My Bat Mitzvah (2023)",
          "The Other Black Girl",
          "Animal Control",
          "Modern Persuasion (2020)",
          "BlackBerry (2023)",
          "The Sky Is Everywhere (2022)",
          "Jury Duty",
          "The Slumber Party (2023)",
          "Beautiful Disaster (2023)",
          "Glass Onion: A Knives Out Mystery (2022)",
          "Clifford the Big Red Dog (2021)",
          "Drunk, Driving, and 17 (2023)",
          "Judge Me Not",
          "Love in the Maldives (2023)",
          "If I Can't Have You (2023)",
          "It's a Wonderful Knife (2023)",
          "Puppy Love (2023)",
          "Office Race (2023)",
          "Locke & Key",
          "Those Who Wish Me Dead (2021)",
          "Lisey's Story",
          "Chip 'n Dale: Rescue Rangers (2022)",
          "13: The Musical (2022)",
          "Saving Paradise (2021)",
          "The Valet (2022)",
          "Sid Is Dead (2023)",
          "He's All That (2021)",
          "Luckiest Girl Alive (2022)",
          "Ambulance (2022)",
          "Nyad (2023)",
          "On the Verge",
          "Rabbit Hole",
          "The Empty Man (2020)",
          "Slow Horses",
          "Plane (2023)",
          "Back on the Strip (2023)",
          "Home Before Dark",
          "The Woman in the Window (2021)",
          "Wonderwell (2023)",
          "Penguin Bloom (2020)",
          "Space Oddity (2022)",
          "Moxie (2021)",
          "I Want You Back (2022)",
          "Heels",
          "She Came to Me (2023)",
          "Cheaper by the Dozen (2022)",
          "Fast Charlie (2023)",
          "Hillbilly Elegy (2020)",
          "The Flight Attendant",
          "The Power",
          "Angelyne",
          "Industry",
          "We Have a Ghost (2023)",
          "Deadly Illusions (2021)",
          "Shining Vale",
          "The Mighty Ducks: Game Changers",
          "The Stand In (2020)",
          "Finestkind (2023)",
          "Little America",
          "Swagger",
          "Hustle (2022)",
          "Jurassic World Dominion (2022)",
          "Breeders",
          "The Undoing",
          "Good on Paper (2021)",
          "All My Life (2020)",
          "Sitting in Bars with Cake (2023)",
          "Awkwafina Is Nora from Queens",
          "Dave",
          "The Changeling",
          "The Wilds",
          "The Hating Game (2021)",
          "Inventing Anna",
          "Nine Perfect Strangers",
          "Mythic Quest",
          "Emily in Paris",
          "Goodnight Mommy (2022)",
          "Firefly Lane",
          "Nurses",
          "Warrior Nun",
          "The People We Hate at the Wedding (2022)",
          "Found",
          "Sweet Magnolias",
          "Cobweb (2023)",
          "Black Panther: Wakanda Forever (2022)",
          "The Falcon and the Winter Soldier",
          "Woke",
          "Mainstream (2020)",
          "Kevin Can F**k Himself",
          "Ordinary Joe",
          "I Love That for You",
          "Blue Beetle (2023)",
          "Intelligence",
          "Mission: Impossible - Dead Reckoning Part One (2023)",
          "Space Force",
          "Diary of a Future President",
          "The Night House (2020)",
          "Bros (2022)",
          "Crisis (2021)",
          "Invasion",
          "The Tomorrow War (2021)",
          "Last Light",
          "Holidate (2020)"
         ],
         "type": "scatter",
         "x": [
          1.0714285714285714,
          1.3333333333333333,
          1.6666666666666667,
          2.230769230769231,
          14.8,
          2.4,
          3,
          2.4411764705882355,
          1.5,
          2,
          1.5,
          1.7142857142857142,
          3,
          1.5,
          1.6666666666666667,
          1.5333333333333334,
          2,
          1.3333333333333333,
          2,
          2,
          1.5,
          1.9523809523809523,
          2.090909090909091,
          1.4583333333333333,
          2.2604166666666665,
          2.5714285714285716,
          1.75,
          1.9,
          1.6,
          1.5,
          1.5,
          2.5652173913043477,
          2.4,
          5.875,
          1.6296296296296295,
          1.4,
          1.85,
          1.25,
          2,
          3,
          1.2857142857142858,
          3,
          12,
          5.666666666666667,
          2.1666666666666665,
          1.5,
          2,
          2.1538461538461537,
          7.583333333333333,
          1.1666666666666667,
          1.9594594594594594,
          1.375,
          2.64,
          4.333333333333333,
          1.3571428571428572,
          1.6,
          1.2173913043478262,
          1.2857142857142858,
          1.5,
          20.6,
          2,
          2,
          1.5,
          16.7,
          5.5,
          12.043478260869565,
          2,
          2.5,
          2.5135135135135136,
          1.3333333333333333,
          4.666666666666667,
          1.8571428571428572,
          1.6666666666666667,
          6.4,
          1.5,
          2,
          1.75,
          2.8333333333333335,
          2.1666666666666665,
          2,
          1.4,
          1.4,
          2.2857142857142856,
          1.7941176470588236,
          3.3333333333333335,
          17.714285714285715,
          1.25,
          1.3333333333333333,
          6,
          2.5,
          1.25,
          4.8,
          1.5,
          1.5,
          7,
          1.1,
          1.8,
          1.4,
          6,
          1.6666666666666667,
          1.5,
          3.5,
          1.5,
          2,
          1.5,
          1.9130434782608696,
          1.7777777777777777,
          1.2222222222222223,
          3,
          2.5,
          1.125,
          1.5,
          1.6666666666666667,
          22.6,
          2,
          1.3333333333333333,
          1.5,
          15,
          7,
          1.6,
          3.2666666666666666,
          3.789473684210526,
          1.5,
          1.6923076923076923,
          3,
          11.421052631578947,
          6,
          2,
          5,
          1.6,
          1.5,
          2.6666666666666665,
          1.3333333333333333,
          1.8,
          3,
          1.5,
          1.7777777777777777,
          1.6666666666666667,
          1.4,
          2,
          2,
          2.5,
          1.5454545454545454,
          3,
          18.5,
          3.55,
          1.5217391304347827,
          2,
          3,
          2,
          1.6666666666666667,
          2.5,
          61,
          2,
          1.5,
          3,
          2,
          34,
          1.4,
          1.3703703703703705,
          1.75,
          2.2857142857142856,
          2.6666666666666665,
          2,
          2.4,
          15,
          1.7142857142857142,
          2.3333333333333335,
          2,
          2.25,
          2,
          2,
          2,
          1.7142857142857142,
          1.25,
          1.25,
          1.2,
          1.5,
          1.6666666666666667,
          2,
          1.8,
          2.533333333333333,
          2,
          13,
          1.3,
          1.5,
          1.8333333333333333,
          1.6363636363636365,
          11.454545454545455,
          1.9,
          2,
          1.3333333333333333,
          21.842105263157894,
          6.25,
          1.6666666666666667,
          40.75,
          1.25,
          2,
          1.4545454545454546,
          2.5,
          9.88888888888889,
          22.666666666666668,
          3.3333333333333335,
          8,
          3,
          2,
          9,
          2.3214285714285716,
          1.5,
          2.5,
          1.2352941176470589,
          2.227272727272727,
          4.166666666666667,
          6.333333333333333,
          1.4375,
          2.55,
          3,
          17.666666666666668,
          2.1538461538461537,
          2.176470588235294,
          1.6666666666666667,
          1.6363636363636365,
          25,
          3.3333333333333335,
          1.125,
          1.8333333333333333,
          1.7272727272727273,
          2,
          14.666666666666666,
          2,
          2,
          10,
          2,
          1.4285714285714286,
          2.5,
          3,
          3,
          1.3333333333333333,
          12,
          1.5,
          2,
          1.25,
          2,
          2,
          2,
          2,
          4,
          9.4,
          3.5,
          1.125,
          3,
          2,
          2,
          2,
          2,
          1.75,
          4.75,
          2,
          2.25,
          3,
          20.5,
          1.3636363636363635,
          1.875,
          2,
          3.875,
          1.5,
          6,
          1.5833333333333333,
          2.5,
          5.5,
          2,
          2.4,
          2,
          2,
          2.888888888888889,
          16,
          1.3333333333333333,
          11,
          2,
          1.1875,
          1.75,
          4,
          1.7142857142857142,
          1.25,
          1.8,
          7.136363636363637,
          1.7894736842105263,
          2.6666666666666665,
          18,
          2.4,
          1.9130434782608696,
          1.5,
          1.6666666666666667,
          1.7142857142857142,
          2,
          2,
          2,
          8.166666666666666,
          1.75,
          1.56,
          6,
          1.3333333333333333,
          2,
          2.4375,
          1.5,
          1.380952380952381,
          1.6428571428571428,
          3,
          2,
          1.25,
          2,
          1.6666666666666667,
          8.86111111111111,
          1.8125,
          4,
          1.5,
          1.5,
          1.2857142857142858,
          1.5,
          1.8,
          1.4545454545454546,
          1.4,
          10,
          1.6666666666666667,
          6,
          1.8333333333333333,
          1.5,
          2,
          3,
          2.3333333333333335,
          8.733333333333333,
          4,
          1.5,
          2
         ],
         "y": [
          7.5,
          4.7,
          6,
          7.5,
          7,
          6.1,
          5.9,
          7.2,
          6.2,
          8,
          6.400000000000001,
          6.3,
          6.3,
          6.7,
          7.5,
          7.5,
          5.6,
          7.099999999999999,
          5.3,
          8.2,
          6.7,
          7,
          6.5,
          8,
          8.8,
          6.6,
          6.2,
          6.7,
          5.2,
          6.8,
          6,
          7.3,
          7.3,
          6.6,
          7.8,
          6.3,
          7.5,
          7.9,
          5.4,
          7.2,
          6.2,
          6.400000000000001,
          7.400000000000001,
          6.3,
          5.7,
          7.7,
          5.7,
          7.200000000000001,
          8.1,
          8.2,
          6.5,
          7.1,
          6.4,
          8.1,
          6.8,
          7.4,
          8.2,
          7.2,
          7.4,
          5.4,
          6,
          5.7,
          7.1,
          6,
          5.1,
          7.1,
          6.8,
          6.3,
          7.299999999999999,
          6.2,
          6.3,
          7,
          5,
          6.2,
          6.5,
          8.1,
          4.8,
          7.300000000000001,
          7.7,
          6.5,
          6.5,
          4.8,
          5.7,
          6.4,
          6,
          5.4,
          6.5,
          5.7,
          5.3,
          6.5,
          7,
          6.2,
          8.3,
          5.6,
          8,
          4.4,
          7.2,
          5.8,
          8,
          5.900000000000001,
          6.8,
          6.8,
          6.5,
          6.7,
          7.3,
          7.2,
          7.900000000000001,
          8.1,
          6.8,
          6.1,
          7.7,
          4.7,
          5.2,
          9,
          4.9,
          6.8,
          7.099999999999999,
          6.2,
          7.4,
          6.5,
          5.7,
          7.7,
          6.1,
          5.799999999999999,
          5.5,
          7.1000000000000005,
          4.4,
          5.2,
          7.3,
          4.8,
          5.9,
          6.8,
          5.8,
          5.3,
          6.3,
          8.2,
          6.8,
          7.7,
          6.3,
          7.5,
          5.8,
          7.4,
          8.6,
          6.4,
          6.5,
          6.5,
          5.7,
          6.1,
          6.7,
          5.7,
          5.400000000000001,
          5.6,
          6,
          6.4,
          5.2,
          6.3,
          5.4,
          5.1,
          6.5,
          6,
          5.6,
          5.7,
          6.400000000000001,
          5.9,
          5.2,
          7,
          7.4,
          6.099999999999999,
          6.7,
          5.7,
          6.7,
          5.7,
          6.5,
          6.4,
          7.2,
          5.8,
          5.7,
          6.2,
          6,
          5.3,
          6.7,
          7.5,
          6.3,
          6.7,
          6.6,
          5.4,
          7,
          6.4,
          6.6,
          5.8,
          5.2,
          7.099999999999999,
          8.1,
          6.4,
          8,
          5.3,
          7.1,
          5.6,
          5.1,
          5.2,
          7,
          6.5,
          6.5,
          6.1,
          6.3,
          6.9,
          6.9,
          6.1,
          6.3,
          6.4,
          7.1,
          5.3,
          7,
          6.3,
          8,
          7.5,
          6.7,
          5.3,
          6.700000000000001,
          6,
          6.8,
          7.3,
          7.6,
          5.7,
          7.8,
          5.599999999999999,
          7.1,
          4.4,
          5.2,
          6.5,
          7.1,
          6,
          6.8,
          6.6,
          4.9,
          7.4,
          5.6,
          8.3,
          5.7,
          5.3,
          6.400000000000001,
          5.9,
          6.4,
          7.3,
          6.1,
          5,
          5.6,
          6.3,
          5.1,
          7.3,
          6,
          5.900000000000001,
          7,
          5.3,
          6.2,
          6.7,
          5.7,
          4.4,
          6.4,
          6.1,
          7.2,
          6.5,
          7.4,
          6.2,
          7.9,
          6.5,
          4.7,
          7.5,
          5.7,
          4.5,
          6.8,
          5.4,
          6.7,
          6.5,
          8,
          6.4,
          4.6,
          9.4,
          6.7,
          7.1,
          7,
          6,
          7.2,
          6.1,
          3.7,
          7,
          7.3,
          4.7,
          6.4,
          7.6,
          7.4,
          7.3,
          5.599999999999999,
          7.5,
          7.4,
          5.599999999999999,
          6.3,
          6.400000000000001,
          7.5,
          8.3,
          6,
          7.3,
          6.2,
          6.8,
          7,
          7.700000000000001,
          6.9,
          5.7,
          7.6,
          6.1,
          7,
          5.8,
          6.8,
          7.3,
          5.9,
          6.7,
          7.1,
          6.7,
          5,
          7.1,
          6.7,
          7.2,
          6.1,
          6.3,
          7.8,
          6.7,
          6.6,
          6.5,
          6.400000000000001,
          6.2,
          6.2,
          6.6,
          5.4,
          6.1
         ]
        }
       ],
       "layout": {
        "template": {
         "data": {
          "bar": [
           {
            "error_x": {
             "color": "#2a3f5f"
            },
            "error_y": {
             "color": "#2a3f5f"
            },
            "marker": {
             "line": {
              "color": "#E5ECF6",
              "width": 0.5
             },
             "pattern": {
              "fillmode": "overlay",
              "size": 10,
              "solidity": 0.2
             }
            },
            "type": "bar"
           }
          ],
          "barpolar": [
           {
            "marker": {
             "line": {
              "color": "#E5ECF6",
              "width": 0.5
             },
             "pattern": {
              "fillmode": "overlay",
              "size": 10,
              "solidity": 0.2
             }
            },
            "type": "barpolar"
           }
          ],
          "carpet": [
           {
            "aaxis": {
             "endlinecolor": "#2a3f5f",
             "gridcolor": "white",
             "linecolor": "white",
             "minorgridcolor": "white",
             "startlinecolor": "#2a3f5f"
            },
            "baxis": {
             "endlinecolor": "#2a3f5f",
             "gridcolor": "white",
             "linecolor": "white",
             "minorgridcolor": "white",
             "startlinecolor": "#2a3f5f"
            },
            "type": "carpet"
           }
          ],
          "choropleth": [
           {
            "colorbar": {
             "outlinewidth": 0,
             "ticks": ""
            },
            "type": "choropleth"
           }
          ],
          "contour": [
           {
            "colorbar": {
             "outlinewidth": 0,
             "ticks": ""
            },
            "colorscale": [
             [
              0,
              "#0d0887"
             ],
             [
              0.1111111111111111,
              "#46039f"
             ],
             [
              0.2222222222222222,
              "#7201a8"
             ],
             [
              0.3333333333333333,
              "#9c179e"
             ],
             [
              0.4444444444444444,
              "#bd3786"
             ],
             [
              0.5555555555555556,
              "#d8576b"
             ],
             [
              0.6666666666666666,
              "#ed7953"
             ],
             [
              0.7777777777777778,
              "#fb9f3a"
             ],
             [
              0.8888888888888888,
              "#fdca26"
             ],
             [
              1,
              "#f0f921"
             ]
            ],
            "type": "contour"
           }
          ],
          "contourcarpet": [
           {
            "colorbar": {
             "outlinewidth": 0,
             "ticks": ""
            },
            "type": "contourcarpet"
           }
          ],
          "heatmap": [
           {
            "colorbar": {
             "outlinewidth": 0,
             "ticks": ""
            },
            "colorscale": [
             [
              0,
              "#0d0887"
             ],
             [
              0.1111111111111111,
              "#46039f"
             ],
             [
              0.2222222222222222,
              "#7201a8"
             ],
             [
              0.3333333333333333,
              "#9c179e"
             ],
             [
              0.4444444444444444,
              "#bd3786"
             ],
             [
              0.5555555555555556,
              "#d8576b"
             ],
             [
              0.6666666666666666,
              "#ed7953"
             ],
             [
              0.7777777777777778,
              "#fb9f3a"
             ],
             [
              0.8888888888888888,
              "#fdca26"
             ],
             [
              1,
              "#f0f921"
             ]
            ],
            "type": "heatmap"
           }
          ],
          "heatmapgl": [
           {
            "colorbar": {
             "outlinewidth": 0,
             "ticks": ""
            },
            "colorscale": [
             [
              0,
              "#0d0887"
             ],
             [
              0.1111111111111111,
              "#46039f"
             ],
             [
              0.2222222222222222,
              "#7201a8"
             ],
             [
              0.3333333333333333,
              "#9c179e"
             ],
             [
              0.4444444444444444,
              "#bd3786"
             ],
             [
              0.5555555555555556,
              "#d8576b"
             ],
             [
              0.6666666666666666,
              "#ed7953"
             ],
             [
              0.7777777777777778,
              "#fb9f3a"
             ],
             [
              0.8888888888888888,
              "#fdca26"
             ],
             [
              1,
              "#f0f921"
             ]
            ],
            "type": "heatmapgl"
           }
          ],
          "histogram": [
           {
            "marker": {
             "pattern": {
              "fillmode": "overlay",
              "size": 10,
              "solidity": 0.2
             }
            },
            "type": "histogram"
           }
          ],
          "histogram2d": [
           {
            "colorbar": {
             "outlinewidth": 0,
             "ticks": ""
            },
            "colorscale": [
             [
              0,
              "#0d0887"
             ],
             [
              0.1111111111111111,
              "#46039f"
             ],
             [
              0.2222222222222222,
              "#7201a8"
             ],
             [
              0.3333333333333333,
              "#9c179e"
             ],
             [
              0.4444444444444444,
              "#bd3786"
             ],
             [
              0.5555555555555556,
              "#d8576b"
             ],
             [
              0.6666666666666666,
              "#ed7953"
             ],
             [
              0.7777777777777778,
              "#fb9f3a"
             ],
             [
              0.8888888888888888,
              "#fdca26"
             ],
             [
              1,
              "#f0f921"
             ]
            ],
            "type": "histogram2d"
           }
          ],
          "histogram2dcontour": [
           {
            "colorbar": {
             "outlinewidth": 0,
             "ticks": ""
            },
            "colorscale": [
             [
              0,
              "#0d0887"
             ],
             [
              0.1111111111111111,
              "#46039f"
             ],
             [
              0.2222222222222222,
              "#7201a8"
             ],
             [
              0.3333333333333333,
              "#9c179e"
             ],
             [
              0.4444444444444444,
              "#bd3786"
             ],
             [
              0.5555555555555556,
              "#d8576b"
             ],
             [
              0.6666666666666666,
              "#ed7953"
             ],
             [
              0.7777777777777778,
              "#fb9f3a"
             ],
             [
              0.8888888888888888,
              "#fdca26"
             ],
             [
              1,
              "#f0f921"
             ]
            ],
            "type": "histogram2dcontour"
           }
          ],
          "mesh3d": [
           {
            "colorbar": {
             "outlinewidth": 0,
             "ticks": ""
            },
            "type": "mesh3d"
           }
          ],
          "parcoords": [
           {
            "line": {
             "colorbar": {
              "outlinewidth": 0,
              "ticks": ""
             }
            },
            "type": "parcoords"
           }
          ],
          "pie": [
           {
            "automargin": true,
            "type": "pie"
           }
          ],
          "scatter": [
           {
            "fillpattern": {
             "fillmode": "overlay",
             "size": 10,
             "solidity": 0.2
            },
            "type": "scatter"
           }
          ],
          "scatter3d": [
           {
            "line": {
             "colorbar": {
              "outlinewidth": 0,
              "ticks": ""
             }
            },
            "marker": {
             "colorbar": {
              "outlinewidth": 0,
              "ticks": ""
             }
            },
            "type": "scatter3d"
           }
          ],
          "scattercarpet": [
           {
            "marker": {
             "colorbar": {
              "outlinewidth": 0,
              "ticks": ""
             }
            },
            "type": "scattercarpet"
           }
          ],
          "scattergeo": [
           {
            "marker": {
             "colorbar": {
              "outlinewidth": 0,
              "ticks": ""
             }
            },
            "type": "scattergeo"
           }
          ],
          "scattergl": [
           {
            "marker": {
             "colorbar": {
              "outlinewidth": 0,
              "ticks": ""
             }
            },
            "type": "scattergl"
           }
          ],
          "scattermapbox": [
           {
            "marker": {
             "colorbar": {
              "outlinewidth": 0,
              "ticks": ""
             }
            },
            "type": "scattermapbox"
           }
          ],
          "scatterpolar": [
           {
            "marker": {
             "colorbar": {
              "outlinewidth": 0,
              "ticks": ""
             }
            },
            "type": "scatterpolar"
           }
          ],
          "scatterpolargl": [
           {
            "marker": {
             "colorbar": {
              "outlinewidth": 0,
              "ticks": ""
             }
            },
            "type": "scatterpolargl"
           }
          ],
          "scatterternary": [
           {
            "marker": {
             "colorbar": {
              "outlinewidth": 0,
              "ticks": ""
             }
            },
            "type": "scatterternary"
           }
          ],
          "surface": [
           {
            "colorbar": {
             "outlinewidth": 0,
             "ticks": ""
            },
            "colorscale": [
             [
              0,
              "#0d0887"
             ],
             [
              0.1111111111111111,
              "#46039f"
             ],
             [
              0.2222222222222222,
              "#7201a8"
             ],
             [
              0.3333333333333333,
              "#9c179e"
             ],
             [
              0.4444444444444444,
              "#bd3786"
             ],
             [
              0.5555555555555556,
              "#d8576b"
             ],
             [
              0.6666666666666666,
              "#ed7953"
             ],
             [
              0.7777777777777778,
              "#fb9f3a"
             ],
             [
              0.8888888888888888,
              "#fdca26"
             ],
             [
              1,
              "#f0f921"
             ]
            ],
            "type": "surface"
           }
          ],
          "table": [
           {
            "cells": {
             "fill": {
              "color": "#EBF0F8"
             },
             "line": {
              "color": "white"
             }
            },
            "header": {
             "fill": {
              "color": "#C8D4E3"
             },
             "line": {
              "color": "white"
             }
            },
            "type": "table"
           }
          ]
         },
         "layout": {
          "annotationdefaults": {
           "arrowcolor": "#2a3f5f",
           "arrowhead": 0,
           "arrowwidth": 1
          },
          "autotypenumbers": "strict",
          "coloraxis": {
           "colorbar": {
            "outlinewidth": 0,
            "ticks": ""
           }
          },
          "colorscale": {
           "diverging": [
            [
             0,
             "#8e0152"
            ],
            [
             0.1,
             "#c51b7d"
            ],
            [
             0.2,
             "#de77ae"
            ],
            [
             0.3,
             "#f1b6da"
            ],
            [
             0.4,
             "#fde0ef"
            ],
            [
             0.5,
             "#f7f7f7"
            ],
            [
             0.6,
             "#e6f5d0"
            ],
            [
             0.7,
             "#b8e186"
            ],
            [
             0.8,
             "#7fbc41"
            ],
            [
             0.9,
             "#4d9221"
            ],
            [
             1,
             "#276419"
            ]
           ],
           "sequential": [
            [
             0,
             "#0d0887"
            ],
            [
             0.1111111111111111,
             "#46039f"
            ],
            [
             0.2222222222222222,
             "#7201a8"
            ],
            [
             0.3333333333333333,
             "#9c179e"
            ],
            [
             0.4444444444444444,
             "#bd3786"
            ],
            [
             0.5555555555555556,
             "#d8576b"
            ],
            [
             0.6666666666666666,
             "#ed7953"
            ],
            [
             0.7777777777777778,
             "#fb9f3a"
            ],
            [
             0.8888888888888888,
             "#fdca26"
            ],
            [
             1,
             "#f0f921"
            ]
           ],
           "sequentialminus": [
            [
             0,
             "#0d0887"
            ],
            [
             0.1111111111111111,
             "#46039f"
            ],
            [
             0.2222222222222222,
             "#7201a8"
            ],
            [
             0.3333333333333333,
             "#9c179e"
            ],
            [
             0.4444444444444444,
             "#bd3786"
            ],
            [
             0.5555555555555556,
             "#d8576b"
            ],
            [
             0.6666666666666666,
             "#ed7953"
            ],
            [
             0.7777777777777778,
             "#fb9f3a"
            ],
            [
             0.8888888888888888,
             "#fdca26"
            ],
            [
             1,
             "#f0f921"
            ]
           ]
          },
          "colorway": [
           "#636efa",
           "#EF553B",
           "#00cc96",
           "#ab63fa",
           "#FFA15A",
           "#19d3f3",
           "#FF6692",
           "#B6E880",
           "#FF97FF",
           "#FECB52"
          ],
          "font": {
           "color": "#2a3f5f"
          },
          "geo": {
           "bgcolor": "white",
           "lakecolor": "white",
           "landcolor": "#E5ECF6",
           "showlakes": true,
           "showland": true,
           "subunitcolor": "white"
          },
          "hoverlabel": {
           "align": "left"
          },
          "hovermode": "closest",
          "mapbox": {
           "style": "light"
          },
          "paper_bgcolor": "white",
          "plot_bgcolor": "#E5ECF6",
          "polar": {
           "angularaxis": {
            "gridcolor": "white",
            "linecolor": "white",
            "ticks": ""
           },
           "bgcolor": "#E5ECF6",
           "radialaxis": {
            "gridcolor": "white",
            "linecolor": "white",
            "ticks": ""
           }
          },
          "scene": {
           "xaxis": {
            "backgroundcolor": "#E5ECF6",
            "gridcolor": "white",
            "gridwidth": 2,
            "linecolor": "white",
            "showbackground": true,
            "ticks": "",
            "zerolinecolor": "white"
           },
           "yaxis": {
            "backgroundcolor": "#E5ECF6",
            "gridcolor": "white",
            "gridwidth": 2,
            "linecolor": "white",
            "showbackground": true,
            "ticks": "",
            "zerolinecolor": "white"
           },
           "zaxis": {
            "backgroundcolor": "#E5ECF6",
            "gridcolor": "white",
            "gridwidth": 2,
            "linecolor": "white",
            "showbackground": true,
            "ticks": "",
            "zerolinecolor": "white"
           }
          },
          "shapedefaults": {
           "line": {
            "color": "#2a3f5f"
           }
          },
          "ternary": {
           "aaxis": {
            "gridcolor": "white",
            "linecolor": "white",
            "ticks": ""
           },
           "baxis": {
            "gridcolor": "white",
            "linecolor": "white",
            "ticks": ""
           },
           "bgcolor": "#E5ECF6",
           "caxis": {
            "gridcolor": "white",
            "linecolor": "white",
            "ticks": ""
           }
          },
          "title": {
           "x": 0.05
          },
          "xaxis": {
           "automargin": true,
           "gridcolor": "white",
           "linecolor": "white",
           "ticks": "",
           "title": {
            "standoff": 15
           },
           "zerolinecolor": "white",
           "zerolinewidth": 2
          },
          "yaxis": {
           "automargin": true,
           "gridcolor": "white",
           "linecolor": "white",
           "ticks": "",
           "title": {
            "standoff": 15
           },
           "zerolinecolor": "white",
           "zerolinewidth": 2
          }
         }
        },
        "title": {
         "text": "Average Rating vs Number of Apple Product Placements, by Year"
        },
        "xaxis": {
         "title": {
          "text": "Number of Product Placements (logarithmic scale)"
         },
         "type": "log",
         "zeroline": false
        },
        "yaxis": {
         "title": {
          "text": "Rating"
         },
         "zeroline": false
        }
       }
      }
     },
     "metadata": {},
     "output_type": "display_data"
    }
   ],
   "source": [
    "fig = go.Figure()\n",
    "\n",
    "# creating trace1\n",
    "fig.add_trace(go.Scatter(\n",
    "                    y = resolved_data.averageRating,\n",
    "                    x = resolved_data.imgCount,\n",
    "                    mode = \"markers\",\n",
    "                    #marker_color = 'rgba(255, 128, 255, 0.5)',\n",
    "                    marker=dict(color=resolved_data.startYear),\n",
    "                    text= resolved_data.Title))\n",
    "\n",
    "\n",
    "fig.update_layout(title = 'Average Rating vs Number of Apple Product Placements, by Year',\n",
    "                  xaxis_title = 'Number of Product Placements',\n",
    "                  xaxis_zeroline= False,\n",
    "                  yaxis_title = 'Rating',\n",
    "                  yaxis_zeroline= False)\n",
    "\n",
    "fig.update_xaxes(title_text=\"Number of Product Placements (logarithmic scale)\", type=\"log\")\n",
    "             \n",
    "fig.show()"
   ]
  },
  {
   "cell_type": "code",
   "execution_count": 5,
   "metadata": {},
   "outputs": [
    {
     "data": {
      "application/vnd.plotly.v1+json": {
       "config": {
        "plotlyServerURL": "https://plot.ly"
       },
       "data": [
        {
         "hovertemplate": "<b>%{hovertext}</b><br><br>Number of Product Placements (logarithmic scale)=%{x}<br>Average Title Rating=%{y}<br>startYear=%{marker.color}<extra></extra>",
         "hovertext": [
          "Gentefied",
          "False Positive (2021)",
          "Shazam! Fury of the Gods (2023)",
          "The Dropout",
          "Red, White & Royal Blue (2023)",
          "Marry Me (2022)",
          "Fatman (2020)",
          "9-1-1: Lone Star",
          "Best Sellers (2021)",
          "CODA (2021)",
          "Mr. Mayor",
          "To All the Boys: Always and Forever (2021)",
          "Don't Worry Darling (2022)",
          "The Premise",
          "Power Book II: Ghost",
          "Ginny & Georgia",
          "Sex/Life",
          "Missing (2023)",
          "She-Hulk: Attorney at Law",
          "Spider-Man: No Way Home (2021)",
          "Here Today (2021)",
          "The Upshaws",
          "The Crew",
          "Trying",
          "Ted Lasso",
          "Spirited (2022)",
          "Walker",
          "Rutherford Falls",
          "Call Your Mother",
          "The Map of Tiny Perfect Things (2021)",
          "Press Play (2022)",
          "Super Pumped",
          "She Said (2022)",
          "Rap Sh!t",
          "The Sex Lives of College Girls",
          "Reasonable Doubt",
          "Big Shot",
          "From Scratch",
          "The Out-Laws (2023)",
          "Rescued by Ruby (2022)",
          "Joe vs. Carole",
          "Together Together (2021)",
          "The Killer (2023)",
          "Wedding Season (2022)",
          "Anything's Possible (2022)",
          "Fleishman Is in Trouble",
          "Silent Night (2021)",
          "Girls5eva",
          "Only Murders in the Building",
          "Mayor of Kingstown",
          "American Auto",
          "Grand Crew",
          "Run the World",
          "Power Book IV: Force",
          "Big Sky",
          "Schmigadoon!",
          "Hacks",
          "The Chair",
          "The Resort",
          "The Kill Room (2023)",
          "Hocus Pocus 2 (2022)",
          "Love in Taipei (2023)",
          "The Shrink Next Door",
          "The Other Zoey (2023)",
          "Who Are You People (2023)",
          "SurrealEstate",
          "Vengeance (2022)",
          "Watcher (2022)",
          "WeCrashed",
          "Suspicion",
          "The Re-Education of Molly Singer (2023)",
          "Doogie Kameāloha M.D.",
          "Unbreakable Kimmy Schmidt: Kimmy vs the Reverend (2020)",
          "American Horror Stories",
          "Sonic the Hedgehog 2 (2022)",
          "As We See It",
          "Songbird (2020)",
          "The Afterparty",
          "Law & Order: Organized Crime",
          "Confess, Fletch (2022)",
          "Echo 3",
          "The Kissing Booth 3 (2021)",
          "Your Place or Mine (2023)",
          "Bel-Air",
          "Mr. Harrigan's Phone (2022)",
          "The List (2023)",
          "Dead Ringers",
          "Resort to Love (2021)",
          "Locked Down (2021)",
          "FUBAR",
          "Pretty Little Liars: Original Sin",
          "High Desert",
          "Peacemaker",
          "Family Squares (2022)",
          "Gen V",
          "The Kings of Napa",
          "The First Lady",
          "Operation Christmas Drop (2020)",
          "Past Lives (2023)",
          "Father of the Bride (2022)",
          "Flatbush Misdemeanors",
          "Reptile (2023)",
          "First Kill",
          "Slumberland (2022)",
          "Archive 81",
          "Platonic",
          "The White Lotus",
          "Wednesday",
          "Love at First Sight (2023)",
          "A Perfect Match (2021)",
          "Acapulco",
          "The Bubble (2022)",
          "Tom and Jerry (2021)",
          "The Curse",
          "Naomi",
          "Irma Vep",
          "I'm a Virgo",
          "If You Were the Last (2023)",
          "May December (2023)",
          "The Last Thing He Told Me",
          "And Just Like That...",
          "The Lincoln Lawyer",
          "Men (2022)",
          "God's Favorite Idiot",
          "On a Wing and a Prayer (2023)",
          "Dumb Money (2023)",
          "Spy Kids: Armageddon (2023)",
          "Secret Headquarters (2022)",
          "The Summer I Turned Pretty",
          "Blacklight (2022)",
          "Boo, Bitch",
          "Somewhere in Queens (2022)",
          "Hollywood Stargirl (2022)",
          "Keep Breathing",
          "Kimi (2022)",
          "Abbott Elementary",
          "Loot",
          "Joe Pickett",
          "Look Both Ways (2022)",
          "Let the Right One In",
          "Pretty Smart",
          "Kindred",
          "The Bear",
          "About Fate (2022)",
          "Shortcomings (2023)",
          "XO, Kitty",
          "How I Met Your Father",
          "Along for the Ride (2022)",
          "Florida Man",
          "National Champions (2021)",
          "Alone Together (2022)",
          "A Christmas Number One (2021)",
          "Cat Person (2023)",
          "Better Nate Than Ever (2022)",
          "Poker Face (2022)",
          "The Big Door Prize",
          "One True Loves (2023)",
          "The Retirement Plan (2023)",
          "The Watcher",
          "Lopez vs. Lopez",
          "At Midnight (2023)",
          "The Idol",
          "City on Fire",
          "Fantasy Football (2022)",
          "My Fake Boyfriend (2022)",
          "Barbie (2023)",
          "Reboot",
          "A Perfect Pairing (2022)",
          "Fire Island (2022)",
          "Murder Mystery 2 (2023)",
          "Emily the Criminal (2022)",
          "Pain Hustlers (2023)",
          "Joy Ride (2023)",
          "Full Circle",
          "American Rust",
          "Ghosted (2023)",
          "Somebody I Used to Know (2023)",
          "Raymond & Ray (2022)",
          "Dog Gone (2023)",
          "Vacation Friends 2 (2023)",
          "Partner Track",
          "Alaska Daily",
          "The Watchful Eye",
          "Jules (2023)",
          "Kaleidoscope",
          "Love in the Villa (2022)",
          "Uncoupled",
          "Pitch Perfect: Bumper in Berlin",
          "Harlan Coben's Shelter",
          "Freeridge",
          "Love & Gelato (2022)",
          "American Born Chinese",
          "The Fall of the House of Usher",
          "No Hard Feelings (2023)",
          "Shrinking",
          "Freelance (2023)",
          "The Calling",
          "Christmas with You (2022)",
          "Blockbuster",
          "Magic Mike's Last Dance (2023)",
          "The Irrational",
          "Fair Play (2023)",
          "Honor Society (2022)",
          "Haunted Mansion (2023)",
          "The Beanie Bubble (2023)",
          "The Equalizer",
          "The Equalizer 3 (2023)",
          "Quantum Leap",
          "Prom Pact (2023)",
          "Up Here",
          "Dear Edward",
          "The Rookie: Feds",
          "Not Dead Yet",
          "Old Dads (2023)",
          "The Muppets Mayhem",
          "So Help Me Todd",
          "The Last Letter from Your Lover (2021)",
          "The Puppetman (2023)",
          "Unstable",
          "Glamorous",
          "Lucky Hank",
          "Bupkis",
          "What Happens Later (2023)",
          "A Tourist's Guide to Love (2023)",
          "Promised Land",
          "Book Club: The Next Chapter (2023)",
          "Tiny Beautiful Things",
          "Wicked City",
          "My Big Fat Greek Wedding 3 (2023)",
          "Love in the Limelight (2022)",
          "Theater Camp (2023)",
          "You Are So Not Invited to My Bat Mitzvah (2023)",
          "The Other Black Girl",
          "Animal Control",
          "Modern Persuasion (2020)",
          "BlackBerry (2023)",
          "The Sky Is Everywhere (2022)",
          "Jury Duty",
          "The Slumber Party (2023)",
          "Beautiful Disaster (2023)",
          "Glass Onion: A Knives Out Mystery (2022)",
          "Clifford the Big Red Dog (2021)",
          "Drunk, Driving, and 17 (2023)",
          "Judge Me Not",
          "Love in the Maldives (2023)",
          "If I Can't Have You (2023)",
          "It's a Wonderful Knife (2023)",
          "Puppy Love (2023)",
          "Office Race (2023)",
          "Locke & Key",
          "Those Who Wish Me Dead (2021)",
          "Lisey's Story",
          "Chip 'n Dale: Rescue Rangers (2022)",
          "13: The Musical (2022)",
          "Saving Paradise (2021)",
          "The Valet (2022)",
          "Sid Is Dead (2023)",
          "He's All That (2021)",
          "Luckiest Girl Alive (2022)",
          "Ambulance (2022)",
          "Nyad (2023)",
          "On the Verge",
          "Rabbit Hole",
          "The Empty Man (2020)",
          "Slow Horses",
          "Plane (2023)",
          "Back on the Strip (2023)",
          "Home Before Dark",
          "The Woman in the Window (2021)",
          "Wonderwell (2023)",
          "Penguin Bloom (2020)",
          "Space Oddity (2022)",
          "Moxie (2021)",
          "I Want You Back (2022)",
          "Heels",
          "She Came to Me (2023)",
          "Cheaper by the Dozen (2022)",
          "Fast Charlie (2023)",
          "Hillbilly Elegy (2020)",
          "The Flight Attendant",
          "The Power",
          "Angelyne",
          "Industry",
          "We Have a Ghost (2023)",
          "Deadly Illusions (2021)",
          "Shining Vale",
          "The Mighty Ducks: Game Changers",
          "The Stand In (2020)",
          "Finestkind (2023)",
          "Little America",
          "Swagger",
          "Hustle (2022)",
          "Jurassic World Dominion (2022)",
          "Breeders",
          "The Undoing",
          "Good on Paper (2021)",
          "All My Life (2020)",
          "Sitting in Bars with Cake (2023)",
          "Awkwafina Is Nora from Queens",
          "Dave",
          "The Changeling",
          "The Wilds",
          "The Hating Game (2021)",
          "Inventing Anna",
          "Nine Perfect Strangers",
          "Mythic Quest",
          "Emily in Paris",
          "Goodnight Mommy (2022)",
          "Firefly Lane",
          "Nurses",
          "Warrior Nun",
          "The People We Hate at the Wedding (2022)",
          "Found",
          "Sweet Magnolias",
          "Cobweb (2023)",
          "Black Panther: Wakanda Forever (2022)",
          "The Falcon and the Winter Soldier",
          "Woke",
          "Mainstream (2020)",
          "Kevin Can F**k Himself",
          "Ordinary Joe",
          "I Love That for You",
          "Blue Beetle (2023)",
          "Intelligence",
          "Mission: Impossible - Dead Reckoning Part One (2023)",
          "Space Force",
          "Diary of a Future President",
          "The Night House (2020)",
          "Bros (2022)",
          "Crisis (2021)",
          "Invasion",
          "The Tomorrow War (2021)",
          "Last Light",
          "Holidate (2020)"
         ],
         "legendgroup": "",
         "marker": {
          "color": [
           2020,
           2021,
           2023,
           2022,
           2023,
           2022,
           2020,
           2020,
           2021,
           2021,
           2021,
           2021,
           2022,
           2021,
           2020,
           2021,
           2021,
           2023,
           2022,
           2021,
           2021,
           2021,
           2021,
           2020,
           2020,
           2022,
           2021,
           2021,
           2021,
           2021,
           2022,
           2022,
           2022,
           2022,
           2021,
           2022,
           2021,
           2022,
           2023,
           2022,
           2022,
           2021,
           2023,
           2022,
           2022,
           2022,
           2021,
           2021,
           2021,
           2021,
           2021,
           2021,
           2021,
           2022,
           2020,
           2021,
           2021,
           2021,
           2022,
           2023,
           2022,
           2023,
           2021,
           2023,
           2023,
           2021,
           2022,
           2022,
           2022,
           2022,
           2023,
           2021,
           2020,
           2021,
           2022,
           2022,
           2020,
           2022,
           2021,
           2022,
           2022,
           2021,
           2023,
           2022,
           2022,
           2023,
           2023,
           2021,
           2021,
           2023,
           2022,
           2023,
           2022,
           2022,
           2023,
           2022,
           2022,
           2020,
           2023,
           2022,
           2021,
           2023,
           2022,
           2022,
           2022,
           2023,
           2021,
           2022,
           2023,
           2021,
           2021,
           2022,
           2021,
           2023,
           2022,
           2022,
           2023,
           2023,
           2023,
           2023,
           2021,
           2022,
           2022,
           2022,
           2023,
           2023,
           2023,
           2022,
           2022,
           2022,
           2022,
           2022,
           2022,
           2022,
           2022,
           2021,
           2022,
           2021,
           2022,
           2022,
           2021,
           2022,
           2022,
           2022,
           2023,
           2023,
           2022,
           2022,
           2023,
           2021,
           2022,
           2021,
           2023,
           2022,
           2022,
           2023,
           2023,
           2023,
           2022,
           2022,
           2023,
           2023,
           2023,
           2022,
           2022,
           2023,
           2022,
           2022,
           2022,
           2023,
           2022,
           2023,
           2023,
           2023,
           2021,
           2023,
           2023,
           2022,
           2023,
           2023,
           2022,
           2022,
           2023,
           2023,
           2023,
           2022,
           2022,
           2022,
           2023,
           2023,
           2022,
           2023,
           2023,
           2023,
           2023,
           2023,
           2022,
           2022,
           2022,
           2023,
           2023,
           2023,
           2022,
           2023,
           2023,
           2023,
           2023,
           2022,
           2023,
           2023,
           2023,
           2022,
           2023,
           2023,
           2023,
           2022,
           2021,
           2023,
           2023,
           2023,
           2023,
           2023,
           2023,
           2023,
           2023,
           2023,
           2023,
           2022,
           2023,
           2022,
           2023,
           2023,
           2023,
           2023,
           2020,
           2023,
           2022,
           2023,
           2023,
           2023,
           2022,
           2021,
           2023,
           2023,
           2023,
           2023,
           2023,
           2023,
           2023,
           2020,
           2021,
           2021,
           2022,
           2022,
           2021,
           2022,
           2023,
           2021,
           2022,
           2022,
           2023,
           2021,
           2023,
           2020,
           2022,
           2023,
           2023,
           2020,
           2021,
           2023,
           2020,
           2022,
           2021,
           2022,
           2021,
           2023,
           2022,
           2023,
           2020,
           2020,
           2022,
           2022,
           2020,
           2023,
           2021,
           2022,
           2021,
           2020,
           2023,
           2020,
           2021,
           2022,
           2022,
           2020,
           2020,
           2021,
           2020,
           2023,
           2020,
           2020,
           2023,
           2020,
           2021,
           2022,
           2021,
           2020,
           2020,
           2022,
           2021,
           2020,
           2020,
           2022,
           2023,
           2020,
           2023,
           2022,
           2021,
           2020,
           2020,
           2021,
           2021,
           2022,
           2023,
           2020,
           2023,
           2020,
           2020,
           2020,
           2022,
           2021,
           2021,
           2021,
           2022,
           2020
          ],
          "coloraxis": "coloraxis",
          "symbol": "circle"
         },
         "mode": "markers",
         "name": "",
         "orientation": "v",
         "showlegend": false,
         "type": "scatter",
         "x": [
          1.0714285714285714,
          1.3333333333333333,
          1.6666666666666667,
          2.230769230769231,
          14.8,
          2.4,
          3,
          2.4411764705882355,
          1.5,
          2,
          1.5,
          1.7142857142857142,
          3,
          1.5,
          1.6666666666666667,
          1.5333333333333334,
          2,
          1.3333333333333333,
          2,
          2,
          1.5,
          1.9523809523809523,
          2.090909090909091,
          1.4583333333333333,
          2.2604166666666665,
          2.5714285714285716,
          1.75,
          1.9,
          1.6,
          1.5,
          1.5,
          2.5652173913043477,
          2.4,
          5.875,
          1.6296296296296295,
          1.4,
          1.85,
          1.25,
          2,
          3,
          1.2857142857142858,
          3,
          12,
          5.666666666666667,
          2.1666666666666665,
          1.5,
          2,
          2.1538461538461537,
          7.583333333333333,
          1.1666666666666667,
          1.9594594594594594,
          1.375,
          2.64,
          4.333333333333333,
          1.3571428571428572,
          1.6,
          1.2173913043478262,
          1.2857142857142858,
          1.5,
          20.6,
          2,
          2,
          1.5,
          16.7,
          5.5,
          12.043478260869565,
          2,
          2.5,
          2.5135135135135136,
          1.3333333333333333,
          4.666666666666667,
          1.8571428571428572,
          1.6666666666666667,
          6.4,
          1.5,
          2,
          1.75,
          2.8333333333333335,
          2.1666666666666665,
          2,
          1.4,
          1.4,
          2.2857142857142856,
          1.7941176470588236,
          3.3333333333333335,
          17.714285714285715,
          1.25,
          1.3333333333333333,
          6,
          2.5,
          1.25,
          4.8,
          1.5,
          1.5,
          7,
          1.1,
          1.8,
          1.4,
          6,
          1.6666666666666667,
          1.5,
          3.5,
          1.5,
          2,
          1.5,
          1.9130434782608696,
          1.7777777777777777,
          1.2222222222222223,
          3,
          2.5,
          1.125,
          1.5,
          1.6666666666666667,
          22.6,
          2,
          1.3333333333333333,
          1.5,
          15,
          7,
          1.6,
          3.2666666666666666,
          3.789473684210526,
          1.5,
          1.6923076923076923,
          3,
          11.421052631578947,
          6,
          2,
          5,
          1.6,
          1.5,
          2.6666666666666665,
          1.3333333333333333,
          1.8,
          3,
          1.5,
          1.7777777777777777,
          1.6666666666666667,
          1.4,
          2,
          2,
          2.5,
          1.5454545454545454,
          3,
          18.5,
          3.55,
          1.5217391304347827,
          2,
          3,
          2,
          1.6666666666666667,
          2.5,
          61,
          2,
          1.5,
          3,
          2,
          34,
          1.4,
          1.3703703703703705,
          1.75,
          2.2857142857142856,
          2.6666666666666665,
          2,
          2.4,
          15,
          1.7142857142857142,
          2.3333333333333335,
          2,
          2.25,
          2,
          2,
          2,
          1.7142857142857142,
          1.25,
          1.25,
          1.2,
          1.5,
          1.6666666666666667,
          2,
          1.8,
          2.533333333333333,
          2,
          13,
          1.3,
          1.5,
          1.8333333333333333,
          1.6363636363636365,
          11.454545454545455,
          1.9,
          2,
          1.3333333333333333,
          21.842105263157894,
          6.25,
          1.6666666666666667,
          40.75,
          1.25,
          2,
          1.4545454545454546,
          2.5,
          9.88888888888889,
          22.666666666666668,
          3.3333333333333335,
          8,
          3,
          2,
          9,
          2.3214285714285716,
          1.5,
          2.5,
          1.2352941176470589,
          2.227272727272727,
          4.166666666666667,
          6.333333333333333,
          1.4375,
          2.55,
          3,
          17.666666666666668,
          2.1538461538461537,
          2.176470588235294,
          1.6666666666666667,
          1.6363636363636365,
          25,
          3.3333333333333335,
          1.125,
          1.8333333333333333,
          1.7272727272727273,
          2,
          14.666666666666666,
          2,
          2,
          10,
          2,
          1.4285714285714286,
          2.5,
          3,
          3,
          1.3333333333333333,
          12,
          1.5,
          2,
          1.25,
          2,
          2,
          2,
          2,
          4,
          9.4,
          3.5,
          1.125,
          3,
          2,
          2,
          2,
          2,
          1.75,
          4.75,
          2,
          2.25,
          3,
          20.5,
          1.3636363636363635,
          1.875,
          2,
          3.875,
          1.5,
          6,
          1.5833333333333333,
          2.5,
          5.5,
          2,
          2.4,
          2,
          2,
          2.888888888888889,
          16,
          1.3333333333333333,
          11,
          2,
          1.1875,
          1.75,
          4,
          1.7142857142857142,
          1.25,
          1.8,
          7.136363636363637,
          1.7894736842105263,
          2.6666666666666665,
          18,
          2.4,
          1.9130434782608696,
          1.5,
          1.6666666666666667,
          1.7142857142857142,
          2,
          2,
          2,
          8.166666666666666,
          1.75,
          1.56,
          6,
          1.3333333333333333,
          2,
          2.4375,
          1.5,
          1.380952380952381,
          1.6428571428571428,
          3,
          2,
          1.25,
          2,
          1.6666666666666667,
          8.86111111111111,
          1.8125,
          4,
          1.5,
          1.5,
          1.2857142857142858,
          1.5,
          1.8,
          1.4545454545454546,
          1.4,
          10,
          1.6666666666666667,
          6,
          1.8333333333333333,
          1.5,
          2,
          3,
          2.3333333333333335,
          8.733333333333333,
          4,
          1.5,
          2
         ],
         "xaxis": "x",
         "y": [
          7.5,
          4.7,
          6,
          7.5,
          7,
          6.1,
          5.9,
          7.2,
          6.2,
          8,
          6.400000000000001,
          6.3,
          6.3,
          6.7,
          7.5,
          7.5,
          5.6,
          7.099999999999999,
          5.3,
          8.2,
          6.7,
          7,
          6.5,
          8,
          8.8,
          6.6,
          6.2,
          6.7,
          5.2,
          6.8,
          6,
          7.3,
          7.3,
          6.6,
          7.8,
          6.3,
          7.5,
          7.9,
          5.4,
          7.2,
          6.2,
          6.400000000000001,
          7.400000000000001,
          6.3,
          5.7,
          7.7,
          5.7,
          7.200000000000001,
          8.1,
          8.2,
          6.5,
          7.1,
          6.4,
          8.1,
          6.8,
          7.4,
          8.2,
          7.2,
          7.4,
          5.4,
          6,
          5.7,
          7.1,
          6,
          5.1,
          7.1,
          6.8,
          6.3,
          7.299999999999999,
          6.2,
          6.3,
          7,
          5,
          6.2,
          6.5,
          8.1,
          4.8,
          7.300000000000001,
          7.7,
          6.5,
          6.5,
          4.8,
          5.7,
          6.4,
          6,
          5.4,
          6.5,
          5.7,
          5.3,
          6.5,
          7,
          6.2,
          8.3,
          5.6,
          8,
          4.4,
          7.2,
          5.8,
          8,
          5.900000000000001,
          6.8,
          6.8,
          6.5,
          6.7,
          7.3,
          7.2,
          7.900000000000001,
          8.1,
          6.8,
          6.1,
          7.7,
          4.7,
          5.2,
          9,
          4.9,
          6.8,
          7.099999999999999,
          6.2,
          7.4,
          6.5,
          5.7,
          7.7,
          6.1,
          5.799999999999999,
          5.5,
          7.1000000000000005,
          4.4,
          5.2,
          7.3,
          4.8,
          5.9,
          6.8,
          5.8,
          5.3,
          6.3,
          8.2,
          6.8,
          7.7,
          6.3,
          7.5,
          5.8,
          7.4,
          8.6,
          6.4,
          6.5,
          6.5,
          5.7,
          6.1,
          6.7,
          5.7,
          5.400000000000001,
          5.6,
          6,
          6.4,
          5.2,
          6.3,
          5.4,
          5.1,
          6.5,
          6,
          5.6,
          5.7,
          6.400000000000001,
          5.9,
          5.2,
          7,
          7.4,
          6.099999999999999,
          6.7,
          5.7,
          6.7,
          5.7,
          6.5,
          6.4,
          7.2,
          5.8,
          5.7,
          6.2,
          6,
          5.3,
          6.7,
          7.5,
          6.3,
          6.7,
          6.6,
          5.4,
          7,
          6.4,
          6.6,
          5.8,
          5.2,
          7.099999999999999,
          8.1,
          6.4,
          8,
          5.3,
          7.1,
          5.6,
          5.1,
          5.2,
          7,
          6.5,
          6.5,
          6.1,
          6.3,
          6.9,
          6.9,
          6.1,
          6.3,
          6.4,
          7.1,
          5.3,
          7,
          6.3,
          8,
          7.5,
          6.7,
          5.3,
          6.700000000000001,
          6,
          6.8,
          7.3,
          7.6,
          5.7,
          7.8,
          5.599999999999999,
          7.1,
          4.4,
          5.2,
          6.5,
          7.1,
          6,
          6.8,
          6.6,
          4.9,
          7.4,
          5.6,
          8.3,
          5.7,
          5.3,
          6.400000000000001,
          5.9,
          6.4,
          7.3,
          6.1,
          5,
          5.6,
          6.3,
          5.1,
          7.3,
          6,
          5.900000000000001,
          7,
          5.3,
          6.2,
          6.7,
          5.7,
          4.4,
          6.4,
          6.1,
          7.2,
          6.5,
          7.4,
          6.2,
          7.9,
          6.5,
          4.7,
          7.5,
          5.7,
          4.5,
          6.8,
          5.4,
          6.7,
          6.5,
          8,
          6.4,
          4.6,
          9.4,
          6.7,
          7.1,
          7,
          6,
          7.2,
          6.1,
          3.7,
          7,
          7.3,
          4.7,
          6.4,
          7.6,
          7.4,
          7.3,
          5.599999999999999,
          7.5,
          7.4,
          5.599999999999999,
          6.3,
          6.400000000000001,
          7.5,
          8.3,
          6,
          7.3,
          6.2,
          6.8,
          7,
          7.700000000000001,
          6.9,
          5.7,
          7.6,
          6.1,
          7,
          5.8,
          6.8,
          7.3,
          5.9,
          6.7,
          7.1,
          6.7,
          5,
          7.1,
          6.7,
          7.2,
          6.1,
          6.3,
          7.8,
          6.7,
          6.6,
          6.5,
          6.400000000000001,
          6.2,
          6.2,
          6.6,
          5.4,
          6.1
         ],
         "yaxis": "y"
        }
       ],
       "layout": {
        "coloraxis": {
         "colorbar": {
          "title": {
           "text": "startYear"
          }
         },
         "colorscale": [
          [
           0,
           "gold"
          ],
          [
           0.16666666666666666,
           "orange"
          ],
          [
           0.3333333333333333,
           "red"
          ],
          [
           0.5,
           "purple"
          ],
          [
           0.6666666666666666,
           "magenta"
          ],
          [
           0.8333333333333334,
           "blue"
          ],
          [
           1,
           "cyan"
          ]
         ]
        },
        "legend": {
         "tracegroupgap": 0
        },
        "margin": {
         "t": 60
        },
        "template": {
         "data": {
          "bar": [
           {
            "error_x": {
             "color": "#2a3f5f"
            },
            "error_y": {
             "color": "#2a3f5f"
            },
            "marker": {
             "line": {
              "color": "#E5ECF6",
              "width": 0.5
             },
             "pattern": {
              "fillmode": "overlay",
              "size": 10,
              "solidity": 0.2
             }
            },
            "type": "bar"
           }
          ],
          "barpolar": [
           {
            "marker": {
             "line": {
              "color": "#E5ECF6",
              "width": 0.5
             },
             "pattern": {
              "fillmode": "overlay",
              "size": 10,
              "solidity": 0.2
             }
            },
            "type": "barpolar"
           }
          ],
          "carpet": [
           {
            "aaxis": {
             "endlinecolor": "#2a3f5f",
             "gridcolor": "white",
             "linecolor": "white",
             "minorgridcolor": "white",
             "startlinecolor": "#2a3f5f"
            },
            "baxis": {
             "endlinecolor": "#2a3f5f",
             "gridcolor": "white",
             "linecolor": "white",
             "minorgridcolor": "white",
             "startlinecolor": "#2a3f5f"
            },
            "type": "carpet"
           }
          ],
          "choropleth": [
           {
            "colorbar": {
             "outlinewidth": 0,
             "ticks": ""
            },
            "type": "choropleth"
           }
          ],
          "contour": [
           {
            "colorbar": {
             "outlinewidth": 0,
             "ticks": ""
            },
            "colorscale": [
             [
              0,
              "#0d0887"
             ],
             [
              0.1111111111111111,
              "#46039f"
             ],
             [
              0.2222222222222222,
              "#7201a8"
             ],
             [
              0.3333333333333333,
              "#9c179e"
             ],
             [
              0.4444444444444444,
              "#bd3786"
             ],
             [
              0.5555555555555556,
              "#d8576b"
             ],
             [
              0.6666666666666666,
              "#ed7953"
             ],
             [
              0.7777777777777778,
              "#fb9f3a"
             ],
             [
              0.8888888888888888,
              "#fdca26"
             ],
             [
              1,
              "#f0f921"
             ]
            ],
            "type": "contour"
           }
          ],
          "contourcarpet": [
           {
            "colorbar": {
             "outlinewidth": 0,
             "ticks": ""
            },
            "type": "contourcarpet"
           }
          ],
          "heatmap": [
           {
            "colorbar": {
             "outlinewidth": 0,
             "ticks": ""
            },
            "colorscale": [
             [
              0,
              "#0d0887"
             ],
             [
              0.1111111111111111,
              "#46039f"
             ],
             [
              0.2222222222222222,
              "#7201a8"
             ],
             [
              0.3333333333333333,
              "#9c179e"
             ],
             [
              0.4444444444444444,
              "#bd3786"
             ],
             [
              0.5555555555555556,
              "#d8576b"
             ],
             [
              0.6666666666666666,
              "#ed7953"
             ],
             [
              0.7777777777777778,
              "#fb9f3a"
             ],
             [
              0.8888888888888888,
              "#fdca26"
             ],
             [
              1,
              "#f0f921"
             ]
            ],
            "type": "heatmap"
           }
          ],
          "heatmapgl": [
           {
            "colorbar": {
             "outlinewidth": 0,
             "ticks": ""
            },
            "colorscale": [
             [
              0,
              "#0d0887"
             ],
             [
              0.1111111111111111,
              "#46039f"
             ],
             [
              0.2222222222222222,
              "#7201a8"
             ],
             [
              0.3333333333333333,
              "#9c179e"
             ],
             [
              0.4444444444444444,
              "#bd3786"
             ],
             [
              0.5555555555555556,
              "#d8576b"
             ],
             [
              0.6666666666666666,
              "#ed7953"
             ],
             [
              0.7777777777777778,
              "#fb9f3a"
             ],
             [
              0.8888888888888888,
              "#fdca26"
             ],
             [
              1,
              "#f0f921"
             ]
            ],
            "type": "heatmapgl"
           }
          ],
          "histogram": [
           {
            "marker": {
             "pattern": {
              "fillmode": "overlay",
              "size": 10,
              "solidity": 0.2
             }
            },
            "type": "histogram"
           }
          ],
          "histogram2d": [
           {
            "colorbar": {
             "outlinewidth": 0,
             "ticks": ""
            },
            "colorscale": [
             [
              0,
              "#0d0887"
             ],
             [
              0.1111111111111111,
              "#46039f"
             ],
             [
              0.2222222222222222,
              "#7201a8"
             ],
             [
              0.3333333333333333,
              "#9c179e"
             ],
             [
              0.4444444444444444,
              "#bd3786"
             ],
             [
              0.5555555555555556,
              "#d8576b"
             ],
             [
              0.6666666666666666,
              "#ed7953"
             ],
             [
              0.7777777777777778,
              "#fb9f3a"
             ],
             [
              0.8888888888888888,
              "#fdca26"
             ],
             [
              1,
              "#f0f921"
             ]
            ],
            "type": "histogram2d"
           }
          ],
          "histogram2dcontour": [
           {
            "colorbar": {
             "outlinewidth": 0,
             "ticks": ""
            },
            "colorscale": [
             [
              0,
              "#0d0887"
             ],
             [
              0.1111111111111111,
              "#46039f"
             ],
             [
              0.2222222222222222,
              "#7201a8"
             ],
             [
              0.3333333333333333,
              "#9c179e"
             ],
             [
              0.4444444444444444,
              "#bd3786"
             ],
             [
              0.5555555555555556,
              "#d8576b"
             ],
             [
              0.6666666666666666,
              "#ed7953"
             ],
             [
              0.7777777777777778,
              "#fb9f3a"
             ],
             [
              0.8888888888888888,
              "#fdca26"
             ],
             [
              1,
              "#f0f921"
             ]
            ],
            "type": "histogram2dcontour"
           }
          ],
          "mesh3d": [
           {
            "colorbar": {
             "outlinewidth": 0,
             "ticks": ""
            },
            "type": "mesh3d"
           }
          ],
          "parcoords": [
           {
            "line": {
             "colorbar": {
              "outlinewidth": 0,
              "ticks": ""
             }
            },
            "type": "parcoords"
           }
          ],
          "pie": [
           {
            "automargin": true,
            "type": "pie"
           }
          ],
          "scatter": [
           {
            "fillpattern": {
             "fillmode": "overlay",
             "size": 10,
             "solidity": 0.2
            },
            "type": "scatter"
           }
          ],
          "scatter3d": [
           {
            "line": {
             "colorbar": {
              "outlinewidth": 0,
              "ticks": ""
             }
            },
            "marker": {
             "colorbar": {
              "outlinewidth": 0,
              "ticks": ""
             }
            },
            "type": "scatter3d"
           }
          ],
          "scattercarpet": [
           {
            "marker": {
             "colorbar": {
              "outlinewidth": 0,
              "ticks": ""
             }
            },
            "type": "scattercarpet"
           }
          ],
          "scattergeo": [
           {
            "marker": {
             "colorbar": {
              "outlinewidth": 0,
              "ticks": ""
             }
            },
            "type": "scattergeo"
           }
          ],
          "scattergl": [
           {
            "marker": {
             "colorbar": {
              "outlinewidth": 0,
              "ticks": ""
             }
            },
            "type": "scattergl"
           }
          ],
          "scattermapbox": [
           {
            "marker": {
             "colorbar": {
              "outlinewidth": 0,
              "ticks": ""
             }
            },
            "type": "scattermapbox"
           }
          ],
          "scatterpolar": [
           {
            "marker": {
             "colorbar": {
              "outlinewidth": 0,
              "ticks": ""
             }
            },
            "type": "scatterpolar"
           }
          ],
          "scatterpolargl": [
           {
            "marker": {
             "colorbar": {
              "outlinewidth": 0,
              "ticks": ""
             }
            },
            "type": "scatterpolargl"
           }
          ],
          "scatterternary": [
           {
            "marker": {
             "colorbar": {
              "outlinewidth": 0,
              "ticks": ""
             }
            },
            "type": "scatterternary"
           }
          ],
          "surface": [
           {
            "colorbar": {
             "outlinewidth": 0,
             "ticks": ""
            },
            "colorscale": [
             [
              0,
              "#0d0887"
             ],
             [
              0.1111111111111111,
              "#46039f"
             ],
             [
              0.2222222222222222,
              "#7201a8"
             ],
             [
              0.3333333333333333,
              "#9c179e"
             ],
             [
              0.4444444444444444,
              "#bd3786"
             ],
             [
              0.5555555555555556,
              "#d8576b"
             ],
             [
              0.6666666666666666,
              "#ed7953"
             ],
             [
              0.7777777777777778,
              "#fb9f3a"
             ],
             [
              0.8888888888888888,
              "#fdca26"
             ],
             [
              1,
              "#f0f921"
             ]
            ],
            "type": "surface"
           }
          ],
          "table": [
           {
            "cells": {
             "fill": {
              "color": "#EBF0F8"
             },
             "line": {
              "color": "white"
             }
            },
            "header": {
             "fill": {
              "color": "#C8D4E3"
             },
             "line": {
              "color": "white"
             }
            },
            "type": "table"
           }
          ]
         },
         "layout": {
          "annotationdefaults": {
           "arrowcolor": "#2a3f5f",
           "arrowhead": 0,
           "arrowwidth": 1
          },
          "autotypenumbers": "strict",
          "coloraxis": {
           "colorbar": {
            "outlinewidth": 0,
            "ticks": ""
           }
          },
          "colorscale": {
           "diverging": [
            [
             0,
             "#8e0152"
            ],
            [
             0.1,
             "#c51b7d"
            ],
            [
             0.2,
             "#de77ae"
            ],
            [
             0.3,
             "#f1b6da"
            ],
            [
             0.4,
             "#fde0ef"
            ],
            [
             0.5,
             "#f7f7f7"
            ],
            [
             0.6,
             "#e6f5d0"
            ],
            [
             0.7,
             "#b8e186"
            ],
            [
             0.8,
             "#7fbc41"
            ],
            [
             0.9,
             "#4d9221"
            ],
            [
             1,
             "#276419"
            ]
           ],
           "sequential": [
            [
             0,
             "#0d0887"
            ],
            [
             0.1111111111111111,
             "#46039f"
            ],
            [
             0.2222222222222222,
             "#7201a8"
            ],
            [
             0.3333333333333333,
             "#9c179e"
            ],
            [
             0.4444444444444444,
             "#bd3786"
            ],
            [
             0.5555555555555556,
             "#d8576b"
            ],
            [
             0.6666666666666666,
             "#ed7953"
            ],
            [
             0.7777777777777778,
             "#fb9f3a"
            ],
            [
             0.8888888888888888,
             "#fdca26"
            ],
            [
             1,
             "#f0f921"
            ]
           ],
           "sequentialminus": [
            [
             0,
             "#0d0887"
            ],
            [
             0.1111111111111111,
             "#46039f"
            ],
            [
             0.2222222222222222,
             "#7201a8"
            ],
            [
             0.3333333333333333,
             "#9c179e"
            ],
            [
             0.4444444444444444,
             "#bd3786"
            ],
            [
             0.5555555555555556,
             "#d8576b"
            ],
            [
             0.6666666666666666,
             "#ed7953"
            ],
            [
             0.7777777777777778,
             "#fb9f3a"
            ],
            [
             0.8888888888888888,
             "#fdca26"
            ],
            [
             1,
             "#f0f921"
            ]
           ]
          },
          "colorway": [
           "#636efa",
           "#EF553B",
           "#00cc96",
           "#ab63fa",
           "#FFA15A",
           "#19d3f3",
           "#FF6692",
           "#B6E880",
           "#FF97FF",
           "#FECB52"
          ],
          "font": {
           "color": "#2a3f5f"
          },
          "geo": {
           "bgcolor": "white",
           "lakecolor": "white",
           "landcolor": "#E5ECF6",
           "showlakes": true,
           "showland": true,
           "subunitcolor": "white"
          },
          "hoverlabel": {
           "align": "left"
          },
          "hovermode": "closest",
          "mapbox": {
           "style": "light"
          },
          "paper_bgcolor": "white",
          "plot_bgcolor": "#E5ECF6",
          "polar": {
           "angularaxis": {
            "gridcolor": "white",
            "linecolor": "white",
            "ticks": ""
           },
           "bgcolor": "#E5ECF6",
           "radialaxis": {
            "gridcolor": "white",
            "linecolor": "white",
            "ticks": ""
           }
          },
          "scene": {
           "xaxis": {
            "backgroundcolor": "#E5ECF6",
            "gridcolor": "white",
            "gridwidth": 2,
            "linecolor": "white",
            "showbackground": true,
            "ticks": "",
            "zerolinecolor": "white"
           },
           "yaxis": {
            "backgroundcolor": "#E5ECF6",
            "gridcolor": "white",
            "gridwidth": 2,
            "linecolor": "white",
            "showbackground": true,
            "ticks": "",
            "zerolinecolor": "white"
           },
           "zaxis": {
            "backgroundcolor": "#E5ECF6",
            "gridcolor": "white",
            "gridwidth": 2,
            "linecolor": "white",
            "showbackground": true,
            "ticks": "",
            "zerolinecolor": "white"
           }
          },
          "shapedefaults": {
           "line": {
            "color": "#2a3f5f"
           }
          },
          "ternary": {
           "aaxis": {
            "gridcolor": "white",
            "linecolor": "white",
            "ticks": ""
           },
           "baxis": {
            "gridcolor": "white",
            "linecolor": "white",
            "ticks": ""
           },
           "bgcolor": "#E5ECF6",
           "caxis": {
            "gridcolor": "white",
            "linecolor": "white",
            "ticks": ""
           }
          },
          "title": {
           "x": 0.05
          },
          "xaxis": {
           "automargin": true,
           "gridcolor": "white",
           "linecolor": "white",
           "ticks": "",
           "title": {
            "standoff": 15
           },
           "zerolinecolor": "white",
           "zerolinewidth": 2
          },
          "yaxis": {
           "automargin": true,
           "gridcolor": "white",
           "linecolor": "white",
           "ticks": "",
           "title": {
            "standoff": 15
           },
           "zerolinecolor": "white",
           "zerolinewidth": 2
          }
         }
        },
        "xaxis": {
         "anchor": "y",
         "domain": [
          0,
          1
         ],
         "title": {
          "text": "Number of Product Placements (logarithmic scale)"
         },
         "type": "log"
        },
        "yaxis": {
         "anchor": "x",
         "domain": [
          0,
          1
         ],
         "title": {
          "text": "Average Title Rating"
         }
        }
       }
      }
     },
     "metadata": {},
     "output_type": "display_data"
    }
   ],
   "source": [
    "fig3 = px.scatter(\n",
    "    resolved_data,\n",
    "    x='imgCount',\n",
    "    y='averageRating',\n",
    "    color='startYear',\n",
    "    category_orders={'year': resolved_data['year'].sort_values().unique()},\n",
    "    hover_name='Title',\n",
    "    log_x=True,\n",
    "    color_continuous_scale=['gold','orange','red','purple','magenta','blue','cyan'],\n",
    "    labels={\n",
    "        'imgCount':'Number of Product Placements (logarithmic scale)',\n",
    "        'averageRating':'Average Title Rating',\n",
    "        'year':'Year'\n",
    "    }\n",
    ")\n",
    "\n",
    "fig3.show()"
   ]
  },
  {
   "cell_type": "code",
   "execution_count": 6,
   "metadata": {},
   "outputs": [
    {
     "data": {
      "application/vnd.plotly.v1+json": {
       "config": {
        "plotlyServerURL": "https://plot.ly"
       },
       "data": [
        {
         "hovertemplate": "<b>%{hovertext}</b><br><br>Year=2020<br>Number of Product Placements (logarithmic scale)=%{x}<br>Average Title Rating=%{y}<extra></extra>",
         "hovertext": [
          "Gentefied",
          "Fatman (2020)",
          "9-1-1: Lone Star",
          "Power Book II: Ghost",
          "Trying",
          "Ted Lasso",
          "Big Sky",
          "Unbreakable Kimmy Schmidt: Kimmy vs the Reverend (2020)",
          "Songbird (2020)",
          "Operation Christmas Drop (2020)",
          "Modern Persuasion (2020)",
          "Locke & Key",
          "The Empty Man (2020)",
          "Home Before Dark",
          "Penguin Bloom (2020)",
          "Hillbilly Elegy (2020)",
          "The Flight Attendant",
          "Industry",
          "The Stand In (2020)",
          "Little America",
          "Breeders",
          "The Undoing",
          "All My Life (2020)",
          "Awkwafina Is Nora from Queens",
          "Dave",
          "The Wilds",
          "Mythic Quest",
          "Emily in Paris",
          "Nurses",
          "Warrior Nun",
          "Sweet Magnolias",
          "Woke",
          "Mainstream (2020)",
          "Intelligence",
          "Space Force",
          "Diary of a Future President",
          "The Night House (2020)",
          "Holidate (2020)"
         ],
         "legendgroup": "2020",
         "marker": {
          "color": "#636efa",
          "symbol": "circle"
         },
         "mode": "markers",
         "name": "2020",
         "orientation": "v",
         "showlegend": true,
         "type": "scatter",
         "x": [
          1.0714285714285714,
          3,
          2.4411764705882355,
          1.6666666666666667,
          1.4583333333333333,
          2.2604166666666665,
          1.3571428571428572,
          1.6666666666666667,
          1.75,
          1.4,
          2.5,
          1.125,
          2,
          1.5833333333333333,
          2,
          2,
          1.1875,
          1.7142857142857142,
          2.6666666666666665,
          2.4,
          1.7142857142857142,
          2,
          2,
          1.75,
          1.56,
          1.3333333333333333,
          1.380952380952381,
          1.6428571428571428,
          1.25,
          2,
          1.8125,
          1.2857142857142858,
          1.5,
          1.6666666666666667,
          1.8333333333333333,
          1.5,
          2,
          2
         ],
         "xaxis": "x",
         "y": [
          7.5,
          5.9,
          7.2,
          7.5,
          8,
          8.8,
          6.8,
          5,
          4.8,
          5.8,
          4.9,
          7.3,
          6.2,
          7.5,
          6.8,
          6.7,
          7.1,
          7.2,
          4.7,
          7.6,
          7.5,
          7.4,
          6.3,
          7.5,
          8.3,
          7.3,
          7.700000000000001,
          6.9,
          6.1,
          7,
          7.3,
          6.7,
          5,
          6.3,
          6.7,
          6.6,
          6.5,
          6.1
         ],
         "yaxis": "y"
        },
        {
         "hovertemplate": "<b>%{hovertext}</b><br><br>Year=2021<br>Number of Product Placements (logarithmic scale)=%{x}<br>Average Title Rating=%{y}<extra></extra>",
         "hovertext": [
          "False Positive (2021)",
          "Best Sellers (2021)",
          "CODA (2021)",
          "Mr. Mayor",
          "To All the Boys: Always and Forever (2021)",
          "The Premise",
          "Ginny & Georgia",
          "Sex/Life",
          "Spider-Man: No Way Home (2021)",
          "Here Today (2021)",
          "The Upshaws",
          "The Crew",
          "Walker",
          "Rutherford Falls",
          "Call Your Mother",
          "The Map of Tiny Perfect Things (2021)",
          "The Sex Lives of College Girls",
          "Big Shot",
          "Together Together (2021)",
          "Silent Night (2021)",
          "Girls5eva",
          "Only Murders in the Building",
          "Mayor of Kingstown",
          "American Auto",
          "Grand Crew",
          "Run the World",
          "Schmigadoon!",
          "Hacks",
          "The Chair",
          "The Shrink Next Door",
          "SurrealEstate",
          "Doogie Kameāloha M.D.",
          "American Horror Stories",
          "Law & Order: Organized Crime",
          "The Kissing Booth 3 (2021)",
          "Resort to Love (2021)",
          "Locked Down (2021)",
          "Flatbush Misdemeanors",
          "The White Lotus",
          "A Perfect Match (2021)",
          "Acapulco",
          "Tom and Jerry (2021)",
          "And Just Like That...",
          "Abbott Elementary",
          "Joe Pickett",
          "Pretty Smart",
          "National Champions (2021)",
          "A Christmas Number One (2021)",
          "American Rust",
          "The Last Letter from Your Lover (2021)",
          "Clifford the Big Red Dog (2021)",
          "Those Who Wish Me Dead (2021)",
          "Lisey's Story",
          "Saving Paradise (2021)",
          "He's All That (2021)",
          "On the Verge",
          "The Woman in the Window (2021)",
          "Moxie (2021)",
          "Heels",
          "Deadly Illusions (2021)",
          "The Mighty Ducks: Game Changers",
          "Swagger",
          "Good on Paper (2021)",
          "The Hating Game (2021)",
          "Nine Perfect Strangers",
          "Firefly Lane",
          "The Falcon and the Winter Soldier",
          "Kevin Can F**k Himself",
          "Ordinary Joe",
          "Crisis (2021)",
          "Invasion",
          "The Tomorrow War (2021)"
         ],
         "legendgroup": "2021",
         "marker": {
          "color": "#EF553B",
          "symbol": "circle"
         },
         "mode": "markers",
         "name": "2021",
         "orientation": "v",
         "showlegend": true,
         "type": "scatter",
         "x": [
          1.3333333333333333,
          1.5,
          2,
          1.5,
          1.7142857142857142,
          1.5,
          1.5333333333333334,
          2,
          2,
          1.5,
          1.9523809523809523,
          2.090909090909091,
          1.75,
          1.9,
          1.6,
          1.5,
          1.6296296296296295,
          1.85,
          3,
          2,
          2.1538461538461537,
          7.583333333333333,
          1.1666666666666667,
          1.9594594594594594,
          1.375,
          2.64,
          1.6,
          1.2173913043478262,
          1.2857142857142858,
          1.5,
          12.043478260869565,
          1.8571428571428572,
          6.4,
          2.1666666666666665,
          1.4,
          1.3333333333333333,
          6,
          1.5,
          1.7777777777777777,
          2.5,
          1.125,
          1.6666666666666667,
          3.2666666666666666,
          1.5,
          1.6666666666666667,
          2,
          2,
          2.5,
          1.25,
          3,
          1.25,
          3,
          2,
          2,
          2,
          1.3636363636363635,
          2.5,
          2,
          2.888888888888889,
          1.8,
          1.7894736842105263,
          1.9130434782608696,
          2,
          2,
          1.5,
          2,
          1.5,
          1.8,
          1.4545454545454546,
          2.3333333333333335,
          8.733333333333333,
          4
         ],
         "xaxis": "x",
         "y": [
          4.7,
          6.2,
          8,
          6.400000000000001,
          6.3,
          6.7,
          7.5,
          5.6,
          8.2,
          6.7,
          7,
          6.5,
          6.2,
          6.7,
          5.2,
          6.8,
          7.8,
          7.5,
          6.400000000000001,
          5.7,
          7.200000000000001,
          8.1,
          8.2,
          6.5,
          7.1,
          6.4,
          7.4,
          8.2,
          7.2,
          7.1,
          7.1,
          7,
          6.2,
          7.7,
          4.8,
          5.7,
          5.3,
          6.8,
          7.900000000000001,
          6.1,
          7.7,
          5.2,
          5.7,
          8.2,
          7.7,
          5.8,
          5.7,
          5.6,
          7.2,
          6.7,
          5.9,
          6,
          5.900000000000001,
          6.2,
          4.4,
          6.5,
          5.7,
          6.7,
          8,
          3.7,
          7.3,
          7.4,
          5.599999999999999,
          6.2,
          7,
          7.6,
          7.1,
          7.1,
          6.7,
          6.2,
          6.2,
          6.6
         ],
         "yaxis": "y"
        },
        {
         "hovertemplate": "<b>%{hovertext}</b><br><br>Year=2022<br>Number of Product Placements (logarithmic scale)=%{x}<br>Average Title Rating=%{y}<extra></extra>",
         "hovertext": [
          "The Dropout",
          "Marry Me (2022)",
          "Don't Worry Darling (2022)",
          "She-Hulk: Attorney at Law",
          "Spirited (2022)",
          "Press Play (2022)",
          "Super Pumped",
          "She Said (2022)",
          "Rap Sh!t",
          "Reasonable Doubt",
          "From Scratch",
          "Rescued by Ruby (2022)",
          "Joe vs. Carole",
          "Wedding Season (2022)",
          "Anything's Possible (2022)",
          "Fleishman Is in Trouble",
          "Power Book IV: Force",
          "The Resort",
          "Hocus Pocus 2 (2022)",
          "Vengeance (2022)",
          "Watcher (2022)",
          "WeCrashed",
          "Suspicion",
          "Sonic the Hedgehog 2 (2022)",
          "As We See It",
          "The Afterparty",
          "Confess, Fletch (2022)",
          "Echo 3",
          "Bel-Air",
          "Mr. Harrigan's Phone (2022)",
          "Pretty Little Liars: Original Sin",
          "Peacemaker",
          "Family Squares (2022)",
          "The Kings of Napa",
          "The First Lady",
          "Father of the Bride (2022)",
          "First Kill",
          "Slumberland (2022)",
          "Archive 81",
          "Wednesday",
          "The Bubble (2022)",
          "Naomi",
          "Irma Vep",
          "The Lincoln Lawyer",
          "Men (2022)",
          "God's Favorite Idiot",
          "Secret Headquarters (2022)",
          "The Summer I Turned Pretty",
          "Blacklight (2022)",
          "Boo, Bitch",
          "Somewhere in Queens (2022)",
          "Hollywood Stargirl (2022)",
          "Keep Breathing",
          "Kimi (2022)",
          "Loot",
          "Look Both Ways (2022)",
          "Let the Right One In",
          "Kindred",
          "The Bear",
          "About Fate (2022)",
          "How I Met Your Father",
          "Along for the Ride (2022)",
          "Alone Together (2022)",
          "Better Nate Than Ever (2022)",
          "Poker Face (2022)",
          "The Watcher",
          "Lopez vs. Lopez",
          "Fantasy Football (2022)",
          "My Fake Boyfriend (2022)",
          "Reboot",
          "A Perfect Pairing (2022)",
          "Fire Island (2022)",
          "Emily the Criminal (2022)",
          "Raymond & Ray (2022)",
          "Partner Track",
          "Alaska Daily",
          "Love in the Villa (2022)",
          "Uncoupled",
          "Pitch Perfect: Bumper in Berlin",
          "Love & Gelato (2022)",
          "The Calling",
          "Christmas with You (2022)",
          "Blockbuster",
          "Honor Society (2022)",
          "Quantum Leap",
          "The Rookie: Feds",
          "So Help Me Todd",
          "Wicked City",
          "Love in the Limelight (2022)",
          "The Sky Is Everywhere (2022)",
          "Glass Onion: A Knives Out Mystery (2022)",
          "Chip 'n Dale: Rescue Rangers (2022)",
          "13: The Musical (2022)",
          "The Valet (2022)",
          "Luckiest Girl Alive (2022)",
          "Ambulance (2022)",
          "Slow Horses",
          "Space Oddity (2022)",
          "I Want You Back (2022)",
          "Cheaper by the Dozen (2022)",
          "The Power",
          "Angelyne",
          "Shining Vale",
          "Hustle (2022)",
          "Jurassic World Dominion (2022)",
          "Inventing Anna",
          "Goodnight Mommy (2022)",
          "The People We Hate at the Wedding (2022)",
          "Black Panther: Wakanda Forever (2022)",
          "I Love That for You",
          "Bros (2022)",
          "Last Light"
         ],
         "legendgroup": "2022",
         "marker": {
          "color": "#00cc96",
          "symbol": "circle"
         },
         "mode": "markers",
         "name": "2022",
         "orientation": "v",
         "showlegend": true,
         "type": "scatter",
         "x": [
          2.230769230769231,
          2.4,
          3,
          2,
          2.5714285714285716,
          1.5,
          2.5652173913043477,
          2.4,
          5.875,
          1.4,
          1.25,
          3,
          1.2857142857142858,
          5.666666666666667,
          2.1666666666666665,
          1.5,
          4.333333333333333,
          1.5,
          2,
          2,
          2.5,
          2.5135135135135136,
          1.3333333333333333,
          1.5,
          2,
          2.8333333333333335,
          2,
          1.4,
          1.7941176470588236,
          3.3333333333333335,
          1.25,
          1.5,
          1.5,
          1.1,
          1.8,
          1.6666666666666667,
          1.5,
          2,
          1.5,
          1.2222222222222223,
          1.5,
          2,
          1.3333333333333333,
          3.789473684210526,
          1.5,
          1.6923076923076923,
          2,
          5,
          1.6,
          1.5,
          2.6666666666666665,
          1.3333333333333333,
          1.8,
          3,
          1.7777777777777777,
          1.4,
          2,
          2.5,
          1.5454545454545454,
          3,
          1.5217391304347827,
          2,
          1.6666666666666667,
          2,
          1.5,
          1.4,
          1.3703703703703705,
          2,
          2.4,
          1.7142857142857142,
          2.3333333333333335,
          2,
          2,
          1.5,
          1.8,
          2.533333333333333,
          1.5,
          1.8333333333333333,
          1.6363636363636365,
          2,
          1.25,
          2,
          1.4545454545454546,
          3.3333333333333335,
          2.3214285714285716,
          2.227272727272727,
          2.55,
          2,
          2,
          3,
          2,
          2,
          2,
          1.75,
          2.25,
          3,
          3.875,
          2.4,
          2,
          1.3333333333333333,
          1.75,
          4,
          7.136363636363637,
          1.5,
          1.6666666666666667,
          2.4375,
          3,
          1.6666666666666667,
          1.5,
          1.4,
          3,
          1.5
         ],
         "xaxis": "x",
         "y": [
          7.5,
          6.1,
          6.3,
          5.3,
          6.6,
          6,
          7.3,
          7.3,
          6.6,
          6.3,
          7.9,
          7.2,
          6.2,
          6.3,
          5.7,
          7.7,
          8.1,
          7.4,
          6,
          6.8,
          6.3,
          7.299999999999999,
          6.2,
          6.5,
          8.1,
          7.300000000000001,
          6.5,
          6.5,
          6.4,
          6,
          7,
          8.3,
          5.6,
          4.4,
          7.2,
          5.900000000000001,
          6.5,
          6.7,
          7.3,
          8.1,
          4.7,
          4.9,
          6.8,
          7.7,
          6.1,
          5.799999999999999,
          5.2,
          7.3,
          4.8,
          5.9,
          6.8,
          5.8,
          5.3,
          6.3,
          6.8,
          6.3,
          7.5,
          7.4,
          8.6,
          6.4,
          5.7,
          6.1,
          5.400000000000001,
          6.4,
          5.2,
          6.5,
          6,
          5.9,
          5.2,
          7.4,
          6.099999999999999,
          6.7,
          6.7,
          6.2,
          6.7,
          7.5,
          5.4,
          7,
          6.4,
          5.2,
          7.1,
          5.6,
          5.1,
          6.5,
          6.1,
          5.3,
          7.5,
          4.4,
          6.5,
          5.6,
          6.400000000000001,
          7,
          5.3,
          6.7,
          6.4,
          6.1,
          7.9,
          5.4,
          6.5,
          4.6,
          7,
          6,
          7,
          7.3,
          5.599999999999999,
          6.8,
          5.7,
          5.8,
          6.7,
          7.2,
          6.400000000000001,
          5.4
         ],
         "yaxis": "y"
        },
        {
         "hovertemplate": "<b>%{hovertext}</b><br><br>Year=2023<br>Number of Product Placements (logarithmic scale)=%{x}<br>Average Title Rating=%{y}<extra></extra>",
         "hovertext": [
          "Shazam! Fury of the Gods (2023)",
          "Red, White & Royal Blue (2023)",
          "Missing (2023)",
          "The Out-Laws (2023)",
          "The Killer (2023)",
          "The Kill Room (2023)",
          "Love in Taipei (2023)",
          "The Other Zoey (2023)",
          "Who Are You People (2023)",
          "The Re-Education of Molly Singer (2023)",
          "Your Place or Mine (2023)",
          "The List (2023)",
          "Dead Ringers",
          "FUBAR",
          "High Desert",
          "Gen V",
          "Past Lives (2023)",
          "Reptile (2023)",
          "Platonic",
          "Love at First Sight (2023)",
          "The Curse",
          "I'm a Virgo",
          "If You Were the Last (2023)",
          "May December (2023)",
          "The Last Thing He Told Me",
          "On a Wing and a Prayer (2023)",
          "Dumb Money (2023)",
          "Spy Kids: Armageddon (2023)",
          "Shortcomings (2023)",
          "XO, Kitty",
          "Florida Man",
          "Cat Person (2023)",
          "The Big Door Prize",
          "One True Loves (2023)",
          "The Retirement Plan (2023)",
          "At Midnight (2023)",
          "The Idol",
          "City on Fire",
          "Barbie (2023)",
          "Murder Mystery 2 (2023)",
          "Pain Hustlers (2023)",
          "Joy Ride (2023)",
          "Full Circle",
          "Ghosted (2023)",
          "Somebody I Used to Know (2023)",
          "Dog Gone (2023)",
          "Vacation Friends 2 (2023)",
          "The Watchful Eye",
          "Jules (2023)",
          "Kaleidoscope",
          "Harlan Coben's Shelter",
          "Freeridge",
          "American Born Chinese",
          "The Fall of the House of Usher",
          "No Hard Feelings (2023)",
          "Shrinking",
          "Freelance (2023)",
          "Magic Mike's Last Dance (2023)",
          "The Irrational",
          "Fair Play (2023)",
          "Haunted Mansion (2023)",
          "The Beanie Bubble (2023)",
          "The Equalizer",
          "The Equalizer 3 (2023)",
          "Prom Pact (2023)",
          "Up Here",
          "Dear Edward",
          "Not Dead Yet",
          "Old Dads (2023)",
          "The Muppets Mayhem",
          "The Puppetman (2023)",
          "Unstable",
          "Glamorous",
          "Lucky Hank",
          "Bupkis",
          "What Happens Later (2023)",
          "A Tourist's Guide to Love (2023)",
          "Promised Land",
          "Book Club: The Next Chapter (2023)",
          "Tiny Beautiful Things",
          "My Big Fat Greek Wedding 3 (2023)",
          "Theater Camp (2023)",
          "You Are So Not Invited to My Bat Mitzvah (2023)",
          "The Other Black Girl",
          "Animal Control",
          "BlackBerry (2023)",
          "Jury Duty",
          "The Slumber Party (2023)",
          "Beautiful Disaster (2023)",
          "Drunk, Driving, and 17 (2023)",
          "Judge Me Not",
          "Love in the Maldives (2023)",
          "If I Can't Have You (2023)",
          "It's a Wonderful Knife (2023)",
          "Puppy Love (2023)",
          "Office Race (2023)",
          "Sid Is Dead (2023)",
          "Nyad (2023)",
          "Rabbit Hole",
          "Plane (2023)",
          "Back on the Strip (2023)",
          "Wonderwell (2023)",
          "She Came to Me (2023)",
          "Fast Charlie (2023)",
          "We Have a Ghost (2023)",
          "Finestkind (2023)",
          "Sitting in Bars with Cake (2023)",
          "The Changeling",
          "Found",
          "Cobweb (2023)",
          "Blue Beetle (2023)",
          "Mission: Impossible - Dead Reckoning Part One (2023)"
         ],
         "legendgroup": "2023",
         "marker": {
          "color": "#ab63fa",
          "symbol": "circle"
         },
         "mode": "markers",
         "name": "2023",
         "orientation": "v",
         "showlegend": true,
         "type": "scatter",
         "x": [
          1.6666666666666667,
          14.8,
          1.3333333333333333,
          2,
          12,
          20.6,
          2,
          16.7,
          5.5,
          4.666666666666667,
          2.2857142857142856,
          17.714285714285715,
          1.25,
          2.5,
          4.8,
          7,
          6,
          3.5,
          1.9130434782608696,
          3,
          22.6,
          1.5,
          15,
          7,
          1.6,
          3,
          11.421052631578947,
          6,
          18.5,
          3.55,
          3,
          61,
          3,
          2,
          34,
          1.75,
          2.2857142857142856,
          2.6666666666666665,
          15,
          2.25,
          2,
          2,
          1.7142857142857142,
          1.25,
          1.2,
          1.6666666666666667,
          2,
          2,
          13,
          1.3,
          11.454545454545455,
          1.9,
          1.3333333333333333,
          21.842105263157894,
          6.25,
          1.6666666666666667,
          40.75,
          2.5,
          9.88888888888889,
          22.666666666666668,
          8,
          3,
          2,
          9,
          1.5,
          2.5,
          1.2352941176470589,
          4.166666666666667,
          6.333333333333333,
          1.4375,
          17.666666666666668,
          2.1538461538461537,
          2.176470588235294,
          1.6666666666666667,
          1.6363636363636365,
          25,
          3.3333333333333335,
          1.125,
          1.8333333333333333,
          1.7272727272727273,
          14.666666666666666,
          2,
          10,
          2,
          1.4285714285714286,
          3,
          1.3333333333333333,
          12,
          1.5,
          2,
          2,
          2,
          2,
          4,
          9.4,
          3.5,
          4.75,
          20.5,
          1.875,
          1.5,
          6,
          5.5,
          16,
          11,
          1.25,
          18,
          8.166666666666666,
          6,
          8.86111111111111,
          4,
          10,
          6
         ],
         "xaxis": "x",
         "y": [
          6,
          7,
          7.099999999999999,
          5.4,
          7.400000000000001,
          5.4,
          5.7,
          6,
          5.1,
          6.3,
          5.7,
          5.4,
          6.5,
          6.5,
          6.2,
          8,
          8,
          6.8,
          7.2,
          6.8,
          9,
          7.099999999999999,
          6.2,
          7.4,
          6.5,
          5.5,
          7.1000000000000005,
          4.4,
          6.5,
          6.5,
          6.7,
          6,
          6.3,
          5.4,
          5.1,
          5.6,
          5.7,
          6.400000000000001,
          7,
          5.7,
          5.7,
          6.5,
          6.4,
          5.8,
          5.7,
          6,
          5.3,
          6.3,
          6.7,
          6.6,
          6.6,
          5.8,
          7.099999999999999,
          8.1,
          6.4,
          8,
          5.3,
          5.2,
          7,
          6.5,
          6.1,
          6.3,
          6.9,
          6.9,
          6.3,
          6.4,
          7.1,
          7,
          6.3,
          8,
          5.3,
          6.700000000000001,
          6,
          6.8,
          7.3,
          7.6,
          5.7,
          7.8,
          5.599999999999999,
          7.1,
          5.2,
          7.1,
          6,
          6.8,
          6.6,
          7.4,
          8.3,
          5.7,
          5.3,
          6.4,
          7.3,
          6.1,
          5,
          5.6,
          6.3,
          5.1,
          5.7,
          7.2,
          7.4,
          6.5,
          4.7,
          4.5,
          6.4,
          9.4,
          6.1,
          6.4,
          6.400000000000001,
          6,
          6.8,
          5.9,
          6.1,
          7.8
         ],
         "yaxis": "y"
        }
       ],
       "layout": {
        "legend": {
         "title": {
          "text": "Year"
         },
         "tracegroupgap": 0
        },
        "margin": {
         "t": 60
        },
        "template": {
         "data": {
          "bar": [
           {
            "error_x": {
             "color": "#2a3f5f"
            },
            "error_y": {
             "color": "#2a3f5f"
            },
            "marker": {
             "line": {
              "color": "#E5ECF6",
              "width": 0.5
             },
             "pattern": {
              "fillmode": "overlay",
              "size": 10,
              "solidity": 0.2
             }
            },
            "type": "bar"
           }
          ],
          "barpolar": [
           {
            "marker": {
             "line": {
              "color": "#E5ECF6",
              "width": 0.5
             },
             "pattern": {
              "fillmode": "overlay",
              "size": 10,
              "solidity": 0.2
             }
            },
            "type": "barpolar"
           }
          ],
          "carpet": [
           {
            "aaxis": {
             "endlinecolor": "#2a3f5f",
             "gridcolor": "white",
             "linecolor": "white",
             "minorgridcolor": "white",
             "startlinecolor": "#2a3f5f"
            },
            "baxis": {
             "endlinecolor": "#2a3f5f",
             "gridcolor": "white",
             "linecolor": "white",
             "minorgridcolor": "white",
             "startlinecolor": "#2a3f5f"
            },
            "type": "carpet"
           }
          ],
          "choropleth": [
           {
            "colorbar": {
             "outlinewidth": 0,
             "ticks": ""
            },
            "type": "choropleth"
           }
          ],
          "contour": [
           {
            "colorbar": {
             "outlinewidth": 0,
             "ticks": ""
            },
            "colorscale": [
             [
              0,
              "#0d0887"
             ],
             [
              0.1111111111111111,
              "#46039f"
             ],
             [
              0.2222222222222222,
              "#7201a8"
             ],
             [
              0.3333333333333333,
              "#9c179e"
             ],
             [
              0.4444444444444444,
              "#bd3786"
             ],
             [
              0.5555555555555556,
              "#d8576b"
             ],
             [
              0.6666666666666666,
              "#ed7953"
             ],
             [
              0.7777777777777778,
              "#fb9f3a"
             ],
             [
              0.8888888888888888,
              "#fdca26"
             ],
             [
              1,
              "#f0f921"
             ]
            ],
            "type": "contour"
           }
          ],
          "contourcarpet": [
           {
            "colorbar": {
             "outlinewidth": 0,
             "ticks": ""
            },
            "type": "contourcarpet"
           }
          ],
          "heatmap": [
           {
            "colorbar": {
             "outlinewidth": 0,
             "ticks": ""
            },
            "colorscale": [
             [
              0,
              "#0d0887"
             ],
             [
              0.1111111111111111,
              "#46039f"
             ],
             [
              0.2222222222222222,
              "#7201a8"
             ],
             [
              0.3333333333333333,
              "#9c179e"
             ],
             [
              0.4444444444444444,
              "#bd3786"
             ],
             [
              0.5555555555555556,
              "#d8576b"
             ],
             [
              0.6666666666666666,
              "#ed7953"
             ],
             [
              0.7777777777777778,
              "#fb9f3a"
             ],
             [
              0.8888888888888888,
              "#fdca26"
             ],
             [
              1,
              "#f0f921"
             ]
            ],
            "type": "heatmap"
           }
          ],
          "heatmapgl": [
           {
            "colorbar": {
             "outlinewidth": 0,
             "ticks": ""
            },
            "colorscale": [
             [
              0,
              "#0d0887"
             ],
             [
              0.1111111111111111,
              "#46039f"
             ],
             [
              0.2222222222222222,
              "#7201a8"
             ],
             [
              0.3333333333333333,
              "#9c179e"
             ],
             [
              0.4444444444444444,
              "#bd3786"
             ],
             [
              0.5555555555555556,
              "#d8576b"
             ],
             [
              0.6666666666666666,
              "#ed7953"
             ],
             [
              0.7777777777777778,
              "#fb9f3a"
             ],
             [
              0.8888888888888888,
              "#fdca26"
             ],
             [
              1,
              "#f0f921"
             ]
            ],
            "type": "heatmapgl"
           }
          ],
          "histogram": [
           {
            "marker": {
             "pattern": {
              "fillmode": "overlay",
              "size": 10,
              "solidity": 0.2
             }
            },
            "type": "histogram"
           }
          ],
          "histogram2d": [
           {
            "colorbar": {
             "outlinewidth": 0,
             "ticks": ""
            },
            "colorscale": [
             [
              0,
              "#0d0887"
             ],
             [
              0.1111111111111111,
              "#46039f"
             ],
             [
              0.2222222222222222,
              "#7201a8"
             ],
             [
              0.3333333333333333,
              "#9c179e"
             ],
             [
              0.4444444444444444,
              "#bd3786"
             ],
             [
              0.5555555555555556,
              "#d8576b"
             ],
             [
              0.6666666666666666,
              "#ed7953"
             ],
             [
              0.7777777777777778,
              "#fb9f3a"
             ],
             [
              0.8888888888888888,
              "#fdca26"
             ],
             [
              1,
              "#f0f921"
             ]
            ],
            "type": "histogram2d"
           }
          ],
          "histogram2dcontour": [
           {
            "colorbar": {
             "outlinewidth": 0,
             "ticks": ""
            },
            "colorscale": [
             [
              0,
              "#0d0887"
             ],
             [
              0.1111111111111111,
              "#46039f"
             ],
             [
              0.2222222222222222,
              "#7201a8"
             ],
             [
              0.3333333333333333,
              "#9c179e"
             ],
             [
              0.4444444444444444,
              "#bd3786"
             ],
             [
              0.5555555555555556,
              "#d8576b"
             ],
             [
              0.6666666666666666,
              "#ed7953"
             ],
             [
              0.7777777777777778,
              "#fb9f3a"
             ],
             [
              0.8888888888888888,
              "#fdca26"
             ],
             [
              1,
              "#f0f921"
             ]
            ],
            "type": "histogram2dcontour"
           }
          ],
          "mesh3d": [
           {
            "colorbar": {
             "outlinewidth": 0,
             "ticks": ""
            },
            "type": "mesh3d"
           }
          ],
          "parcoords": [
           {
            "line": {
             "colorbar": {
              "outlinewidth": 0,
              "ticks": ""
             }
            },
            "type": "parcoords"
           }
          ],
          "pie": [
           {
            "automargin": true,
            "type": "pie"
           }
          ],
          "scatter": [
           {
            "fillpattern": {
             "fillmode": "overlay",
             "size": 10,
             "solidity": 0.2
            },
            "type": "scatter"
           }
          ],
          "scatter3d": [
           {
            "line": {
             "colorbar": {
              "outlinewidth": 0,
              "ticks": ""
             }
            },
            "marker": {
             "colorbar": {
              "outlinewidth": 0,
              "ticks": ""
             }
            },
            "type": "scatter3d"
           }
          ],
          "scattercarpet": [
           {
            "marker": {
             "colorbar": {
              "outlinewidth": 0,
              "ticks": ""
             }
            },
            "type": "scattercarpet"
           }
          ],
          "scattergeo": [
           {
            "marker": {
             "colorbar": {
              "outlinewidth": 0,
              "ticks": ""
             }
            },
            "type": "scattergeo"
           }
          ],
          "scattergl": [
           {
            "marker": {
             "colorbar": {
              "outlinewidth": 0,
              "ticks": ""
             }
            },
            "type": "scattergl"
           }
          ],
          "scattermapbox": [
           {
            "marker": {
             "colorbar": {
              "outlinewidth": 0,
              "ticks": ""
             }
            },
            "type": "scattermapbox"
           }
          ],
          "scatterpolar": [
           {
            "marker": {
             "colorbar": {
              "outlinewidth": 0,
              "ticks": ""
             }
            },
            "type": "scatterpolar"
           }
          ],
          "scatterpolargl": [
           {
            "marker": {
             "colorbar": {
              "outlinewidth": 0,
              "ticks": ""
             }
            },
            "type": "scatterpolargl"
           }
          ],
          "scatterternary": [
           {
            "marker": {
             "colorbar": {
              "outlinewidth": 0,
              "ticks": ""
             }
            },
            "type": "scatterternary"
           }
          ],
          "surface": [
           {
            "colorbar": {
             "outlinewidth": 0,
             "ticks": ""
            },
            "colorscale": [
             [
              0,
              "#0d0887"
             ],
             [
              0.1111111111111111,
              "#46039f"
             ],
             [
              0.2222222222222222,
              "#7201a8"
             ],
             [
              0.3333333333333333,
              "#9c179e"
             ],
             [
              0.4444444444444444,
              "#bd3786"
             ],
             [
              0.5555555555555556,
              "#d8576b"
             ],
             [
              0.6666666666666666,
              "#ed7953"
             ],
             [
              0.7777777777777778,
              "#fb9f3a"
             ],
             [
              0.8888888888888888,
              "#fdca26"
             ],
             [
              1,
              "#f0f921"
             ]
            ],
            "type": "surface"
           }
          ],
          "table": [
           {
            "cells": {
             "fill": {
              "color": "#EBF0F8"
             },
             "line": {
              "color": "white"
             }
            },
            "header": {
             "fill": {
              "color": "#C8D4E3"
             },
             "line": {
              "color": "white"
             }
            },
            "type": "table"
           }
          ]
         },
         "layout": {
          "annotationdefaults": {
           "arrowcolor": "#2a3f5f",
           "arrowhead": 0,
           "arrowwidth": 1
          },
          "autotypenumbers": "strict",
          "coloraxis": {
           "colorbar": {
            "outlinewidth": 0,
            "ticks": ""
           }
          },
          "colorscale": {
           "diverging": [
            [
             0,
             "#8e0152"
            ],
            [
             0.1,
             "#c51b7d"
            ],
            [
             0.2,
             "#de77ae"
            ],
            [
             0.3,
             "#f1b6da"
            ],
            [
             0.4,
             "#fde0ef"
            ],
            [
             0.5,
             "#f7f7f7"
            ],
            [
             0.6,
             "#e6f5d0"
            ],
            [
             0.7,
             "#b8e186"
            ],
            [
             0.8,
             "#7fbc41"
            ],
            [
             0.9,
             "#4d9221"
            ],
            [
             1,
             "#276419"
            ]
           ],
           "sequential": [
            [
             0,
             "#0d0887"
            ],
            [
             0.1111111111111111,
             "#46039f"
            ],
            [
             0.2222222222222222,
             "#7201a8"
            ],
            [
             0.3333333333333333,
             "#9c179e"
            ],
            [
             0.4444444444444444,
             "#bd3786"
            ],
            [
             0.5555555555555556,
             "#d8576b"
            ],
            [
             0.6666666666666666,
             "#ed7953"
            ],
            [
             0.7777777777777778,
             "#fb9f3a"
            ],
            [
             0.8888888888888888,
             "#fdca26"
            ],
            [
             1,
             "#f0f921"
            ]
           ],
           "sequentialminus": [
            [
             0,
             "#0d0887"
            ],
            [
             0.1111111111111111,
             "#46039f"
            ],
            [
             0.2222222222222222,
             "#7201a8"
            ],
            [
             0.3333333333333333,
             "#9c179e"
            ],
            [
             0.4444444444444444,
             "#bd3786"
            ],
            [
             0.5555555555555556,
             "#d8576b"
            ],
            [
             0.6666666666666666,
             "#ed7953"
            ],
            [
             0.7777777777777778,
             "#fb9f3a"
            ],
            [
             0.8888888888888888,
             "#fdca26"
            ],
            [
             1,
             "#f0f921"
            ]
           ]
          },
          "colorway": [
           "#636efa",
           "#EF553B",
           "#00cc96",
           "#ab63fa",
           "#FFA15A",
           "#19d3f3",
           "#FF6692",
           "#B6E880",
           "#FF97FF",
           "#FECB52"
          ],
          "font": {
           "color": "#2a3f5f"
          },
          "geo": {
           "bgcolor": "white",
           "lakecolor": "white",
           "landcolor": "#E5ECF6",
           "showlakes": true,
           "showland": true,
           "subunitcolor": "white"
          },
          "hoverlabel": {
           "align": "left"
          },
          "hovermode": "closest",
          "mapbox": {
           "style": "light"
          },
          "paper_bgcolor": "white",
          "plot_bgcolor": "#E5ECF6",
          "polar": {
           "angularaxis": {
            "gridcolor": "white",
            "linecolor": "white",
            "ticks": ""
           },
           "bgcolor": "#E5ECF6",
           "radialaxis": {
            "gridcolor": "white",
            "linecolor": "white",
            "ticks": ""
           }
          },
          "scene": {
           "xaxis": {
            "backgroundcolor": "#E5ECF6",
            "gridcolor": "white",
            "gridwidth": 2,
            "linecolor": "white",
            "showbackground": true,
            "ticks": "",
            "zerolinecolor": "white"
           },
           "yaxis": {
            "backgroundcolor": "#E5ECF6",
            "gridcolor": "white",
            "gridwidth": 2,
            "linecolor": "white",
            "showbackground": true,
            "ticks": "",
            "zerolinecolor": "white"
           },
           "zaxis": {
            "backgroundcolor": "#E5ECF6",
            "gridcolor": "white",
            "gridwidth": 2,
            "linecolor": "white",
            "showbackground": true,
            "ticks": "",
            "zerolinecolor": "white"
           }
          },
          "shapedefaults": {
           "line": {
            "color": "#2a3f5f"
           }
          },
          "ternary": {
           "aaxis": {
            "gridcolor": "white",
            "linecolor": "white",
            "ticks": ""
           },
           "baxis": {
            "gridcolor": "white",
            "linecolor": "white",
            "ticks": ""
           },
           "bgcolor": "#E5ECF6",
           "caxis": {
            "gridcolor": "white",
            "linecolor": "white",
            "ticks": ""
           }
          },
          "title": {
           "x": 0.05
          },
          "xaxis": {
           "automargin": true,
           "gridcolor": "white",
           "linecolor": "white",
           "ticks": "",
           "title": {
            "standoff": 15
           },
           "zerolinecolor": "white",
           "zerolinewidth": 2
          },
          "yaxis": {
           "automargin": true,
           "gridcolor": "white",
           "linecolor": "white",
           "ticks": "",
           "title": {
            "standoff": 15
           },
           "zerolinecolor": "white",
           "zerolinewidth": 2
          }
         }
        },
        "xaxis": {
         "anchor": "y",
         "domain": [
          0,
          1
         ],
         "title": {
          "text": "Number of Product Placements (logarithmic scale)"
         },
         "type": "log"
        },
        "yaxis": {
         "anchor": "x",
         "domain": [
          0,
          1
         ],
         "title": {
          "text": "Average Title Rating"
         }
        }
       }
      }
     },
     "metadata": {},
     "output_type": "display_data"
    }
   ],
   "source": [
    "fig2 = px.scatter(\n",
    "    resolved_data,\n",
    "    x='imgCount',\n",
    "    y='averageRating',\n",
    "    color='year',\n",
    "    category_orders={'year': resolved_data['year'].sort_values().unique()},\n",
    "    hover_name='Title',\n",
    "    log_x=True,\n",
    "    labels={\n",
    "        'imgCount':'Number of Product Placements (logarithmic scale)',\n",
    "        'averageRating':'Average Title Rating',\n",
    "        'year':'Year'\n",
    "    }\n",
    ")\n",
    "\n",
    "fig2.show()\n"
   ]
  },
  {
   "cell_type": "code",
   "execution_count": 7,
   "metadata": {},
   "outputs": [
    {
     "data": {
      "text/plain": [
       "count     334.000000\n",
       "mean     2021.892216\n",
       "std         0.998677\n",
       "min      2020.000000\n",
       "25%      2021.000000\n",
       "50%      2022.000000\n",
       "75%      2023.000000\n",
       "max      2023.000000\n",
       "Name: startYear, dtype: float64"
      ]
     },
     "execution_count": 7,
     "metadata": {},
     "output_type": "execute_result"
    }
   ],
   "source": [
    "resolved_data['startYear'].describe()"
   ]
  },
  {
   "cell_type": "code",
   "execution_count": 8,
   "metadata": {},
   "outputs": [
    {
     "data": {
      "text/plain": [
       "tconst                   object\n",
       "Title                    object\n",
       "numVotes                  int64\n",
       "startYear                 int64\n",
       "Media                    object\n",
       "averageRating           float64\n",
       "Episode                   int64\n",
       "imgCount                float64\n",
       "year             string[python]\n",
       "dtype: object"
      ]
     },
     "metadata": {},
     "output_type": "display_data"
    }
   ],
   "source": [
    "display(resolved_data.dtypes)"
   ]
  },
  {
   "cell_type": "code",
   "execution_count": 9,
   "metadata": {},
   "outputs": [
    {
     "data": {
      "application/vnd.plotly.v1+json": {
       "config": {
        "plotlyServerURL": "https://plot.ly"
       },
       "data": [
        {
         "alignmentgroup": "True",
         "bingroup": "x",
         "hovertemplate": "year=%{x}<br>count=%{y}<extra></extra>",
         "legendgroup": "",
         "marker": {
          "color": "#636efa",
          "pattern": {
           "shape": ""
          }
         },
         "name": "",
         "offsetgroup": "",
         "orientation": "v",
         "showlegend": false,
         "type": "histogram",
         "x": [
          "2020",
          "2021",
          "2023",
          "2022",
          "2023",
          "2022",
          "2020",
          "2020",
          "2021",
          "2021",
          "2021",
          "2021",
          "2022",
          "2021",
          "2020",
          "2021",
          "2021",
          "2023",
          "2022",
          "2021",
          "2021",
          "2021",
          "2021",
          "2020",
          "2020",
          "2022",
          "2021",
          "2021",
          "2021",
          "2021",
          "2022",
          "2022",
          "2022",
          "2022",
          "2021",
          "2022",
          "2021",
          "2022",
          "2023",
          "2022",
          "2022",
          "2021",
          "2023",
          "2022",
          "2022",
          "2022",
          "2021",
          "2021",
          "2021",
          "2021",
          "2021",
          "2021",
          "2021",
          "2022",
          "2020",
          "2021",
          "2021",
          "2021",
          "2022",
          "2023",
          "2022",
          "2023",
          "2021",
          "2023",
          "2023",
          "2021",
          "2022",
          "2022",
          "2022",
          "2022",
          "2023",
          "2021",
          "2020",
          "2021",
          "2022",
          "2022",
          "2020",
          "2022",
          "2021",
          "2022",
          "2022",
          "2021",
          "2023",
          "2022",
          "2022",
          "2023",
          "2023",
          "2021",
          "2021",
          "2023",
          "2022",
          "2023",
          "2022",
          "2022",
          "2023",
          "2022",
          "2022",
          "2020",
          "2023",
          "2022",
          "2021",
          "2023",
          "2022",
          "2022",
          "2022",
          "2023",
          "2021",
          "2022",
          "2023",
          "2021",
          "2021",
          "2022",
          "2021",
          "2023",
          "2022",
          "2022",
          "2023",
          "2023",
          "2023",
          "2023",
          "2021",
          "2022",
          "2022",
          "2022",
          "2023",
          "2023",
          "2023",
          "2022",
          "2022",
          "2022",
          "2022",
          "2022",
          "2022",
          "2022",
          "2022",
          "2021",
          "2022",
          "2021",
          "2022",
          "2022",
          "2021",
          "2022",
          "2022",
          "2022",
          "2023",
          "2023",
          "2022",
          "2022",
          "2023",
          "2021",
          "2022",
          "2021",
          "2023",
          "2022",
          "2022",
          "2023",
          "2023",
          "2023",
          "2022",
          "2022",
          "2023",
          "2023",
          "2023",
          "2022",
          "2022",
          "2023",
          "2022",
          "2022",
          "2022",
          "2023",
          "2022",
          "2023",
          "2023",
          "2023",
          "2021",
          "2023",
          "2023",
          "2022",
          "2023",
          "2023",
          "2022",
          "2022",
          "2023",
          "2023",
          "2023",
          "2022",
          "2022",
          "2022",
          "2023",
          "2023",
          "2022",
          "2023",
          "2023",
          "2023",
          "2023",
          "2023",
          "2022",
          "2022",
          "2022",
          "2023",
          "2023",
          "2023",
          "2022",
          "2023",
          "2023",
          "2023",
          "2023",
          "2022",
          "2023",
          "2023",
          "2023",
          "2022",
          "2023",
          "2023",
          "2023",
          "2022",
          "2021",
          "2023",
          "2023",
          "2023",
          "2023",
          "2023",
          "2023",
          "2023",
          "2023",
          "2023",
          "2023",
          "2022",
          "2023",
          "2022",
          "2023",
          "2023",
          "2023",
          "2023",
          "2020",
          "2023",
          "2022",
          "2023",
          "2023",
          "2023",
          "2022",
          "2021",
          "2023",
          "2023",
          "2023",
          "2023",
          "2023",
          "2023",
          "2023",
          "2020",
          "2021",
          "2021",
          "2022",
          "2022",
          "2021",
          "2022",
          "2023",
          "2021",
          "2022",
          "2022",
          "2023",
          "2021",
          "2023",
          "2020",
          "2022",
          "2023",
          "2023",
          "2020",
          "2021",
          "2023",
          "2020",
          "2022",
          "2021",
          "2022",
          "2021",
          "2023",
          "2022",
          "2023",
          "2020",
          "2020",
          "2022",
          "2022",
          "2020",
          "2023",
          "2021",
          "2022",
          "2021",
          "2020",
          "2023",
          "2020",
          "2021",
          "2022",
          "2022",
          "2020",
          "2020",
          "2021",
          "2020",
          "2023",
          "2020",
          "2020",
          "2023",
          "2020",
          "2021",
          "2022",
          "2021",
          "2020",
          "2020",
          "2022",
          "2021",
          "2020",
          "2020",
          "2022",
          "2023",
          "2020",
          "2023",
          "2022",
          "2021",
          "2020",
          "2020",
          "2021",
          "2021",
          "2022",
          "2023",
          "2020",
          "2023",
          "2020",
          "2020",
          "2020",
          "2022",
          "2021",
          "2021",
          "2021",
          "2022",
          "2020"
         ],
         "xaxis": "x",
         "yaxis": "y"
        }
       ],
       "layout": {
        "barmode": "relative",
        "legend": {
         "tracegroupgap": 0
        },
        "margin": {
         "t": 60
        },
        "template": {
         "data": {
          "bar": [
           {
            "error_x": {
             "color": "#2a3f5f"
            },
            "error_y": {
             "color": "#2a3f5f"
            },
            "marker": {
             "line": {
              "color": "#E5ECF6",
              "width": 0.5
             },
             "pattern": {
              "fillmode": "overlay",
              "size": 10,
              "solidity": 0.2
             }
            },
            "type": "bar"
           }
          ],
          "barpolar": [
           {
            "marker": {
             "line": {
              "color": "#E5ECF6",
              "width": 0.5
             },
             "pattern": {
              "fillmode": "overlay",
              "size": 10,
              "solidity": 0.2
             }
            },
            "type": "barpolar"
           }
          ],
          "carpet": [
           {
            "aaxis": {
             "endlinecolor": "#2a3f5f",
             "gridcolor": "white",
             "linecolor": "white",
             "minorgridcolor": "white",
             "startlinecolor": "#2a3f5f"
            },
            "baxis": {
             "endlinecolor": "#2a3f5f",
             "gridcolor": "white",
             "linecolor": "white",
             "minorgridcolor": "white",
             "startlinecolor": "#2a3f5f"
            },
            "type": "carpet"
           }
          ],
          "choropleth": [
           {
            "colorbar": {
             "outlinewidth": 0,
             "ticks": ""
            },
            "type": "choropleth"
           }
          ],
          "contour": [
           {
            "colorbar": {
             "outlinewidth": 0,
             "ticks": ""
            },
            "colorscale": [
             [
              0,
              "#0d0887"
             ],
             [
              0.1111111111111111,
              "#46039f"
             ],
             [
              0.2222222222222222,
              "#7201a8"
             ],
             [
              0.3333333333333333,
              "#9c179e"
             ],
             [
              0.4444444444444444,
              "#bd3786"
             ],
             [
              0.5555555555555556,
              "#d8576b"
             ],
             [
              0.6666666666666666,
              "#ed7953"
             ],
             [
              0.7777777777777778,
              "#fb9f3a"
             ],
             [
              0.8888888888888888,
              "#fdca26"
             ],
             [
              1,
              "#f0f921"
             ]
            ],
            "type": "contour"
           }
          ],
          "contourcarpet": [
           {
            "colorbar": {
             "outlinewidth": 0,
             "ticks": ""
            },
            "type": "contourcarpet"
           }
          ],
          "heatmap": [
           {
            "colorbar": {
             "outlinewidth": 0,
             "ticks": ""
            },
            "colorscale": [
             [
              0,
              "#0d0887"
             ],
             [
              0.1111111111111111,
              "#46039f"
             ],
             [
              0.2222222222222222,
              "#7201a8"
             ],
             [
              0.3333333333333333,
              "#9c179e"
             ],
             [
              0.4444444444444444,
              "#bd3786"
             ],
             [
              0.5555555555555556,
              "#d8576b"
             ],
             [
              0.6666666666666666,
              "#ed7953"
             ],
             [
              0.7777777777777778,
              "#fb9f3a"
             ],
             [
              0.8888888888888888,
              "#fdca26"
             ],
             [
              1,
              "#f0f921"
             ]
            ],
            "type": "heatmap"
           }
          ],
          "heatmapgl": [
           {
            "colorbar": {
             "outlinewidth": 0,
             "ticks": ""
            },
            "colorscale": [
             [
              0,
              "#0d0887"
             ],
             [
              0.1111111111111111,
              "#46039f"
             ],
             [
              0.2222222222222222,
              "#7201a8"
             ],
             [
              0.3333333333333333,
              "#9c179e"
             ],
             [
              0.4444444444444444,
              "#bd3786"
             ],
             [
              0.5555555555555556,
              "#d8576b"
             ],
             [
              0.6666666666666666,
              "#ed7953"
             ],
             [
              0.7777777777777778,
              "#fb9f3a"
             ],
             [
              0.8888888888888888,
              "#fdca26"
             ],
             [
              1,
              "#f0f921"
             ]
            ],
            "type": "heatmapgl"
           }
          ],
          "histogram": [
           {
            "marker": {
             "pattern": {
              "fillmode": "overlay",
              "size": 10,
              "solidity": 0.2
             }
            },
            "type": "histogram"
           }
          ],
          "histogram2d": [
           {
            "colorbar": {
             "outlinewidth": 0,
             "ticks": ""
            },
            "colorscale": [
             [
              0,
              "#0d0887"
             ],
             [
              0.1111111111111111,
              "#46039f"
             ],
             [
              0.2222222222222222,
              "#7201a8"
             ],
             [
              0.3333333333333333,
              "#9c179e"
             ],
             [
              0.4444444444444444,
              "#bd3786"
             ],
             [
              0.5555555555555556,
              "#d8576b"
             ],
             [
              0.6666666666666666,
              "#ed7953"
             ],
             [
              0.7777777777777778,
              "#fb9f3a"
             ],
             [
              0.8888888888888888,
              "#fdca26"
             ],
             [
              1,
              "#f0f921"
             ]
            ],
            "type": "histogram2d"
           }
          ],
          "histogram2dcontour": [
           {
            "colorbar": {
             "outlinewidth": 0,
             "ticks": ""
            },
            "colorscale": [
             [
              0,
              "#0d0887"
             ],
             [
              0.1111111111111111,
              "#46039f"
             ],
             [
              0.2222222222222222,
              "#7201a8"
             ],
             [
              0.3333333333333333,
              "#9c179e"
             ],
             [
              0.4444444444444444,
              "#bd3786"
             ],
             [
              0.5555555555555556,
              "#d8576b"
             ],
             [
              0.6666666666666666,
              "#ed7953"
             ],
             [
              0.7777777777777778,
              "#fb9f3a"
             ],
             [
              0.8888888888888888,
              "#fdca26"
             ],
             [
              1,
              "#f0f921"
             ]
            ],
            "type": "histogram2dcontour"
           }
          ],
          "mesh3d": [
           {
            "colorbar": {
             "outlinewidth": 0,
             "ticks": ""
            },
            "type": "mesh3d"
           }
          ],
          "parcoords": [
           {
            "line": {
             "colorbar": {
              "outlinewidth": 0,
              "ticks": ""
             }
            },
            "type": "parcoords"
           }
          ],
          "pie": [
           {
            "automargin": true,
            "type": "pie"
           }
          ],
          "scatter": [
           {
            "fillpattern": {
             "fillmode": "overlay",
             "size": 10,
             "solidity": 0.2
            },
            "type": "scatter"
           }
          ],
          "scatter3d": [
           {
            "line": {
             "colorbar": {
              "outlinewidth": 0,
              "ticks": ""
             }
            },
            "marker": {
             "colorbar": {
              "outlinewidth": 0,
              "ticks": ""
             }
            },
            "type": "scatter3d"
           }
          ],
          "scattercarpet": [
           {
            "marker": {
             "colorbar": {
              "outlinewidth": 0,
              "ticks": ""
             }
            },
            "type": "scattercarpet"
           }
          ],
          "scattergeo": [
           {
            "marker": {
             "colorbar": {
              "outlinewidth": 0,
              "ticks": ""
             }
            },
            "type": "scattergeo"
           }
          ],
          "scattergl": [
           {
            "marker": {
             "colorbar": {
              "outlinewidth": 0,
              "ticks": ""
             }
            },
            "type": "scattergl"
           }
          ],
          "scattermapbox": [
           {
            "marker": {
             "colorbar": {
              "outlinewidth": 0,
              "ticks": ""
             }
            },
            "type": "scattermapbox"
           }
          ],
          "scatterpolar": [
           {
            "marker": {
             "colorbar": {
              "outlinewidth": 0,
              "ticks": ""
             }
            },
            "type": "scatterpolar"
           }
          ],
          "scatterpolargl": [
           {
            "marker": {
             "colorbar": {
              "outlinewidth": 0,
              "ticks": ""
             }
            },
            "type": "scatterpolargl"
           }
          ],
          "scatterternary": [
           {
            "marker": {
             "colorbar": {
              "outlinewidth": 0,
              "ticks": ""
             }
            },
            "type": "scatterternary"
           }
          ],
          "surface": [
           {
            "colorbar": {
             "outlinewidth": 0,
             "ticks": ""
            },
            "colorscale": [
             [
              0,
              "#0d0887"
             ],
             [
              0.1111111111111111,
              "#46039f"
             ],
             [
              0.2222222222222222,
              "#7201a8"
             ],
             [
              0.3333333333333333,
              "#9c179e"
             ],
             [
              0.4444444444444444,
              "#bd3786"
             ],
             [
              0.5555555555555556,
              "#d8576b"
             ],
             [
              0.6666666666666666,
              "#ed7953"
             ],
             [
              0.7777777777777778,
              "#fb9f3a"
             ],
             [
              0.8888888888888888,
              "#fdca26"
             ],
             [
              1,
              "#f0f921"
             ]
            ],
            "type": "surface"
           }
          ],
          "table": [
           {
            "cells": {
             "fill": {
              "color": "#EBF0F8"
             },
             "line": {
              "color": "white"
             }
            },
            "header": {
             "fill": {
              "color": "#C8D4E3"
             },
             "line": {
              "color": "white"
             }
            },
            "type": "table"
           }
          ]
         },
         "layout": {
          "annotationdefaults": {
           "arrowcolor": "#2a3f5f",
           "arrowhead": 0,
           "arrowwidth": 1
          },
          "autotypenumbers": "strict",
          "coloraxis": {
           "colorbar": {
            "outlinewidth": 0,
            "ticks": ""
           }
          },
          "colorscale": {
           "diverging": [
            [
             0,
             "#8e0152"
            ],
            [
             0.1,
             "#c51b7d"
            ],
            [
             0.2,
             "#de77ae"
            ],
            [
             0.3,
             "#f1b6da"
            ],
            [
             0.4,
             "#fde0ef"
            ],
            [
             0.5,
             "#f7f7f7"
            ],
            [
             0.6,
             "#e6f5d0"
            ],
            [
             0.7,
             "#b8e186"
            ],
            [
             0.8,
             "#7fbc41"
            ],
            [
             0.9,
             "#4d9221"
            ],
            [
             1,
             "#276419"
            ]
           ],
           "sequential": [
            [
             0,
             "#0d0887"
            ],
            [
             0.1111111111111111,
             "#46039f"
            ],
            [
             0.2222222222222222,
             "#7201a8"
            ],
            [
             0.3333333333333333,
             "#9c179e"
            ],
            [
             0.4444444444444444,
             "#bd3786"
            ],
            [
             0.5555555555555556,
             "#d8576b"
            ],
            [
             0.6666666666666666,
             "#ed7953"
            ],
            [
             0.7777777777777778,
             "#fb9f3a"
            ],
            [
             0.8888888888888888,
             "#fdca26"
            ],
            [
             1,
             "#f0f921"
            ]
           ],
           "sequentialminus": [
            [
             0,
             "#0d0887"
            ],
            [
             0.1111111111111111,
             "#46039f"
            ],
            [
             0.2222222222222222,
             "#7201a8"
            ],
            [
             0.3333333333333333,
             "#9c179e"
            ],
            [
             0.4444444444444444,
             "#bd3786"
            ],
            [
             0.5555555555555556,
             "#d8576b"
            ],
            [
             0.6666666666666666,
             "#ed7953"
            ],
            [
             0.7777777777777778,
             "#fb9f3a"
            ],
            [
             0.8888888888888888,
             "#fdca26"
            ],
            [
             1,
             "#f0f921"
            ]
           ]
          },
          "colorway": [
           "#636efa",
           "#EF553B",
           "#00cc96",
           "#ab63fa",
           "#FFA15A",
           "#19d3f3",
           "#FF6692",
           "#B6E880",
           "#FF97FF",
           "#FECB52"
          ],
          "font": {
           "color": "#2a3f5f"
          },
          "geo": {
           "bgcolor": "white",
           "lakecolor": "white",
           "landcolor": "#E5ECF6",
           "showlakes": true,
           "showland": true,
           "subunitcolor": "white"
          },
          "hoverlabel": {
           "align": "left"
          },
          "hovermode": "closest",
          "mapbox": {
           "style": "light"
          },
          "paper_bgcolor": "white",
          "plot_bgcolor": "#E5ECF6",
          "polar": {
           "angularaxis": {
            "gridcolor": "white",
            "linecolor": "white",
            "ticks": ""
           },
           "bgcolor": "#E5ECF6",
           "radialaxis": {
            "gridcolor": "white",
            "linecolor": "white",
            "ticks": ""
           }
          },
          "scene": {
           "xaxis": {
            "backgroundcolor": "#E5ECF6",
            "gridcolor": "white",
            "gridwidth": 2,
            "linecolor": "white",
            "showbackground": true,
            "ticks": "",
            "zerolinecolor": "white"
           },
           "yaxis": {
            "backgroundcolor": "#E5ECF6",
            "gridcolor": "white",
            "gridwidth": 2,
            "linecolor": "white",
            "showbackground": true,
            "ticks": "",
            "zerolinecolor": "white"
           },
           "zaxis": {
            "backgroundcolor": "#E5ECF6",
            "gridcolor": "white",
            "gridwidth": 2,
            "linecolor": "white",
            "showbackground": true,
            "ticks": "",
            "zerolinecolor": "white"
           }
          },
          "shapedefaults": {
           "line": {
            "color": "#2a3f5f"
           }
          },
          "ternary": {
           "aaxis": {
            "gridcolor": "white",
            "linecolor": "white",
            "ticks": ""
           },
           "baxis": {
            "gridcolor": "white",
            "linecolor": "white",
            "ticks": ""
           },
           "bgcolor": "#E5ECF6",
           "caxis": {
            "gridcolor": "white",
            "linecolor": "white",
            "ticks": ""
           }
          },
          "title": {
           "x": 0.05
          },
          "xaxis": {
           "automargin": true,
           "gridcolor": "white",
           "linecolor": "white",
           "ticks": "",
           "title": {
            "standoff": 15
           },
           "zerolinecolor": "white",
           "zerolinewidth": 2
          },
          "yaxis": {
           "automargin": true,
           "gridcolor": "white",
           "linecolor": "white",
           "ticks": "",
           "title": {
            "standoff": 15
           },
           "zerolinecolor": "white",
           "zerolinewidth": 2
          }
         }
        },
        "xaxis": {
         "anchor": "y",
         "categoryarray": [
          "2020",
          "2021",
          "2022",
          "2023"
         ],
         "categoryorder": "array",
         "domain": [
          0,
          1
         ],
         "title": {
          "text": "year"
         }
        },
        "yaxis": {
         "anchor": "x",
         "domain": [
          0,
          1
         ],
         "title": {
          "text": "count"
         }
        }
       }
      }
     },
     "metadata": {},
     "output_type": "display_data"
    }
   ],
   "source": [
    "fig4 = px.histogram(\n",
    "    resolved_data,\n",
    "    x='year',\n",
    "    category_orders={'year': resolved_data['year'].sort_values().unique()}\n",
    ")\n",
    "fig4.show()"
   ]
  },
  {
   "cell_type": "code",
   "execution_count": 30,
   "metadata": {},
   "outputs": [
    {
     "data": {
      "application/vnd.plotly.v1+json": {
       "config": {
        "plotlyServerURL": "https://plot.ly"
       },
       "data": [
        {
         "domain": {
          "x": [
           0,
           1
          ],
          "y": [
           0,
           1
          ]
         },
         "hovertemplate": "Device=%{label}<br>count=%{value}<extra></extra>",
         "labels": [
          "AirPods",
          "Apple Watch",
          "MacBook",
          "iMac",
          "iPad",
          "iPhone",
          "macOS"
         ],
         "legendgroup": "",
         "name": "",
         "showlegend": true,
         "type": "pie",
         "values": [
          35,
          227,
          1755,
          573,
          361,
          1289,
          12
         ]
        }
       ],
       "layout": {
        "legend": {
         "tracegroupgap": 0
        },
        "template": {
         "data": {
          "bar": [
           {
            "error_x": {
             "color": "#2a3f5f"
            },
            "error_y": {
             "color": "#2a3f5f"
            },
            "marker": {
             "line": {
              "color": "#E5ECF6",
              "width": 0.5
             },
             "pattern": {
              "fillmode": "overlay",
              "size": 10,
              "solidity": 0.2
             }
            },
            "type": "bar"
           }
          ],
          "barpolar": [
           {
            "marker": {
             "line": {
              "color": "#E5ECF6",
              "width": 0.5
             },
             "pattern": {
              "fillmode": "overlay",
              "size": 10,
              "solidity": 0.2
             }
            },
            "type": "barpolar"
           }
          ],
          "carpet": [
           {
            "aaxis": {
             "endlinecolor": "#2a3f5f",
             "gridcolor": "white",
             "linecolor": "white",
             "minorgridcolor": "white",
             "startlinecolor": "#2a3f5f"
            },
            "baxis": {
             "endlinecolor": "#2a3f5f",
             "gridcolor": "white",
             "linecolor": "white",
             "minorgridcolor": "white",
             "startlinecolor": "#2a3f5f"
            },
            "type": "carpet"
           }
          ],
          "choropleth": [
           {
            "colorbar": {
             "outlinewidth": 0,
             "ticks": ""
            },
            "type": "choropleth"
           }
          ],
          "contour": [
           {
            "colorbar": {
             "outlinewidth": 0,
             "ticks": ""
            },
            "colorscale": [
             [
              0,
              "#0d0887"
             ],
             [
              0.1111111111111111,
              "#46039f"
             ],
             [
              0.2222222222222222,
              "#7201a8"
             ],
             [
              0.3333333333333333,
              "#9c179e"
             ],
             [
              0.4444444444444444,
              "#bd3786"
             ],
             [
              0.5555555555555556,
              "#d8576b"
             ],
             [
              0.6666666666666666,
              "#ed7953"
             ],
             [
              0.7777777777777778,
              "#fb9f3a"
             ],
             [
              0.8888888888888888,
              "#fdca26"
             ],
             [
              1,
              "#f0f921"
             ]
            ],
            "type": "contour"
           }
          ],
          "contourcarpet": [
           {
            "colorbar": {
             "outlinewidth": 0,
             "ticks": ""
            },
            "type": "contourcarpet"
           }
          ],
          "heatmap": [
           {
            "colorbar": {
             "outlinewidth": 0,
             "ticks": ""
            },
            "colorscale": [
             [
              0,
              "#0d0887"
             ],
             [
              0.1111111111111111,
              "#46039f"
             ],
             [
              0.2222222222222222,
              "#7201a8"
             ],
             [
              0.3333333333333333,
              "#9c179e"
             ],
             [
              0.4444444444444444,
              "#bd3786"
             ],
             [
              0.5555555555555556,
              "#d8576b"
             ],
             [
              0.6666666666666666,
              "#ed7953"
             ],
             [
              0.7777777777777778,
              "#fb9f3a"
             ],
             [
              0.8888888888888888,
              "#fdca26"
             ],
             [
              1,
              "#f0f921"
             ]
            ],
            "type": "heatmap"
           }
          ],
          "heatmapgl": [
           {
            "colorbar": {
             "outlinewidth": 0,
             "ticks": ""
            },
            "colorscale": [
             [
              0,
              "#0d0887"
             ],
             [
              0.1111111111111111,
              "#46039f"
             ],
             [
              0.2222222222222222,
              "#7201a8"
             ],
             [
              0.3333333333333333,
              "#9c179e"
             ],
             [
              0.4444444444444444,
              "#bd3786"
             ],
             [
              0.5555555555555556,
              "#d8576b"
             ],
             [
              0.6666666666666666,
              "#ed7953"
             ],
             [
              0.7777777777777778,
              "#fb9f3a"
             ],
             [
              0.8888888888888888,
              "#fdca26"
             ],
             [
              1,
              "#f0f921"
             ]
            ],
            "type": "heatmapgl"
           }
          ],
          "histogram": [
           {
            "marker": {
             "pattern": {
              "fillmode": "overlay",
              "size": 10,
              "solidity": 0.2
             }
            },
            "type": "histogram"
           }
          ],
          "histogram2d": [
           {
            "colorbar": {
             "outlinewidth": 0,
             "ticks": ""
            },
            "colorscale": [
             [
              0,
              "#0d0887"
             ],
             [
              0.1111111111111111,
              "#46039f"
             ],
             [
              0.2222222222222222,
              "#7201a8"
             ],
             [
              0.3333333333333333,
              "#9c179e"
             ],
             [
              0.4444444444444444,
              "#bd3786"
             ],
             [
              0.5555555555555556,
              "#d8576b"
             ],
             [
              0.6666666666666666,
              "#ed7953"
             ],
             [
              0.7777777777777778,
              "#fb9f3a"
             ],
             [
              0.8888888888888888,
              "#fdca26"
             ],
             [
              1,
              "#f0f921"
             ]
            ],
            "type": "histogram2d"
           }
          ],
          "histogram2dcontour": [
           {
            "colorbar": {
             "outlinewidth": 0,
             "ticks": ""
            },
            "colorscale": [
             [
              0,
              "#0d0887"
             ],
             [
              0.1111111111111111,
              "#46039f"
             ],
             [
              0.2222222222222222,
              "#7201a8"
             ],
             [
              0.3333333333333333,
              "#9c179e"
             ],
             [
              0.4444444444444444,
              "#bd3786"
             ],
             [
              0.5555555555555556,
              "#d8576b"
             ],
             [
              0.6666666666666666,
              "#ed7953"
             ],
             [
              0.7777777777777778,
              "#fb9f3a"
             ],
             [
              0.8888888888888888,
              "#fdca26"
             ],
             [
              1,
              "#f0f921"
             ]
            ],
            "type": "histogram2dcontour"
           }
          ],
          "mesh3d": [
           {
            "colorbar": {
             "outlinewidth": 0,
             "ticks": ""
            },
            "type": "mesh3d"
           }
          ],
          "parcoords": [
           {
            "line": {
             "colorbar": {
              "outlinewidth": 0,
              "ticks": ""
             }
            },
            "type": "parcoords"
           }
          ],
          "pie": [
           {
            "automargin": true,
            "type": "pie"
           }
          ],
          "scatter": [
           {
            "fillpattern": {
             "fillmode": "overlay",
             "size": 10,
             "solidity": 0.2
            },
            "type": "scatter"
           }
          ],
          "scatter3d": [
           {
            "line": {
             "colorbar": {
              "outlinewidth": 0,
              "ticks": ""
             }
            },
            "marker": {
             "colorbar": {
              "outlinewidth": 0,
              "ticks": ""
             }
            },
            "type": "scatter3d"
           }
          ],
          "scattercarpet": [
           {
            "marker": {
             "colorbar": {
              "outlinewidth": 0,
              "ticks": ""
             }
            },
            "type": "scattercarpet"
           }
          ],
          "scattergeo": [
           {
            "marker": {
             "colorbar": {
              "outlinewidth": 0,
              "ticks": ""
             }
            },
            "type": "scattergeo"
           }
          ],
          "scattergl": [
           {
            "marker": {
             "colorbar": {
              "outlinewidth": 0,
              "ticks": ""
             }
            },
            "type": "scattergl"
           }
          ],
          "scattermapbox": [
           {
            "marker": {
             "colorbar": {
              "outlinewidth": 0,
              "ticks": ""
             }
            },
            "type": "scattermapbox"
           }
          ],
          "scatterpolar": [
           {
            "marker": {
             "colorbar": {
              "outlinewidth": 0,
              "ticks": ""
             }
            },
            "type": "scatterpolar"
           }
          ],
          "scatterpolargl": [
           {
            "marker": {
             "colorbar": {
              "outlinewidth": 0,
              "ticks": ""
             }
            },
            "type": "scatterpolargl"
           }
          ],
          "scatterternary": [
           {
            "marker": {
             "colorbar": {
              "outlinewidth": 0,
              "ticks": ""
             }
            },
            "type": "scatterternary"
           }
          ],
          "surface": [
           {
            "colorbar": {
             "outlinewidth": 0,
             "ticks": ""
            },
            "colorscale": [
             [
              0,
              "#0d0887"
             ],
             [
              0.1111111111111111,
              "#46039f"
             ],
             [
              0.2222222222222222,
              "#7201a8"
             ],
             [
              0.3333333333333333,
              "#9c179e"
             ],
             [
              0.4444444444444444,
              "#bd3786"
             ],
             [
              0.5555555555555556,
              "#d8576b"
             ],
             [
              0.6666666666666666,
              "#ed7953"
             ],
             [
              0.7777777777777778,
              "#fb9f3a"
             ],
             [
              0.8888888888888888,
              "#fdca26"
             ],
             [
              1,
              "#f0f921"
             ]
            ],
            "type": "surface"
           }
          ],
          "table": [
           {
            "cells": {
             "fill": {
              "color": "#EBF0F8"
             },
             "line": {
              "color": "white"
             }
            },
            "header": {
             "fill": {
              "color": "#C8D4E3"
             },
             "line": {
              "color": "white"
             }
            },
            "type": "table"
           }
          ]
         },
         "layout": {
          "annotationdefaults": {
           "arrowcolor": "#2a3f5f",
           "arrowhead": 0,
           "arrowwidth": 1
          },
          "autotypenumbers": "strict",
          "coloraxis": {
           "colorbar": {
            "outlinewidth": 0,
            "ticks": ""
           }
          },
          "colorscale": {
           "diverging": [
            [
             0,
             "#8e0152"
            ],
            [
             0.1,
             "#c51b7d"
            ],
            [
             0.2,
             "#de77ae"
            ],
            [
             0.3,
             "#f1b6da"
            ],
            [
             0.4,
             "#fde0ef"
            ],
            [
             0.5,
             "#f7f7f7"
            ],
            [
             0.6,
             "#e6f5d0"
            ],
            [
             0.7,
             "#b8e186"
            ],
            [
             0.8,
             "#7fbc41"
            ],
            [
             0.9,
             "#4d9221"
            ],
            [
             1,
             "#276419"
            ]
           ],
           "sequential": [
            [
             0,
             "#0d0887"
            ],
            [
             0.1111111111111111,
             "#46039f"
            ],
            [
             0.2222222222222222,
             "#7201a8"
            ],
            [
             0.3333333333333333,
             "#9c179e"
            ],
            [
             0.4444444444444444,
             "#bd3786"
            ],
            [
             0.5555555555555556,
             "#d8576b"
            ],
            [
             0.6666666666666666,
             "#ed7953"
            ],
            [
             0.7777777777777778,
             "#fb9f3a"
            ],
            [
             0.8888888888888888,
             "#fdca26"
            ],
            [
             1,
             "#f0f921"
            ]
           ],
           "sequentialminus": [
            [
             0,
             "#0d0887"
            ],
            [
             0.1111111111111111,
             "#46039f"
            ],
            [
             0.2222222222222222,
             "#7201a8"
            ],
            [
             0.3333333333333333,
             "#9c179e"
            ],
            [
             0.4444444444444444,
             "#bd3786"
            ],
            [
             0.5555555555555556,
             "#d8576b"
            ],
            [
             0.6666666666666666,
             "#ed7953"
            ],
            [
             0.7777777777777778,
             "#fb9f3a"
            ],
            [
             0.8888888888888888,
             "#fdca26"
            ],
            [
             1,
             "#f0f921"
            ]
           ]
          },
          "colorway": [
           "#636efa",
           "#EF553B",
           "#00cc96",
           "#ab63fa",
           "#FFA15A",
           "#19d3f3",
           "#FF6692",
           "#B6E880",
           "#FF97FF",
           "#FECB52"
          ],
          "font": {
           "color": "#2a3f5f"
          },
          "geo": {
           "bgcolor": "white",
           "lakecolor": "white",
           "landcolor": "#E5ECF6",
           "showlakes": true,
           "showland": true,
           "subunitcolor": "white"
          },
          "hoverlabel": {
           "align": "left"
          },
          "hovermode": "closest",
          "mapbox": {
           "style": "light"
          },
          "paper_bgcolor": "white",
          "plot_bgcolor": "#E5ECF6",
          "polar": {
           "angularaxis": {
            "gridcolor": "white",
            "linecolor": "white",
            "ticks": ""
           },
           "bgcolor": "#E5ECF6",
           "radialaxis": {
            "gridcolor": "white",
            "linecolor": "white",
            "ticks": ""
           }
          },
          "scene": {
           "xaxis": {
            "backgroundcolor": "#E5ECF6",
            "gridcolor": "white",
            "gridwidth": 2,
            "linecolor": "white",
            "showbackground": true,
            "ticks": "",
            "zerolinecolor": "white"
           },
           "yaxis": {
            "backgroundcolor": "#E5ECF6",
            "gridcolor": "white",
            "gridwidth": 2,
            "linecolor": "white",
            "showbackground": true,
            "ticks": "",
            "zerolinecolor": "white"
           },
           "zaxis": {
            "backgroundcolor": "#E5ECF6",
            "gridcolor": "white",
            "gridwidth": 2,
            "linecolor": "white",
            "showbackground": true,
            "ticks": "",
            "zerolinecolor": "white"
           }
          },
          "shapedefaults": {
           "line": {
            "color": "#2a3f5f"
           }
          },
          "ternary": {
           "aaxis": {
            "gridcolor": "white",
            "linecolor": "white",
            "ticks": ""
           },
           "baxis": {
            "gridcolor": "white",
            "linecolor": "white",
            "ticks": ""
           },
           "bgcolor": "#E5ECF6",
           "caxis": {
            "gridcolor": "white",
            "linecolor": "white",
            "ticks": ""
           }
          },
          "title": {
           "x": 0.05
          },
          "xaxis": {
           "automargin": true,
           "gridcolor": "white",
           "linecolor": "white",
           "ticks": "",
           "title": {
            "standoff": 15
           },
           "zerolinecolor": "white",
           "zerolinewidth": 2
          },
          "yaxis": {
           "automargin": true,
           "gridcolor": "white",
           "linecolor": "white",
           "ticks": "",
           "title": {
            "standoff": 15
           },
           "zerolinecolor": "white",
           "zerolinewidth": 2
          }
         }
        },
        "title": {
         "text": "Apple Products Placed in Titles, Grouped by Device"
        }
       }
      }
     },
     "metadata": {},
     "output_type": "display_data"
    }
   ],
   "source": [
    "fig5 = px.pie(\n",
    "    df.groupby(['Device'])['Device'].count().reset_index(name='count'),\n",
    "    values='count',\n",
    "    names='Device',\n",
    "    title='Apple Products Placed in Titles, Grouped by Device'\n",
    ")\n",
    "fig5.show()"
   ]
  },
  {
   "cell_type": "code",
   "execution_count": 11,
   "metadata": {},
   "outputs": [
    {
     "data": {
      "text/html": [
       "<div>\n",
       "<style scoped>\n",
       "    .dataframe tbody tr th:only-of-type {\n",
       "        vertical-align: middle;\n",
       "    }\n",
       "\n",
       "    .dataframe tbody tr th {\n",
       "        vertical-align: top;\n",
       "    }\n",
       "\n",
       "    .dataframe thead th {\n",
       "        text-align: right;\n",
       "    }\n",
       "</style>\n",
       "<table border=\"1\" class=\"dataframe\">\n",
       "  <thead>\n",
       "    <tr style=\"text-align: right;\">\n",
       "      <th></th>\n",
       "      <th>Device</th>\n",
       "      <th>count</th>\n",
       "    </tr>\n",
       "  </thead>\n",
       "  <tbody>\n",
       "    <tr>\n",
       "      <th>0</th>\n",
       "      <td>AirPods</td>\n",
       "      <td>35</td>\n",
       "    </tr>\n",
       "    <tr>\n",
       "      <th>1</th>\n",
       "      <td>Apple Watch</td>\n",
       "      <td>227</td>\n",
       "    </tr>\n",
       "    <tr>\n",
       "      <th>2</th>\n",
       "      <td>MacBook</td>\n",
       "      <td>1755</td>\n",
       "    </tr>\n",
       "    <tr>\n",
       "      <th>3</th>\n",
       "      <td>iMac</td>\n",
       "      <td>573</td>\n",
       "    </tr>\n",
       "    <tr>\n",
       "      <th>4</th>\n",
       "      <td>iPad</td>\n",
       "      <td>361</td>\n",
       "    </tr>\n",
       "  </tbody>\n",
       "</table>\n",
       "</div>"
      ],
      "text/plain": [
       "        Device  count\n",
       "0      AirPods     35\n",
       "1  Apple Watch    227\n",
       "2      MacBook   1755\n",
       "3         iMac    573\n",
       "4         iPad    361"
      ]
     },
     "execution_count": 11,
     "metadata": {},
     "output_type": "execute_result"
    }
   ],
   "source": [
    "df2 = df.groupby(['Device'])['Device'].count().reset_index(name='count')\n",
    "df2.head()"
   ]
  },
  {
   "cell_type": "code",
   "execution_count": 12,
   "metadata": {},
   "outputs": [],
   "source": [
    "same_cols2 = ['startYear','Device']\n",
    "agg_dict2 = {\n",
    "    'imgCount':'count', # add radio button to swap this b/w count, mean, sum\n",
    "    'averageRating':'mean' \n",
    "}#\n",
    "resolved_data2 = df.drop(columns=['tconst','Title','numVotes','Media','Season','Episode'])\n",
    "resolved_data2 = df.groupby(same_cols2).agg(agg_dict2).reset_index()\n"
   ]
  },
  {
   "cell_type": "code",
   "execution_count": 13,
   "metadata": {},
   "outputs": [
    {
     "data": {
      "text/html": [
       "<div>\n",
       "<style scoped>\n",
       "    .dataframe tbody tr th:only-of-type {\n",
       "        vertical-align: middle;\n",
       "    }\n",
       "\n",
       "    .dataframe tbody tr th {\n",
       "        vertical-align: top;\n",
       "    }\n",
       "\n",
       "    .dataframe thead th {\n",
       "        text-align: right;\n",
       "    }\n",
       "</style>\n",
       "<table border=\"1\" class=\"dataframe\">\n",
       "  <thead>\n",
       "    <tr style=\"text-align: right;\">\n",
       "      <th></th>\n",
       "      <th>startYear</th>\n",
       "      <th>Device</th>\n",
       "      <th>imgCount</th>\n",
       "      <th>averageRating</th>\n",
       "    </tr>\n",
       "  </thead>\n",
       "  <tbody>\n",
       "    <tr>\n",
       "      <th>0</th>\n",
       "      <td>2001</td>\n",
       "      <td>MacBook</td>\n",
       "      <td>1</td>\n",
       "      <td>6.200000</td>\n",
       "    </tr>\n",
       "    <tr>\n",
       "      <th>1</th>\n",
       "      <td>2003</td>\n",
       "      <td>iMac</td>\n",
       "      <td>1</td>\n",
       "      <td>7.200000</td>\n",
       "    </tr>\n",
       "    <tr>\n",
       "      <th>2</th>\n",
       "      <td>2003</td>\n",
       "      <td>iPad</td>\n",
       "      <td>1</td>\n",
       "      <td>7.800000</td>\n",
       "    </tr>\n",
       "    <tr>\n",
       "      <th>3</th>\n",
       "      <td>2003</td>\n",
       "      <td>iPhone</td>\n",
       "      <td>5</td>\n",
       "      <td>7.920000</td>\n",
       "    </tr>\n",
       "    <tr>\n",
       "      <th>4</th>\n",
       "      <td>2005</td>\n",
       "      <td>iMac</td>\n",
       "      <td>1</td>\n",
       "      <td>7.200000</td>\n",
       "    </tr>\n",
       "    <tr>\n",
       "      <th>5</th>\n",
       "      <td>2005</td>\n",
       "      <td>iPad</td>\n",
       "      <td>4</td>\n",
       "      <td>7.200000</td>\n",
       "    </tr>\n",
       "    <tr>\n",
       "      <th>6</th>\n",
       "      <td>2005</td>\n",
       "      <td>iPhone</td>\n",
       "      <td>3</td>\n",
       "      <td>7.466667</td>\n",
       "    </tr>\n",
       "    <tr>\n",
       "      <th>7</th>\n",
       "      <td>2006</td>\n",
       "      <td>MacBook</td>\n",
       "      <td>3</td>\n",
       "      <td>6.000000</td>\n",
       "    </tr>\n",
       "    <tr>\n",
       "      <th>8</th>\n",
       "      <td>2006</td>\n",
       "      <td>iMac</td>\n",
       "      <td>1</td>\n",
       "      <td>5.000000</td>\n",
       "    </tr>\n",
       "    <tr>\n",
       "      <th>9</th>\n",
       "      <td>2006</td>\n",
       "      <td>iPhone</td>\n",
       "      <td>3</td>\n",
       "      <td>6.133333</td>\n",
       "    </tr>\n",
       "    <tr>\n",
       "      <th>10</th>\n",
       "      <td>2007</td>\n",
       "      <td>MacBook</td>\n",
       "      <td>11</td>\n",
       "      <td>7.436364</td>\n",
       "    </tr>\n",
       "    <tr>\n",
       "      <th>11</th>\n",
       "      <td>2007</td>\n",
       "      <td>iMac</td>\n",
       "      <td>3</td>\n",
       "      <td>7.500000</td>\n",
       "    </tr>\n",
       "    <tr>\n",
       "      <th>12</th>\n",
       "      <td>2007</td>\n",
       "      <td>iPad</td>\n",
       "      <td>6</td>\n",
       "      <td>7.500000</td>\n",
       "    </tr>\n",
       "    <tr>\n",
       "      <th>13</th>\n",
       "      <td>2007</td>\n",
       "      <td>iPhone</td>\n",
       "      <td>22</td>\n",
       "      <td>7.500000</td>\n",
       "    </tr>\n",
       "    <tr>\n",
       "      <th>14</th>\n",
       "      <td>2008</td>\n",
       "      <td>MacBook</td>\n",
       "      <td>2</td>\n",
       "      <td>6.200000</td>\n",
       "    </tr>\n",
       "    <tr>\n",
       "      <th>15</th>\n",
       "      <td>2009</td>\n",
       "      <td>Apple Watch</td>\n",
       "      <td>3</td>\n",
       "      <td>7.733333</td>\n",
       "    </tr>\n",
       "    <tr>\n",
       "      <th>16</th>\n",
       "      <td>2009</td>\n",
       "      <td>MacBook</td>\n",
       "      <td>2</td>\n",
       "      <td>6.100000</td>\n",
       "    </tr>\n",
       "    <tr>\n",
       "      <th>17</th>\n",
       "      <td>2009</td>\n",
       "      <td>iMac</td>\n",
       "      <td>1</td>\n",
       "      <td>8.200000</td>\n",
       "    </tr>\n",
       "    <tr>\n",
       "      <th>18</th>\n",
       "      <td>2009</td>\n",
       "      <td>iPad</td>\n",
       "      <td>2</td>\n",
       "      <td>8.200000</td>\n",
       "    </tr>\n",
       "    <tr>\n",
       "      <th>19</th>\n",
       "      <td>2009</td>\n",
       "      <td>iPhone</td>\n",
       "      <td>4</td>\n",
       "      <td>7.850000</td>\n",
       "    </tr>\n",
       "    <tr>\n",
       "      <th>20</th>\n",
       "      <td>2011</td>\n",
       "      <td>Apple Watch</td>\n",
       "      <td>1</td>\n",
       "      <td>8.000000</td>\n",
       "    </tr>\n",
       "    <tr>\n",
       "      <th>21</th>\n",
       "      <td>2011</td>\n",
       "      <td>MacBook</td>\n",
       "      <td>6</td>\n",
       "      <td>8.116667</td>\n",
       "    </tr>\n",
       "    <tr>\n",
       "      <th>22</th>\n",
       "      <td>2011</td>\n",
       "      <td>iMac</td>\n",
       "      <td>1</td>\n",
       "      <td>4.900000</td>\n",
       "    </tr>\n",
       "    <tr>\n",
       "      <th>23</th>\n",
       "      <td>2011</td>\n",
       "      <td>iPad</td>\n",
       "      <td>3</td>\n",
       "      <td>8.166667</td>\n",
       "    </tr>\n",
       "    <tr>\n",
       "      <th>24</th>\n",
       "      <td>2011</td>\n",
       "      <td>iPhone</td>\n",
       "      <td>11</td>\n",
       "      <td>8.063636</td>\n",
       "    </tr>\n",
       "    <tr>\n",
       "      <th>25</th>\n",
       "      <td>2012</td>\n",
       "      <td>MacBook</td>\n",
       "      <td>19</td>\n",
       "      <td>7.663158</td>\n",
       "    </tr>\n",
       "    <tr>\n",
       "      <th>26</th>\n",
       "      <td>2012</td>\n",
       "      <td>iMac</td>\n",
       "      <td>12</td>\n",
       "      <td>7.791667</td>\n",
       "    </tr>\n",
       "    <tr>\n",
       "      <th>27</th>\n",
       "      <td>2012</td>\n",
       "      <td>iPad</td>\n",
       "      <td>2</td>\n",
       "      <td>7.100000</td>\n",
       "    </tr>\n",
       "    <tr>\n",
       "      <th>28</th>\n",
       "      <td>2012</td>\n",
       "      <td>iPhone</td>\n",
       "      <td>7</td>\n",
       "      <td>7.171429</td>\n",
       "    </tr>\n",
       "    <tr>\n",
       "      <th>29</th>\n",
       "      <td>2013</td>\n",
       "      <td>MacBook</td>\n",
       "      <td>41</td>\n",
       "      <td>8.014634</td>\n",
       "    </tr>\n",
       "  </tbody>\n",
       "</table>\n",
       "</div>"
      ],
      "text/plain": [
       "    startYear       Device  imgCount  averageRating\n",
       "0        2001      MacBook         1       6.200000\n",
       "1        2003         iMac         1       7.200000\n",
       "2        2003         iPad         1       7.800000\n",
       "3        2003       iPhone         5       7.920000\n",
       "4        2005         iMac         1       7.200000\n",
       "5        2005         iPad         4       7.200000\n",
       "6        2005       iPhone         3       7.466667\n",
       "7        2006      MacBook         3       6.000000\n",
       "8        2006         iMac         1       5.000000\n",
       "9        2006       iPhone         3       6.133333\n",
       "10       2007      MacBook        11       7.436364\n",
       "11       2007         iMac         3       7.500000\n",
       "12       2007         iPad         6       7.500000\n",
       "13       2007       iPhone        22       7.500000\n",
       "14       2008      MacBook         2       6.200000\n",
       "15       2009  Apple Watch         3       7.733333\n",
       "16       2009      MacBook         2       6.100000\n",
       "17       2009         iMac         1       8.200000\n",
       "18       2009         iPad         2       8.200000\n",
       "19       2009       iPhone         4       7.850000\n",
       "20       2011  Apple Watch         1       8.000000\n",
       "21       2011      MacBook         6       8.116667\n",
       "22       2011         iMac         1       4.900000\n",
       "23       2011         iPad         3       8.166667\n",
       "24       2011       iPhone        11       8.063636\n",
       "25       2012      MacBook        19       7.663158\n",
       "26       2012         iMac        12       7.791667\n",
       "27       2012         iPad         2       7.100000\n",
       "28       2012       iPhone         7       7.171429\n",
       "29       2013      MacBook        41       8.014634"
      ]
     },
     "execution_count": 13,
     "metadata": {},
     "output_type": "execute_result"
    }
   ],
   "source": [
    "resolved_data2.head(30)"
   ]
  },
  {
   "cell_type": "code",
   "execution_count": 14,
   "metadata": {},
   "outputs": [
    {
     "data": {
      "application/vnd.plotly.v1+json": {
       "config": {
        "plotlyServerURL": "https://plot.ly"
       },
       "data": [
        {
         "hovertemplate": "Device=MacBook<br>startYear=%{x}<br>imgCount=%{y}<extra></extra>",
         "legendgroup": "MacBook",
         "line": {
          "color": "#636efa",
          "dash": "solid"
         },
         "marker": {
          "symbol": "circle"
         },
         "mode": "lines+markers",
         "name": "MacBook",
         "orientation": "v",
         "showlegend": true,
         "type": "scatter",
         "x": [
          2001,
          2006,
          2007,
          2008,
          2009,
          2011,
          2012,
          2013,
          2014,
          2015,
          2016,
          2017,
          2018,
          2019,
          2020,
          2021,
          2022,
          2023
         ],
         "xaxis": "x",
         "y": [
          1,
          3,
          11,
          2,
          2,
          6,
          19,
          41,
          25,
          66,
          105,
          55,
          118,
          151,
          236,
          343,
          337,
          234
         ],
         "yaxis": "y"
        },
        {
         "hovertemplate": "Device=iMac<br>startYear=%{x}<br>imgCount=%{y}<extra></extra>",
         "legendgroup": "iMac",
         "line": {
          "color": "#EF553B",
          "dash": "solid"
         },
         "marker": {
          "symbol": "circle"
         },
         "mode": "lines+markers",
         "name": "iMac",
         "orientation": "v",
         "showlegend": true,
         "type": "scatter",
         "x": [
          2003,
          2005,
          2006,
          2007,
          2009,
          2011,
          2012,
          2013,
          2014,
          2015,
          2016,
          2017,
          2018,
          2019,
          2020,
          2021,
          2022,
          2023
         ],
         "xaxis": "x",
         "y": [
          1,
          1,
          1,
          3,
          1,
          1,
          12,
          4,
          7,
          66,
          25,
          13,
          26,
          41,
          57,
          91,
          132,
          91
         ],
         "yaxis": "y"
        },
        {
         "hovertemplate": "Device=iPad<br>startYear=%{x}<br>imgCount=%{y}<extra></extra>",
         "legendgroup": "iPad",
         "line": {
          "color": "#00cc96",
          "dash": "solid"
         },
         "marker": {
          "symbol": "circle"
         },
         "mode": "lines+markers",
         "name": "iPad",
         "orientation": "v",
         "showlegend": true,
         "type": "scatter",
         "x": [
          2003,
          2005,
          2007,
          2009,
          2011,
          2012,
          2013,
          2014,
          2015,
          2016,
          2017,
          2018,
          2019,
          2020,
          2021,
          2022,
          2023
         ],
         "xaxis": "x",
         "y": [
          1,
          4,
          6,
          2,
          3,
          2,
          8,
          3,
          11,
          28,
          6,
          27,
          27,
          24,
          74,
          75,
          60
         ],
         "yaxis": "y"
        },
        {
         "hovertemplate": "Device=iPhone<br>startYear=%{x}<br>imgCount=%{y}<extra></extra>",
         "legendgroup": "iPhone",
         "line": {
          "color": "#ab63fa",
          "dash": "solid"
         },
         "marker": {
          "symbol": "circle"
         },
         "mode": "lines+markers",
         "name": "iPhone",
         "orientation": "v",
         "showlegend": true,
         "type": "scatter",
         "x": [
          2003,
          2005,
          2006,
          2007,
          2009,
          2011,
          2012,
          2013,
          2014,
          2015,
          2016,
          2017,
          2018,
          2019,
          2020,
          2021,
          2022,
          2023
         ],
         "xaxis": "x",
         "y": [
          5,
          3,
          3,
          22,
          4,
          11,
          7,
          5,
          8,
          33,
          67,
          15,
          92,
          99,
          161,
          228,
          295,
          231
         ],
         "yaxis": "y"
        },
        {
         "hovertemplate": "Device=Apple Watch<br>startYear=%{x}<br>imgCount=%{y}<extra></extra>",
         "legendgroup": "Apple Watch",
         "line": {
          "color": "#FFA15A",
          "dash": "solid"
         },
         "marker": {
          "symbol": "circle"
         },
         "mode": "lines+markers",
         "name": "Apple Watch",
         "orientation": "v",
         "showlegend": true,
         "type": "scatter",
         "x": [
          2009,
          2011,
          2015,
          2016,
          2018,
          2019,
          2020,
          2021,
          2022,
          2023
         ],
         "xaxis": "x",
         "y": [
          3,
          1,
          22,
          10,
          2,
          44,
          12,
          44,
          50,
          39
         ],
         "yaxis": "y"
        },
        {
         "hovertemplate": "Device=macOS<br>startYear=%{x}<br>imgCount=%{y}<extra></extra>",
         "legendgroup": "macOS",
         "line": {
          "color": "#19d3f3",
          "dash": "solid"
         },
         "marker": {
          "symbol": "circle"
         },
         "mode": "lines+markers",
         "name": "macOS",
         "orientation": "v",
         "showlegend": true,
         "type": "scatter",
         "x": [
          2016,
          2020,
          2021,
          2023
         ],
         "xaxis": "x",
         "y": [
          1,
          1,
          1,
          9
         ],
         "yaxis": "y"
        },
        {
         "hovertemplate": "Device=AirPods<br>startYear=%{x}<br>imgCount=%{y}<extra></extra>",
         "legendgroup": "AirPods",
         "line": {
          "color": "#FF6692",
          "dash": "solid"
         },
         "marker": {
          "symbol": "circle"
         },
         "mode": "lines+markers",
         "name": "AirPods",
         "orientation": "v",
         "showlegend": true,
         "type": "scatter",
         "x": [
          2018,
          2019,
          2020,
          2021,
          2022,
          2023
         ],
         "xaxis": "x",
         "y": [
          1,
          4,
          3,
          5,
          7,
          15
         ],
         "yaxis": "y"
        }
       ],
       "layout": {
        "legend": {
         "title": {
          "text": "Device"
         },
         "tracegroupgap": 0
        },
        "margin": {
         "t": 60
        },
        "template": {
         "data": {
          "bar": [
           {
            "error_x": {
             "color": "#2a3f5f"
            },
            "error_y": {
             "color": "#2a3f5f"
            },
            "marker": {
             "line": {
              "color": "#E5ECF6",
              "width": 0.5
             },
             "pattern": {
              "fillmode": "overlay",
              "size": 10,
              "solidity": 0.2
             }
            },
            "type": "bar"
           }
          ],
          "barpolar": [
           {
            "marker": {
             "line": {
              "color": "#E5ECF6",
              "width": 0.5
             },
             "pattern": {
              "fillmode": "overlay",
              "size": 10,
              "solidity": 0.2
             }
            },
            "type": "barpolar"
           }
          ],
          "carpet": [
           {
            "aaxis": {
             "endlinecolor": "#2a3f5f",
             "gridcolor": "white",
             "linecolor": "white",
             "minorgridcolor": "white",
             "startlinecolor": "#2a3f5f"
            },
            "baxis": {
             "endlinecolor": "#2a3f5f",
             "gridcolor": "white",
             "linecolor": "white",
             "minorgridcolor": "white",
             "startlinecolor": "#2a3f5f"
            },
            "type": "carpet"
           }
          ],
          "choropleth": [
           {
            "colorbar": {
             "outlinewidth": 0,
             "ticks": ""
            },
            "type": "choropleth"
           }
          ],
          "contour": [
           {
            "colorbar": {
             "outlinewidth": 0,
             "ticks": ""
            },
            "colorscale": [
             [
              0,
              "#0d0887"
             ],
             [
              0.1111111111111111,
              "#46039f"
             ],
             [
              0.2222222222222222,
              "#7201a8"
             ],
             [
              0.3333333333333333,
              "#9c179e"
             ],
             [
              0.4444444444444444,
              "#bd3786"
             ],
             [
              0.5555555555555556,
              "#d8576b"
             ],
             [
              0.6666666666666666,
              "#ed7953"
             ],
             [
              0.7777777777777778,
              "#fb9f3a"
             ],
             [
              0.8888888888888888,
              "#fdca26"
             ],
             [
              1,
              "#f0f921"
             ]
            ],
            "type": "contour"
           }
          ],
          "contourcarpet": [
           {
            "colorbar": {
             "outlinewidth": 0,
             "ticks": ""
            },
            "type": "contourcarpet"
           }
          ],
          "heatmap": [
           {
            "colorbar": {
             "outlinewidth": 0,
             "ticks": ""
            },
            "colorscale": [
             [
              0,
              "#0d0887"
             ],
             [
              0.1111111111111111,
              "#46039f"
             ],
             [
              0.2222222222222222,
              "#7201a8"
             ],
             [
              0.3333333333333333,
              "#9c179e"
             ],
             [
              0.4444444444444444,
              "#bd3786"
             ],
             [
              0.5555555555555556,
              "#d8576b"
             ],
             [
              0.6666666666666666,
              "#ed7953"
             ],
             [
              0.7777777777777778,
              "#fb9f3a"
             ],
             [
              0.8888888888888888,
              "#fdca26"
             ],
             [
              1,
              "#f0f921"
             ]
            ],
            "type": "heatmap"
           }
          ],
          "heatmapgl": [
           {
            "colorbar": {
             "outlinewidth": 0,
             "ticks": ""
            },
            "colorscale": [
             [
              0,
              "#0d0887"
             ],
             [
              0.1111111111111111,
              "#46039f"
             ],
             [
              0.2222222222222222,
              "#7201a8"
             ],
             [
              0.3333333333333333,
              "#9c179e"
             ],
             [
              0.4444444444444444,
              "#bd3786"
             ],
             [
              0.5555555555555556,
              "#d8576b"
             ],
             [
              0.6666666666666666,
              "#ed7953"
             ],
             [
              0.7777777777777778,
              "#fb9f3a"
             ],
             [
              0.8888888888888888,
              "#fdca26"
             ],
             [
              1,
              "#f0f921"
             ]
            ],
            "type": "heatmapgl"
           }
          ],
          "histogram": [
           {
            "marker": {
             "pattern": {
              "fillmode": "overlay",
              "size": 10,
              "solidity": 0.2
             }
            },
            "type": "histogram"
           }
          ],
          "histogram2d": [
           {
            "colorbar": {
             "outlinewidth": 0,
             "ticks": ""
            },
            "colorscale": [
             [
              0,
              "#0d0887"
             ],
             [
              0.1111111111111111,
              "#46039f"
             ],
             [
              0.2222222222222222,
              "#7201a8"
             ],
             [
              0.3333333333333333,
              "#9c179e"
             ],
             [
              0.4444444444444444,
              "#bd3786"
             ],
             [
              0.5555555555555556,
              "#d8576b"
             ],
             [
              0.6666666666666666,
              "#ed7953"
             ],
             [
              0.7777777777777778,
              "#fb9f3a"
             ],
             [
              0.8888888888888888,
              "#fdca26"
             ],
             [
              1,
              "#f0f921"
             ]
            ],
            "type": "histogram2d"
           }
          ],
          "histogram2dcontour": [
           {
            "colorbar": {
             "outlinewidth": 0,
             "ticks": ""
            },
            "colorscale": [
             [
              0,
              "#0d0887"
             ],
             [
              0.1111111111111111,
              "#46039f"
             ],
             [
              0.2222222222222222,
              "#7201a8"
             ],
             [
              0.3333333333333333,
              "#9c179e"
             ],
             [
              0.4444444444444444,
              "#bd3786"
             ],
             [
              0.5555555555555556,
              "#d8576b"
             ],
             [
              0.6666666666666666,
              "#ed7953"
             ],
             [
              0.7777777777777778,
              "#fb9f3a"
             ],
             [
              0.8888888888888888,
              "#fdca26"
             ],
             [
              1,
              "#f0f921"
             ]
            ],
            "type": "histogram2dcontour"
           }
          ],
          "mesh3d": [
           {
            "colorbar": {
             "outlinewidth": 0,
             "ticks": ""
            },
            "type": "mesh3d"
           }
          ],
          "parcoords": [
           {
            "line": {
             "colorbar": {
              "outlinewidth": 0,
              "ticks": ""
             }
            },
            "type": "parcoords"
           }
          ],
          "pie": [
           {
            "automargin": true,
            "type": "pie"
           }
          ],
          "scatter": [
           {
            "fillpattern": {
             "fillmode": "overlay",
             "size": 10,
             "solidity": 0.2
            },
            "type": "scatter"
           }
          ],
          "scatter3d": [
           {
            "line": {
             "colorbar": {
              "outlinewidth": 0,
              "ticks": ""
             }
            },
            "marker": {
             "colorbar": {
              "outlinewidth": 0,
              "ticks": ""
             }
            },
            "type": "scatter3d"
           }
          ],
          "scattercarpet": [
           {
            "marker": {
             "colorbar": {
              "outlinewidth": 0,
              "ticks": ""
             }
            },
            "type": "scattercarpet"
           }
          ],
          "scattergeo": [
           {
            "marker": {
             "colorbar": {
              "outlinewidth": 0,
              "ticks": ""
             }
            },
            "type": "scattergeo"
           }
          ],
          "scattergl": [
           {
            "marker": {
             "colorbar": {
              "outlinewidth": 0,
              "ticks": ""
             }
            },
            "type": "scattergl"
           }
          ],
          "scattermapbox": [
           {
            "marker": {
             "colorbar": {
              "outlinewidth": 0,
              "ticks": ""
             }
            },
            "type": "scattermapbox"
           }
          ],
          "scatterpolar": [
           {
            "marker": {
             "colorbar": {
              "outlinewidth": 0,
              "ticks": ""
             }
            },
            "type": "scatterpolar"
           }
          ],
          "scatterpolargl": [
           {
            "marker": {
             "colorbar": {
              "outlinewidth": 0,
              "ticks": ""
             }
            },
            "type": "scatterpolargl"
           }
          ],
          "scatterternary": [
           {
            "marker": {
             "colorbar": {
              "outlinewidth": 0,
              "ticks": ""
             }
            },
            "type": "scatterternary"
           }
          ],
          "surface": [
           {
            "colorbar": {
             "outlinewidth": 0,
             "ticks": ""
            },
            "colorscale": [
             [
              0,
              "#0d0887"
             ],
             [
              0.1111111111111111,
              "#46039f"
             ],
             [
              0.2222222222222222,
              "#7201a8"
             ],
             [
              0.3333333333333333,
              "#9c179e"
             ],
             [
              0.4444444444444444,
              "#bd3786"
             ],
             [
              0.5555555555555556,
              "#d8576b"
             ],
             [
              0.6666666666666666,
              "#ed7953"
             ],
             [
              0.7777777777777778,
              "#fb9f3a"
             ],
             [
              0.8888888888888888,
              "#fdca26"
             ],
             [
              1,
              "#f0f921"
             ]
            ],
            "type": "surface"
           }
          ],
          "table": [
           {
            "cells": {
             "fill": {
              "color": "#EBF0F8"
             },
             "line": {
              "color": "white"
             }
            },
            "header": {
             "fill": {
              "color": "#C8D4E3"
             },
             "line": {
              "color": "white"
             }
            },
            "type": "table"
           }
          ]
         },
         "layout": {
          "annotationdefaults": {
           "arrowcolor": "#2a3f5f",
           "arrowhead": 0,
           "arrowwidth": 1
          },
          "autotypenumbers": "strict",
          "coloraxis": {
           "colorbar": {
            "outlinewidth": 0,
            "ticks": ""
           }
          },
          "colorscale": {
           "diverging": [
            [
             0,
             "#8e0152"
            ],
            [
             0.1,
             "#c51b7d"
            ],
            [
             0.2,
             "#de77ae"
            ],
            [
             0.3,
             "#f1b6da"
            ],
            [
             0.4,
             "#fde0ef"
            ],
            [
             0.5,
             "#f7f7f7"
            ],
            [
             0.6,
             "#e6f5d0"
            ],
            [
             0.7,
             "#b8e186"
            ],
            [
             0.8,
             "#7fbc41"
            ],
            [
             0.9,
             "#4d9221"
            ],
            [
             1,
             "#276419"
            ]
           ],
           "sequential": [
            [
             0,
             "#0d0887"
            ],
            [
             0.1111111111111111,
             "#46039f"
            ],
            [
             0.2222222222222222,
             "#7201a8"
            ],
            [
             0.3333333333333333,
             "#9c179e"
            ],
            [
             0.4444444444444444,
             "#bd3786"
            ],
            [
             0.5555555555555556,
             "#d8576b"
            ],
            [
             0.6666666666666666,
             "#ed7953"
            ],
            [
             0.7777777777777778,
             "#fb9f3a"
            ],
            [
             0.8888888888888888,
             "#fdca26"
            ],
            [
             1,
             "#f0f921"
            ]
           ],
           "sequentialminus": [
            [
             0,
             "#0d0887"
            ],
            [
             0.1111111111111111,
             "#46039f"
            ],
            [
             0.2222222222222222,
             "#7201a8"
            ],
            [
             0.3333333333333333,
             "#9c179e"
            ],
            [
             0.4444444444444444,
             "#bd3786"
            ],
            [
             0.5555555555555556,
             "#d8576b"
            ],
            [
             0.6666666666666666,
             "#ed7953"
            ],
            [
             0.7777777777777778,
             "#fb9f3a"
            ],
            [
             0.8888888888888888,
             "#fdca26"
            ],
            [
             1,
             "#f0f921"
            ]
           ]
          },
          "colorway": [
           "#636efa",
           "#EF553B",
           "#00cc96",
           "#ab63fa",
           "#FFA15A",
           "#19d3f3",
           "#FF6692",
           "#B6E880",
           "#FF97FF",
           "#FECB52"
          ],
          "font": {
           "color": "#2a3f5f"
          },
          "geo": {
           "bgcolor": "white",
           "lakecolor": "white",
           "landcolor": "#E5ECF6",
           "showlakes": true,
           "showland": true,
           "subunitcolor": "white"
          },
          "hoverlabel": {
           "align": "left"
          },
          "hovermode": "closest",
          "mapbox": {
           "style": "light"
          },
          "paper_bgcolor": "white",
          "plot_bgcolor": "#E5ECF6",
          "polar": {
           "angularaxis": {
            "gridcolor": "white",
            "linecolor": "white",
            "ticks": ""
           },
           "bgcolor": "#E5ECF6",
           "radialaxis": {
            "gridcolor": "white",
            "linecolor": "white",
            "ticks": ""
           }
          },
          "scene": {
           "xaxis": {
            "backgroundcolor": "#E5ECF6",
            "gridcolor": "white",
            "gridwidth": 2,
            "linecolor": "white",
            "showbackground": true,
            "ticks": "",
            "zerolinecolor": "white"
           },
           "yaxis": {
            "backgroundcolor": "#E5ECF6",
            "gridcolor": "white",
            "gridwidth": 2,
            "linecolor": "white",
            "showbackground": true,
            "ticks": "",
            "zerolinecolor": "white"
           },
           "zaxis": {
            "backgroundcolor": "#E5ECF6",
            "gridcolor": "white",
            "gridwidth": 2,
            "linecolor": "white",
            "showbackground": true,
            "ticks": "",
            "zerolinecolor": "white"
           }
          },
          "shapedefaults": {
           "line": {
            "color": "#2a3f5f"
           }
          },
          "ternary": {
           "aaxis": {
            "gridcolor": "white",
            "linecolor": "white",
            "ticks": ""
           },
           "baxis": {
            "gridcolor": "white",
            "linecolor": "white",
            "ticks": ""
           },
           "bgcolor": "#E5ECF6",
           "caxis": {
            "gridcolor": "white",
            "linecolor": "white",
            "ticks": ""
           }
          },
          "title": {
           "x": 0.05
          },
          "xaxis": {
           "automargin": true,
           "gridcolor": "white",
           "linecolor": "white",
           "ticks": "",
           "title": {
            "standoff": 15
           },
           "zerolinecolor": "white",
           "zerolinewidth": 2
          },
          "yaxis": {
           "automargin": true,
           "gridcolor": "white",
           "linecolor": "white",
           "ticks": "",
           "title": {
            "standoff": 15
           },
           "zerolinecolor": "white",
           "zerolinewidth": 2
          }
         }
        },
        "xaxis": {
         "anchor": "y",
         "domain": [
          0,
          1
         ],
         "title": {
          "text": "startYear"
         }
        },
        "yaxis": {
         "anchor": "x",
         "domain": [
          0,
          1
         ],
         "title": {
          "text": "imgCount"
         }
        }
       }
      }
     },
     "metadata": {},
     "output_type": "display_data"
    }
   ],
   "source": [
    "fig5 = px.line(\n",
    "    resolved_data2,\n",
    "    x='startYear',\n",
    "    y='imgCount',\n",
    "    color='Device',\n",
    "    markers=True\n",
    ")\n",
    "fig5.show()"
   ]
  },
  {
   "cell_type": "code",
   "execution_count": 15,
   "metadata": {},
   "outputs": [
    {
     "data": {
      "text/html": [
       "<div>\n",
       "<style scoped>\n",
       "    .dataframe tbody tr th:only-of-type {\n",
       "        vertical-align: middle;\n",
       "    }\n",
       "\n",
       "    .dataframe tbody tr th {\n",
       "        vertical-align: top;\n",
       "    }\n",
       "\n",
       "    .dataframe thead th {\n",
       "        text-align: right;\n",
       "    }\n",
       "</style>\n",
       "<table border=\"1\" class=\"dataframe\">\n",
       "  <thead>\n",
       "    <tr style=\"text-align: right;\">\n",
       "      <th></th>\n",
       "      <th>tconst</th>\n",
       "      <th>Title</th>\n",
       "      <th>Season</th>\n",
       "      <th>Episode</th>\n",
       "      <th>imgCount</th>\n",
       "      <th>averageRating</th>\n",
       "      <th>numVotes</th>\n",
       "      <th>startYear</th>\n",
       "      <th>Media</th>\n",
       "      <th>Device</th>\n",
       "    </tr>\n",
       "  </thead>\n",
       "  <tbody>\n",
       "    <tr>\n",
       "      <th>0</th>\n",
       "      <td>tt7991508</td>\n",
       "      <td>Finestkind (2023)</td>\n",
       "      <td>-1.0</td>\n",
       "      <td>-1.0</td>\n",
       "      <td>18</td>\n",
       "      <td>6.4</td>\n",
       "      <td>173</td>\n",
       "      <td>2023</td>\n",
       "      <td>Movie</td>\n",
       "      <td>iPhone</td>\n",
       "    </tr>\n",
       "    <tr>\n",
       "      <th>1</th>\n",
       "      <td>tt6722400</td>\n",
       "      <td>Fast Charlie (2023)</td>\n",
       "      <td>-1.0</td>\n",
       "      <td>-1.0</td>\n",
       "      <td>11</td>\n",
       "      <td>9.4</td>\n",
       "      <td>96</td>\n",
       "      <td>2023</td>\n",
       "      <td>Movie</td>\n",
       "      <td>iPhone</td>\n",
       "    </tr>\n",
       "    <tr>\n",
       "      <th>2</th>\n",
       "      <td>tt13651794</td>\n",
       "      <td>May December (2023)</td>\n",
       "      <td>-1.0</td>\n",
       "      <td>-1.0</td>\n",
       "      <td>9</td>\n",
       "      <td>7.4</td>\n",
       "      <td>1345</td>\n",
       "      <td>2023</td>\n",
       "      <td>Movie</td>\n",
       "      <td>iPhone</td>\n",
       "    </tr>\n",
       "    <tr>\n",
       "      <th>3</th>\n",
       "      <td>tt19890316</td>\n",
       "      <td>What Happens Later (2023)</td>\n",
       "      <td>-1.0</td>\n",
       "      <td>-1.0</td>\n",
       "      <td>25</td>\n",
       "      <td>7.6</td>\n",
       "      <td>14</td>\n",
       "      <td>2023</td>\n",
       "      <td>Movie</td>\n",
       "      <td>iPhone</td>\n",
       "    </tr>\n",
       "    <tr>\n",
       "      <th>4</th>\n",
       "      <td>tt15744298</td>\n",
       "      <td>Freelance (2023)</td>\n",
       "      <td>-1.0</td>\n",
       "      <td>-1.0</td>\n",
       "      <td>106</td>\n",
       "      <td>5.3</td>\n",
       "      <td>374</td>\n",
       "      <td>2023</td>\n",
       "      <td>Movie</td>\n",
       "      <td>iPhone</td>\n",
       "    </tr>\n",
       "  </tbody>\n",
       "</table>\n",
       "</div>"
      ],
      "text/plain": [
       "       tconst                      Title  Season  Episode  imgCount  \\\n",
       "0   tt7991508          Finestkind (2023)    -1.0     -1.0        18   \n",
       "1   tt6722400        Fast Charlie (2023)    -1.0     -1.0        11   \n",
       "2  tt13651794        May December (2023)    -1.0     -1.0         9   \n",
       "3  tt19890316  What Happens Later (2023)    -1.0     -1.0        25   \n",
       "4  tt15744298           Freelance (2023)    -1.0     -1.0       106   \n",
       "\n",
       "   averageRating  numVotes  startYear  Media  Device  \n",
       "0            6.4       173       2023  Movie  iPhone  \n",
       "1            9.4        96       2023  Movie  iPhone  \n",
       "2            7.4      1345       2023  Movie  iPhone  \n",
       "3            7.6        14       2023  Movie  iPhone  \n",
       "4            5.3       374       2023  Movie  iPhone  "
      ]
     },
     "execution_count": 15,
     "metadata": {},
     "output_type": "execute_result"
    }
   ],
   "source": [
    "df.head()"
   ]
  },
  {
   "cell_type": "code",
   "execution_count": 28,
   "metadata": {},
   "outputs": [
    {
     "name": "stdout",
     "output_type": "stream",
     "text": [
      "[2001 2003 2005 2006 2007 2008 2009 2011 2012 2013 2014 2015 2016 2017\n",
      " 2018 2019 2020 2021 2022 2023]\n"
     ]
    }
   ],
   "source": [
    "years = df['startYear'].unique()\n",
    "years = np.sort(years)\n",
    "print(years)"
   ]
  },
  {
   "cell_type": "code",
   "execution_count": null,
   "metadata": {},
   "outputs": [],
   "source": []
  }
 ],
 "metadata": {
  "kernelspec": {
   "display_name": "ds4003",
   "language": "python",
   "name": "python3"
  },
  "language_info": {
   "codemirror_mode": {
    "name": "ipython",
    "version": 3
   },
   "file_extension": ".py",
   "mimetype": "text/x-python",
   "name": "python",
   "nbconvert_exporter": "python",
   "pygments_lexer": "ipython3",
   "version": "3.8.18"
  }
 },
 "nbformat": 4,
 "nbformat_minor": 2
}
